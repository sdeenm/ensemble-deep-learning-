{
 "cells": [
  {
   "cell_type": "code",
   "execution_count": null,
   "metadata": {
    "id": "QR6BhRC6CS-_"
   },
   "outputs": [],
   "source": [
    "# https://www.section.io/engineering-education/image-preprocessing-in-python/"
   ]
  },
  {
   "cell_type": "markdown",
   "metadata": {
    "id": "LEVtLR_wK3o5"
   },
   "source": [
    "# library"
   ]
  },
  {
   "cell_type": "code",
   "execution_count": 1,
   "metadata": {
    "id": "F8nZKdPGogQD"
   },
   "outputs": [],
   "source": [
    "# Import necessary libraries\n",
    "import numpy as np\n",
    "import tensorflow as tf\n",
    "from tensorflow.keras.applications import ResNet50, ResNet152, VGG16\n",
    "from tensorflow.keras.preprocessing.image import ImageDataGenerator\n",
    "from sklearn.metrics import confusion_matrix, precision_score, recall_score, f1_score\n",
    "import matplotlib.pyplot as plt\n",
    "import seaborn as sns\n",
    "from sklearn.metrics import confusion_matrix\n",
    "from sklearn.metrics import accuracy_score\n",
    "from tensorflow.keras.models import Model, load_model\n",
    "from tensorflow.keras.layers import Input, Average\n",
    "from tensorflow.keras.optimizers import Adam\n",
    "from tensorflow.keras.callbacks import EarlyStopping\n",
    "\n",
    "import random\n",
    "import time\n",
    "opt = Adam(learning_rate = 0.0001)\n",
    "model_path = './model_224_32_50'"
   ]
  },
  {
   "cell_type": "code",
   "execution_count": 2,
   "metadata": {},
   "outputs": [
    {
     "name": "stdout",
     "output_type": "stream",
     "text": [
      "WARNING:tensorflow:From C:\\Users\\PC\\AppData\\Local\\Temp\\ipykernel_3564\\337460670.py:1: is_gpu_available (from tensorflow.python.framework.test_util) is deprecated and will be removed in a future version.\n",
      "Instructions for updating:\n",
      "Use `tf.config.list_physical_devices('GPU')` instead.\n"
     ]
    },
    {
     "data": {
      "text/plain": [
       "True"
      ]
     },
     "execution_count": 2,
     "metadata": {},
     "output_type": "execute_result"
    }
   ],
   "source": [
    "tf.test.is_gpu_available()"
   ]
  },
  {
   "cell_type": "code",
   "execution_count": 3,
   "metadata": {},
   "outputs": [
    {
     "data": {
      "text/plain": [
       "[PhysicalDevice(name='/physical_device:GPU:0', device_type='GPU')]"
      ]
     },
     "execution_count": 3,
     "metadata": {},
     "output_type": "execute_result"
    }
   ],
   "source": [
    "tf.config.list_physical_devices('GPU')"
   ]
  },
  {
   "cell_type": "markdown",
   "metadata": {
    "jp-MarkdownHeadingCollapsed": true,
    "tags": []
   },
   "source": [
    "# converting to greyscale"
   ]
  },
  {
   "cell_type": "code",
   "execution_count": 60,
   "metadata": {},
   "outputs": [
    {
     "name": "stdout",
     "output_type": "stream",
     "text": [
      "0.22.0\n"
     ]
    }
   ],
   "source": [
    "import skimage\n",
    "print(skimage.__version__)"
   ]
  },
  {
   "cell_type": "code",
   "execution_count": 143,
   "metadata": {},
   "outputs": [],
   "source": [
    "# importing libraries\n",
    "import tensorflow \n",
    "import keras  \n",
    "import os\n",
    "import glob \n",
    "from skimage import io \n",
    "import random \n",
    "import numpy as np\n",
    "import matplotlib.pyplot as plt  \n",
    "%matplotlib inline\n",
    "import cv2"
   ]
  },
  {
   "cell_type": "code",
   "execution_count": 145,
   "metadata": {},
   "outputs": [],
   "source": [
    "import os\n",
    "\n",
    "# Specify the directory containing the images\n",
    "image_directory = 'C:/Users/PC/Desktop/Github Projects/SAM-transfer learning/Pituitary Classification/data/train/no_tumor/'\n",
    "\n",
    "# Create an empty list to store the URLs\n",
    "image_urls = []\n",
    "\n",
    "# Iterate through the files in the directory\n",
    "for filename in os.listdir(image_directory):\n",
    "    # Check if the file is an image (you can customize this condition)\n",
    "    if filename.lower().endswith(('.png', '.jpg', '.jpeg', '.gif', '.bmp')):\n",
    "        # Create a URL using the file path\n",
    "        file_path = os.path.join(image_directory, filename)\n",
    "        file_url = file_path  # For local file URLs\n",
    "        # Append the URL to the list\n",
    "        image_urls.append(file_url)"
   ]
  },
  {
   "cell_type": "code",
   "execution_count": 146,
   "metadata": {},
   "outputs": [
    {
     "data": {
      "text/plain": [
       "1330"
      ]
     },
     "execution_count": 146,
     "metadata": {},
     "output_type": "execute_result"
    }
   ],
   "source": [
    "len(image_urls)"
   ]
  },
  {
   "cell_type": "code",
   "execution_count": 147,
   "metadata": {
    "collapsed": true,
    "jupyter": {
     "outputs_hidden": true
    },
    "tags": []
   },
   "outputs": [
    {
     "data": {
      "text/plain": [
       "['C:/Users/PC/Desktop/Github Projects/SAM-transfer learning/Pituitary Classification/data/train/no_tumor/1 no.jpeg',\n",
       " 'C:/Users/PC/Desktop/Github Projects/SAM-transfer learning/Pituitary Classification/data/train/no_tumor/1.jpg',\n",
       " 'C:/Users/PC/Desktop/Github Projects/SAM-transfer learning/Pituitary Classification/data/train/no_tumor/10 no.jpg',\n",
       " 'C:/Users/PC/Desktop/Github Projects/SAM-transfer learning/Pituitary Classification/data/train/no_tumor/11 no.jpg',\n",
       " 'C:/Users/PC/Desktop/Github Projects/SAM-transfer learning/Pituitary Classification/data/train/no_tumor/12 no.jpg',\n",
       " 'C:/Users/PC/Desktop/Github Projects/SAM-transfer learning/Pituitary Classification/data/train/no_tumor/13 no.jpg',\n",
       " 'C:/Users/PC/Desktop/Github Projects/SAM-transfer learning/Pituitary Classification/data/train/no_tumor/14 no.jpg',\n",
       " 'C:/Users/PC/Desktop/Github Projects/SAM-transfer learning/Pituitary Classification/data/train/no_tumor/15 no.jpg',\n",
       " 'C:/Users/PC/Desktop/Github Projects/SAM-transfer learning/Pituitary Classification/data/train/no_tumor/17 no.jpg',\n",
       " 'C:/Users/PC/Desktop/Github Projects/SAM-transfer learning/Pituitary Classification/data/train/no_tumor/18 no.jpg',\n",
       " 'C:/Users/PC/Desktop/Github Projects/SAM-transfer learning/Pituitary Classification/data/train/no_tumor/19 no.jpg',\n",
       " 'C:/Users/PC/Desktop/Github Projects/SAM-transfer learning/Pituitary Classification/data/train/no_tumor/2 no.jpeg',\n",
       " 'C:/Users/PC/Desktop/Github Projects/SAM-transfer learning/Pituitary Classification/data/train/no_tumor/2.jpg',\n",
       " 'C:/Users/PC/Desktop/Github Projects/SAM-transfer learning/Pituitary Classification/data/train/no_tumor/20 no.jpg',\n",
       " 'C:/Users/PC/Desktop/Github Projects/SAM-transfer learning/Pituitary Classification/data/train/no_tumor/21 no.jpg',\n",
       " 'C:/Users/PC/Desktop/Github Projects/SAM-transfer learning/Pituitary Classification/data/train/no_tumor/22 no.jpg',\n",
       " 'C:/Users/PC/Desktop/Github Projects/SAM-transfer learning/Pituitary Classification/data/train/no_tumor/23 no.jpg',\n",
       " 'C:/Users/PC/Desktop/Github Projects/SAM-transfer learning/Pituitary Classification/data/train/no_tumor/24 no.jpg',\n",
       " 'C:/Users/PC/Desktop/Github Projects/SAM-transfer learning/Pituitary Classification/data/train/no_tumor/25 no.jpg',\n",
       " 'C:/Users/PC/Desktop/Github Projects/SAM-transfer learning/Pituitary Classification/data/train/no_tumor/26 no.jpg',\n",
       " 'C:/Users/PC/Desktop/Github Projects/SAM-transfer learning/Pituitary Classification/data/train/no_tumor/27 no.jpg',\n",
       " 'C:/Users/PC/Desktop/Github Projects/SAM-transfer learning/Pituitary Classification/data/train/no_tumor/28 no.jpg',\n",
       " 'C:/Users/PC/Desktop/Github Projects/SAM-transfer learning/Pituitary Classification/data/train/no_tumor/29 no.jpg',\n",
       " 'C:/Users/PC/Desktop/Github Projects/SAM-transfer learning/Pituitary Classification/data/train/no_tumor/3 no.jpg',\n",
       " 'C:/Users/PC/Desktop/Github Projects/SAM-transfer learning/Pituitary Classification/data/train/no_tumor/3.jpg',\n",
       " 'C:/Users/PC/Desktop/Github Projects/SAM-transfer learning/Pituitary Classification/data/train/no_tumor/30 no.jpg',\n",
       " 'C:/Users/PC/Desktop/Github Projects/SAM-transfer learning/Pituitary Classification/data/train/no_tumor/31 no.jpg',\n",
       " 'C:/Users/PC/Desktop/Github Projects/SAM-transfer learning/Pituitary Classification/data/train/no_tumor/32 no.jpg',\n",
       " 'C:/Users/PC/Desktop/Github Projects/SAM-transfer learning/Pituitary Classification/data/train/no_tumor/33 no.jpg',\n",
       " 'C:/Users/PC/Desktop/Github Projects/SAM-transfer learning/Pituitary Classification/data/train/no_tumor/34 no.jpg',\n",
       " 'C:/Users/PC/Desktop/Github Projects/SAM-transfer learning/Pituitary Classification/data/train/no_tumor/35 no.jpg',\n",
       " 'C:/Users/PC/Desktop/Github Projects/SAM-transfer learning/Pituitary Classification/data/train/no_tumor/36 no.jpg',\n",
       " 'C:/Users/PC/Desktop/Github Projects/SAM-transfer learning/Pituitary Classification/data/train/no_tumor/37 no.jpg',\n",
       " 'C:/Users/PC/Desktop/Github Projects/SAM-transfer learning/Pituitary Classification/data/train/no_tumor/38 no.jpg',\n",
       " 'C:/Users/PC/Desktop/Github Projects/SAM-transfer learning/Pituitary Classification/data/train/no_tumor/39 no.jpg',\n",
       " 'C:/Users/PC/Desktop/Github Projects/SAM-transfer learning/Pituitary Classification/data/train/no_tumor/4 no.jpg',\n",
       " 'C:/Users/PC/Desktop/Github Projects/SAM-transfer learning/Pituitary Classification/data/train/no_tumor/4.jpg',\n",
       " 'C:/Users/PC/Desktop/Github Projects/SAM-transfer learning/Pituitary Classification/data/train/no_tumor/40 no.jpg',\n",
       " 'C:/Users/PC/Desktop/Github Projects/SAM-transfer learning/Pituitary Classification/data/train/no_tumor/41 no.jpg',\n",
       " 'C:/Users/PC/Desktop/Github Projects/SAM-transfer learning/Pituitary Classification/data/train/no_tumor/42 no.jpg',\n",
       " 'C:/Users/PC/Desktop/Github Projects/SAM-transfer learning/Pituitary Classification/data/train/no_tumor/43 no.jpg',\n",
       " 'C:/Users/PC/Desktop/Github Projects/SAM-transfer learning/Pituitary Classification/data/train/no_tumor/44no.jpg',\n",
       " 'C:/Users/PC/Desktop/Github Projects/SAM-transfer learning/Pituitary Classification/data/train/no_tumor/45 no.jpg',\n",
       " 'C:/Users/PC/Desktop/Github Projects/SAM-transfer learning/Pituitary Classification/data/train/no_tumor/46 no.jpg',\n",
       " 'C:/Users/PC/Desktop/Github Projects/SAM-transfer learning/Pituitary Classification/data/train/no_tumor/47 no.jpg',\n",
       " 'C:/Users/PC/Desktop/Github Projects/SAM-transfer learning/Pituitary Classification/data/train/no_tumor/48 no.jpeg',\n",
       " 'C:/Users/PC/Desktop/Github Projects/SAM-transfer learning/Pituitary Classification/data/train/no_tumor/49 no.jpg',\n",
       " 'C:/Users/PC/Desktop/Github Projects/SAM-transfer learning/Pituitary Classification/data/train/no_tumor/5 no.jpg',\n",
       " 'C:/Users/PC/Desktop/Github Projects/SAM-transfer learning/Pituitary Classification/data/train/no_tumor/5.jpg',\n",
       " 'C:/Users/PC/Desktop/Github Projects/SAM-transfer learning/Pituitary Classification/data/train/no_tumor/50 no.jpg',\n",
       " 'C:/Users/PC/Desktop/Github Projects/SAM-transfer learning/Pituitary Classification/data/train/no_tumor/6 no.jpg',\n",
       " 'C:/Users/PC/Desktop/Github Projects/SAM-transfer learning/Pituitary Classification/data/train/no_tumor/6.jpg',\n",
       " 'C:/Users/PC/Desktop/Github Projects/SAM-transfer learning/Pituitary Classification/data/train/no_tumor/7 no.jpg',\n",
       " 'C:/Users/PC/Desktop/Github Projects/SAM-transfer learning/Pituitary Classification/data/train/no_tumor/7.jpg',\n",
       " 'C:/Users/PC/Desktop/Github Projects/SAM-transfer learning/Pituitary Classification/data/train/no_tumor/8 no.jpg',\n",
       " 'C:/Users/PC/Desktop/Github Projects/SAM-transfer learning/Pituitary Classification/data/train/no_tumor/8.jpg',\n",
       " 'C:/Users/PC/Desktop/Github Projects/SAM-transfer learning/Pituitary Classification/data/train/no_tumor/9 no.jpg',\n",
       " 'C:/Users/PC/Desktop/Github Projects/SAM-transfer learning/Pituitary Classification/data/train/no_tumor/image (10).jpg',\n",
       " 'C:/Users/PC/Desktop/Github Projects/SAM-transfer learning/Pituitary Classification/data/train/no_tumor/image (11).jpg',\n",
       " 'C:/Users/PC/Desktop/Github Projects/SAM-transfer learning/Pituitary Classification/data/train/no_tumor/image (12).jpg',\n",
       " 'C:/Users/PC/Desktop/Github Projects/SAM-transfer learning/Pituitary Classification/data/train/no_tumor/image (13).jpg',\n",
       " 'C:/Users/PC/Desktop/Github Projects/SAM-transfer learning/Pituitary Classification/data/train/no_tumor/image (14).jpg',\n",
       " 'C:/Users/PC/Desktop/Github Projects/SAM-transfer learning/Pituitary Classification/data/train/no_tumor/image (15).jpg',\n",
       " 'C:/Users/PC/Desktop/Github Projects/SAM-transfer learning/Pituitary Classification/data/train/no_tumor/image (16).jpg',\n",
       " 'C:/Users/PC/Desktop/Github Projects/SAM-transfer learning/Pituitary Classification/data/train/no_tumor/image (17).jpg',\n",
       " 'C:/Users/PC/Desktop/Github Projects/SAM-transfer learning/Pituitary Classification/data/train/no_tumor/image (18).jpg',\n",
       " 'C:/Users/PC/Desktop/Github Projects/SAM-transfer learning/Pituitary Classification/data/train/no_tumor/image (19).jpg',\n",
       " 'C:/Users/PC/Desktop/Github Projects/SAM-transfer learning/Pituitary Classification/data/train/no_tumor/image (20).jpg',\n",
       " 'C:/Users/PC/Desktop/Github Projects/SAM-transfer learning/Pituitary Classification/data/train/no_tumor/image (21).jpg',\n",
       " 'C:/Users/PC/Desktop/Github Projects/SAM-transfer learning/Pituitary Classification/data/train/no_tumor/image (22).jpg',\n",
       " 'C:/Users/PC/Desktop/Github Projects/SAM-transfer learning/Pituitary Classification/data/train/no_tumor/image (23).jpg',\n",
       " 'C:/Users/PC/Desktop/Github Projects/SAM-transfer learning/Pituitary Classification/data/train/no_tumor/image (24).jpg',\n",
       " 'C:/Users/PC/Desktop/Github Projects/SAM-transfer learning/Pituitary Classification/data/train/no_tumor/image (25).jpg',\n",
       " 'C:/Users/PC/Desktop/Github Projects/SAM-transfer learning/Pituitary Classification/data/train/no_tumor/image (26).jpg',\n",
       " 'C:/Users/PC/Desktop/Github Projects/SAM-transfer learning/Pituitary Classification/data/train/no_tumor/image (27).jpg',\n",
       " 'C:/Users/PC/Desktop/Github Projects/SAM-transfer learning/Pituitary Classification/data/train/no_tumor/image (28).jpg',\n",
       " 'C:/Users/PC/Desktop/Github Projects/SAM-transfer learning/Pituitary Classification/data/train/no_tumor/image (29).jpg',\n",
       " 'C:/Users/PC/Desktop/Github Projects/SAM-transfer learning/Pituitary Classification/data/train/no_tumor/image (30).jpg',\n",
       " 'C:/Users/PC/Desktop/Github Projects/SAM-transfer learning/Pituitary Classification/data/train/no_tumor/image (31).jpg',\n",
       " 'C:/Users/PC/Desktop/Github Projects/SAM-transfer learning/Pituitary Classification/data/train/no_tumor/image (32).jpg',\n",
       " 'C:/Users/PC/Desktop/Github Projects/SAM-transfer learning/Pituitary Classification/data/train/no_tumor/image (33).jpg',\n",
       " 'C:/Users/PC/Desktop/Github Projects/SAM-transfer learning/Pituitary Classification/data/train/no_tumor/image (34).jpg',\n",
       " 'C:/Users/PC/Desktop/Github Projects/SAM-transfer learning/Pituitary Classification/data/train/no_tumor/image (35).jpg',\n",
       " 'C:/Users/PC/Desktop/Github Projects/SAM-transfer learning/Pituitary Classification/data/train/no_tumor/image (36).jpg',\n",
       " 'C:/Users/PC/Desktop/Github Projects/SAM-transfer learning/Pituitary Classification/data/train/no_tumor/image (37).jpg',\n",
       " 'C:/Users/PC/Desktop/Github Projects/SAM-transfer learning/Pituitary Classification/data/train/no_tumor/image (38).jpg',\n",
       " 'C:/Users/PC/Desktop/Github Projects/SAM-transfer learning/Pituitary Classification/data/train/no_tumor/image (39).jpg',\n",
       " 'C:/Users/PC/Desktop/Github Projects/SAM-transfer learning/Pituitary Classification/data/train/no_tumor/image (4).jpg',\n",
       " 'C:/Users/PC/Desktop/Github Projects/SAM-transfer learning/Pituitary Classification/data/train/no_tumor/image (40).jpg',\n",
       " 'C:/Users/PC/Desktop/Github Projects/SAM-transfer learning/Pituitary Classification/data/train/no_tumor/image (41).jpg',\n",
       " 'C:/Users/PC/Desktop/Github Projects/SAM-transfer learning/Pituitary Classification/data/train/no_tumor/image (42).jpg',\n",
       " 'C:/Users/PC/Desktop/Github Projects/SAM-transfer learning/Pituitary Classification/data/train/no_tumor/image (43).jpg',\n",
       " 'C:/Users/PC/Desktop/Github Projects/SAM-transfer learning/Pituitary Classification/data/train/no_tumor/image (44).jpg',\n",
       " 'C:/Users/PC/Desktop/Github Projects/SAM-transfer learning/Pituitary Classification/data/train/no_tumor/image (45).jpg',\n",
       " 'C:/Users/PC/Desktop/Github Projects/SAM-transfer learning/Pituitary Classification/data/train/no_tumor/image (46).jpg',\n",
       " 'C:/Users/PC/Desktop/Github Projects/SAM-transfer learning/Pituitary Classification/data/train/no_tumor/image (47).jpg',\n",
       " 'C:/Users/PC/Desktop/Github Projects/SAM-transfer learning/Pituitary Classification/data/train/no_tumor/image (48).jpg',\n",
       " 'C:/Users/PC/Desktop/Github Projects/SAM-transfer learning/Pituitary Classification/data/train/no_tumor/image (49).jpg',\n",
       " 'C:/Users/PC/Desktop/Github Projects/SAM-transfer learning/Pituitary Classification/data/train/no_tumor/image (5).jpg',\n",
       " 'C:/Users/PC/Desktop/Github Projects/SAM-transfer learning/Pituitary Classification/data/train/no_tumor/image (50).jpg',\n",
       " 'C:/Users/PC/Desktop/Github Projects/SAM-transfer learning/Pituitary Classification/data/train/no_tumor/image (51).jpg',\n",
       " 'C:/Users/PC/Desktop/Github Projects/SAM-transfer learning/Pituitary Classification/data/train/no_tumor/image (52).jpg',\n",
       " 'C:/Users/PC/Desktop/Github Projects/SAM-transfer learning/Pituitary Classification/data/train/no_tumor/image (53).jpg',\n",
       " 'C:/Users/PC/Desktop/Github Projects/SAM-transfer learning/Pituitary Classification/data/train/no_tumor/image (54).jpg',\n",
       " 'C:/Users/PC/Desktop/Github Projects/SAM-transfer learning/Pituitary Classification/data/train/no_tumor/image (55).jpg',\n",
       " 'C:/Users/PC/Desktop/Github Projects/SAM-transfer learning/Pituitary Classification/data/train/no_tumor/image (56).jpg',\n",
       " 'C:/Users/PC/Desktop/Github Projects/SAM-transfer learning/Pituitary Classification/data/train/no_tumor/image (57).jpg',\n",
       " 'C:/Users/PC/Desktop/Github Projects/SAM-transfer learning/Pituitary Classification/data/train/no_tumor/image (58).jpg',\n",
       " 'C:/Users/PC/Desktop/Github Projects/SAM-transfer learning/Pituitary Classification/data/train/no_tumor/image (59).jpg',\n",
       " 'C:/Users/PC/Desktop/Github Projects/SAM-transfer learning/Pituitary Classification/data/train/no_tumor/image (6).jpg',\n",
       " 'C:/Users/PC/Desktop/Github Projects/SAM-transfer learning/Pituitary Classification/data/train/no_tumor/image (60).jpg',\n",
       " 'C:/Users/PC/Desktop/Github Projects/SAM-transfer learning/Pituitary Classification/data/train/no_tumor/image (61).jpg',\n",
       " 'C:/Users/PC/Desktop/Github Projects/SAM-transfer learning/Pituitary Classification/data/train/no_tumor/image (62).jpg',\n",
       " 'C:/Users/PC/Desktop/Github Projects/SAM-transfer learning/Pituitary Classification/data/train/no_tumor/image (63).jpg',\n",
       " 'C:/Users/PC/Desktop/Github Projects/SAM-transfer learning/Pituitary Classification/data/train/no_tumor/image (64).jpg',\n",
       " 'C:/Users/PC/Desktop/Github Projects/SAM-transfer learning/Pituitary Classification/data/train/no_tumor/image (7).jpg',\n",
       " 'C:/Users/PC/Desktop/Github Projects/SAM-transfer learning/Pituitary Classification/data/train/no_tumor/image (8).jpg',\n",
       " 'C:/Users/PC/Desktop/Github Projects/SAM-transfer learning/Pituitary Classification/data/train/no_tumor/image (9).jpg',\n",
       " 'C:/Users/PC/Desktop/Github Projects/SAM-transfer learning/Pituitary Classification/data/train/no_tumor/image(1).jpg',\n",
       " 'C:/Users/PC/Desktop/Github Projects/SAM-transfer learning/Pituitary Classification/data/train/no_tumor/image(10).jpg',\n",
       " 'C:/Users/PC/Desktop/Github Projects/SAM-transfer learning/Pituitary Classification/data/train/no_tumor/image(100).jpg',\n",
       " 'C:/Users/PC/Desktop/Github Projects/SAM-transfer learning/Pituitary Classification/data/train/no_tumor/image(101).jpg',\n",
       " 'C:/Users/PC/Desktop/Github Projects/SAM-transfer learning/Pituitary Classification/data/train/no_tumor/image(102).jpg',\n",
       " 'C:/Users/PC/Desktop/Github Projects/SAM-transfer learning/Pituitary Classification/data/train/no_tumor/image(103).jpg',\n",
       " 'C:/Users/PC/Desktop/Github Projects/SAM-transfer learning/Pituitary Classification/data/train/no_tumor/image(104).jpg',\n",
       " 'C:/Users/PC/Desktop/Github Projects/SAM-transfer learning/Pituitary Classification/data/train/no_tumor/image(105).jpg',\n",
       " 'C:/Users/PC/Desktop/Github Projects/SAM-transfer learning/Pituitary Classification/data/train/no_tumor/image(106).jpg',\n",
       " 'C:/Users/PC/Desktop/Github Projects/SAM-transfer learning/Pituitary Classification/data/train/no_tumor/image(107).jpg',\n",
       " 'C:/Users/PC/Desktop/Github Projects/SAM-transfer learning/Pituitary Classification/data/train/no_tumor/image(108).jpg',\n",
       " 'C:/Users/PC/Desktop/Github Projects/SAM-transfer learning/Pituitary Classification/data/train/no_tumor/image(11).jpg',\n",
       " 'C:/Users/PC/Desktop/Github Projects/SAM-transfer learning/Pituitary Classification/data/train/no_tumor/image(110).jpg',\n",
       " 'C:/Users/PC/Desktop/Github Projects/SAM-transfer learning/Pituitary Classification/data/train/no_tumor/image(111).jpg',\n",
       " 'C:/Users/PC/Desktop/Github Projects/SAM-transfer learning/Pituitary Classification/data/train/no_tumor/image(112).jpg',\n",
       " 'C:/Users/PC/Desktop/Github Projects/SAM-transfer learning/Pituitary Classification/data/train/no_tumor/image(113).jpg',\n",
       " 'C:/Users/PC/Desktop/Github Projects/SAM-transfer learning/Pituitary Classification/data/train/no_tumor/image(114).jpg',\n",
       " 'C:/Users/PC/Desktop/Github Projects/SAM-transfer learning/Pituitary Classification/data/train/no_tumor/image(115).jpg',\n",
       " 'C:/Users/PC/Desktop/Github Projects/SAM-transfer learning/Pituitary Classification/data/train/no_tumor/image(116).jpg',\n",
       " 'C:/Users/PC/Desktop/Github Projects/SAM-transfer learning/Pituitary Classification/data/train/no_tumor/image(117).jpg',\n",
       " 'C:/Users/PC/Desktop/Github Projects/SAM-transfer learning/Pituitary Classification/data/train/no_tumor/image(118).jpg',\n",
       " 'C:/Users/PC/Desktop/Github Projects/SAM-transfer learning/Pituitary Classification/data/train/no_tumor/image(119).jpg',\n",
       " 'C:/Users/PC/Desktop/Github Projects/SAM-transfer learning/Pituitary Classification/data/train/no_tumor/image(12).jpg',\n",
       " 'C:/Users/PC/Desktop/Github Projects/SAM-transfer learning/Pituitary Classification/data/train/no_tumor/image(120).jpg',\n",
       " 'C:/Users/PC/Desktop/Github Projects/SAM-transfer learning/Pituitary Classification/data/train/no_tumor/image(121).jpg',\n",
       " 'C:/Users/PC/Desktop/Github Projects/SAM-transfer learning/Pituitary Classification/data/train/no_tumor/image(122).jpg',\n",
       " 'C:/Users/PC/Desktop/Github Projects/SAM-transfer learning/Pituitary Classification/data/train/no_tumor/image(123).jpg',\n",
       " 'C:/Users/PC/Desktop/Github Projects/SAM-transfer learning/Pituitary Classification/data/train/no_tumor/image(124).jpg',\n",
       " 'C:/Users/PC/Desktop/Github Projects/SAM-transfer learning/Pituitary Classification/data/train/no_tumor/image(125).jpg',\n",
       " 'C:/Users/PC/Desktop/Github Projects/SAM-transfer learning/Pituitary Classification/data/train/no_tumor/image(126).jpg',\n",
       " 'C:/Users/PC/Desktop/Github Projects/SAM-transfer learning/Pituitary Classification/data/train/no_tumor/image(127).jpg',\n",
       " 'C:/Users/PC/Desktop/Github Projects/SAM-transfer learning/Pituitary Classification/data/train/no_tumor/image(128).jpg',\n",
       " 'C:/Users/PC/Desktop/Github Projects/SAM-transfer learning/Pituitary Classification/data/train/no_tumor/image(129).jpg',\n",
       " 'C:/Users/PC/Desktop/Github Projects/SAM-transfer learning/Pituitary Classification/data/train/no_tumor/image(13).jpg',\n",
       " 'C:/Users/PC/Desktop/Github Projects/SAM-transfer learning/Pituitary Classification/data/train/no_tumor/image(130).jpg',\n",
       " 'C:/Users/PC/Desktop/Github Projects/SAM-transfer learning/Pituitary Classification/data/train/no_tumor/image(131).jpg',\n",
       " 'C:/Users/PC/Desktop/Github Projects/SAM-transfer learning/Pituitary Classification/data/train/no_tumor/image(132).jpg',\n",
       " 'C:/Users/PC/Desktop/Github Projects/SAM-transfer learning/Pituitary Classification/data/train/no_tumor/image(133).jpg',\n",
       " 'C:/Users/PC/Desktop/Github Projects/SAM-transfer learning/Pituitary Classification/data/train/no_tumor/image(134).jpg',\n",
       " 'C:/Users/PC/Desktop/Github Projects/SAM-transfer learning/Pituitary Classification/data/train/no_tumor/image(135).jpg',\n",
       " 'C:/Users/PC/Desktop/Github Projects/SAM-transfer learning/Pituitary Classification/data/train/no_tumor/image(136).jpg',\n",
       " 'C:/Users/PC/Desktop/Github Projects/SAM-transfer learning/Pituitary Classification/data/train/no_tumor/image(137).jpg',\n",
       " 'C:/Users/PC/Desktop/Github Projects/SAM-transfer learning/Pituitary Classification/data/train/no_tumor/image(138).jpg',\n",
       " 'C:/Users/PC/Desktop/Github Projects/SAM-transfer learning/Pituitary Classification/data/train/no_tumor/image(139).jpg',\n",
       " 'C:/Users/PC/Desktop/Github Projects/SAM-transfer learning/Pituitary Classification/data/train/no_tumor/image(14).jpg',\n",
       " 'C:/Users/PC/Desktop/Github Projects/SAM-transfer learning/Pituitary Classification/data/train/no_tumor/image(140).jpg',\n",
       " 'C:/Users/PC/Desktop/Github Projects/SAM-transfer learning/Pituitary Classification/data/train/no_tumor/image(141).jpg',\n",
       " 'C:/Users/PC/Desktop/Github Projects/SAM-transfer learning/Pituitary Classification/data/train/no_tumor/image(142).jpg',\n",
       " 'C:/Users/PC/Desktop/Github Projects/SAM-transfer learning/Pituitary Classification/data/train/no_tumor/image(143).jpg',\n",
       " 'C:/Users/PC/Desktop/Github Projects/SAM-transfer learning/Pituitary Classification/data/train/no_tumor/image(144).jpg',\n",
       " 'C:/Users/PC/Desktop/Github Projects/SAM-transfer learning/Pituitary Classification/data/train/no_tumor/image(145).jpg',\n",
       " 'C:/Users/PC/Desktop/Github Projects/SAM-transfer learning/Pituitary Classification/data/train/no_tumor/image(146).jpg',\n",
       " 'C:/Users/PC/Desktop/Github Projects/SAM-transfer learning/Pituitary Classification/data/train/no_tumor/image(147).jpg',\n",
       " 'C:/Users/PC/Desktop/Github Projects/SAM-transfer learning/Pituitary Classification/data/train/no_tumor/image(148).jpg',\n",
       " 'C:/Users/PC/Desktop/Github Projects/SAM-transfer learning/Pituitary Classification/data/train/no_tumor/image(149).jpg',\n",
       " 'C:/Users/PC/Desktop/Github Projects/SAM-transfer learning/Pituitary Classification/data/train/no_tumor/image(15).jpg',\n",
       " 'C:/Users/PC/Desktop/Github Projects/SAM-transfer learning/Pituitary Classification/data/train/no_tumor/image(150).jpg',\n",
       " 'C:/Users/PC/Desktop/Github Projects/SAM-transfer learning/Pituitary Classification/data/train/no_tumor/image(151).jpg',\n",
       " 'C:/Users/PC/Desktop/Github Projects/SAM-transfer learning/Pituitary Classification/data/train/no_tumor/image(152).jpg',\n",
       " 'C:/Users/PC/Desktop/Github Projects/SAM-transfer learning/Pituitary Classification/data/train/no_tumor/image(153).jpg',\n",
       " 'C:/Users/PC/Desktop/Github Projects/SAM-transfer learning/Pituitary Classification/data/train/no_tumor/image(154).jpg',\n",
       " 'C:/Users/PC/Desktop/Github Projects/SAM-transfer learning/Pituitary Classification/data/train/no_tumor/image(155).jpg',\n",
       " 'C:/Users/PC/Desktop/Github Projects/SAM-transfer learning/Pituitary Classification/data/train/no_tumor/image(156).jpg',\n",
       " 'C:/Users/PC/Desktop/Github Projects/SAM-transfer learning/Pituitary Classification/data/train/no_tumor/image(157).jpg',\n",
       " 'C:/Users/PC/Desktop/Github Projects/SAM-transfer learning/Pituitary Classification/data/train/no_tumor/image(158).jpg',\n",
       " 'C:/Users/PC/Desktop/Github Projects/SAM-transfer learning/Pituitary Classification/data/train/no_tumor/image(159).jpg',\n",
       " 'C:/Users/PC/Desktop/Github Projects/SAM-transfer learning/Pituitary Classification/data/train/no_tumor/image(16).jpg',\n",
       " 'C:/Users/PC/Desktop/Github Projects/SAM-transfer learning/Pituitary Classification/data/train/no_tumor/image(160).jpg',\n",
       " 'C:/Users/PC/Desktop/Github Projects/SAM-transfer learning/Pituitary Classification/data/train/no_tumor/image(161).jpg',\n",
       " 'C:/Users/PC/Desktop/Github Projects/SAM-transfer learning/Pituitary Classification/data/train/no_tumor/image(162).jpg',\n",
       " 'C:/Users/PC/Desktop/Github Projects/SAM-transfer learning/Pituitary Classification/data/train/no_tumor/image(163).jpg',\n",
       " 'C:/Users/PC/Desktop/Github Projects/SAM-transfer learning/Pituitary Classification/data/train/no_tumor/image(164).jpg',\n",
       " 'C:/Users/PC/Desktop/Github Projects/SAM-transfer learning/Pituitary Classification/data/train/no_tumor/image(165).jpg',\n",
       " 'C:/Users/PC/Desktop/Github Projects/SAM-transfer learning/Pituitary Classification/data/train/no_tumor/image(166).jpg',\n",
       " 'C:/Users/PC/Desktop/Github Projects/SAM-transfer learning/Pituitary Classification/data/train/no_tumor/image(167).jpg',\n",
       " 'C:/Users/PC/Desktop/Github Projects/SAM-transfer learning/Pituitary Classification/data/train/no_tumor/image(168).jpg',\n",
       " 'C:/Users/PC/Desktop/Github Projects/SAM-transfer learning/Pituitary Classification/data/train/no_tumor/image(169).jpg',\n",
       " 'C:/Users/PC/Desktop/Github Projects/SAM-transfer learning/Pituitary Classification/data/train/no_tumor/image(17).jpg',\n",
       " 'C:/Users/PC/Desktop/Github Projects/SAM-transfer learning/Pituitary Classification/data/train/no_tumor/image(170).jpg',\n",
       " 'C:/Users/PC/Desktop/Github Projects/SAM-transfer learning/Pituitary Classification/data/train/no_tumor/image(171).jpg',\n",
       " 'C:/Users/PC/Desktop/Github Projects/SAM-transfer learning/Pituitary Classification/data/train/no_tumor/image(172).jpg',\n",
       " 'C:/Users/PC/Desktop/Github Projects/SAM-transfer learning/Pituitary Classification/data/train/no_tumor/image(173).jpg',\n",
       " 'C:/Users/PC/Desktop/Github Projects/SAM-transfer learning/Pituitary Classification/data/train/no_tumor/image(174).jpg',\n",
       " 'C:/Users/PC/Desktop/Github Projects/SAM-transfer learning/Pituitary Classification/data/train/no_tumor/image(175).jpg',\n",
       " 'C:/Users/PC/Desktop/Github Projects/SAM-transfer learning/Pituitary Classification/data/train/no_tumor/image(176).jpg',\n",
       " 'C:/Users/PC/Desktop/Github Projects/SAM-transfer learning/Pituitary Classification/data/train/no_tumor/image(177).jpg',\n",
       " 'C:/Users/PC/Desktop/Github Projects/SAM-transfer learning/Pituitary Classification/data/train/no_tumor/image(178).jpg',\n",
       " 'C:/Users/PC/Desktop/Github Projects/SAM-transfer learning/Pituitary Classification/data/train/no_tumor/image(179).jpg',\n",
       " 'C:/Users/PC/Desktop/Github Projects/SAM-transfer learning/Pituitary Classification/data/train/no_tumor/image(18).jpg',\n",
       " 'C:/Users/PC/Desktop/Github Projects/SAM-transfer learning/Pituitary Classification/data/train/no_tumor/image(180).jpg',\n",
       " 'C:/Users/PC/Desktop/Github Projects/SAM-transfer learning/Pituitary Classification/data/train/no_tumor/image(181).jpg',\n",
       " 'C:/Users/PC/Desktop/Github Projects/SAM-transfer learning/Pituitary Classification/data/train/no_tumor/image(182).jpg',\n",
       " 'C:/Users/PC/Desktop/Github Projects/SAM-transfer learning/Pituitary Classification/data/train/no_tumor/image(183).jpg',\n",
       " 'C:/Users/PC/Desktop/Github Projects/SAM-transfer learning/Pituitary Classification/data/train/no_tumor/image(184).jpg',\n",
       " 'C:/Users/PC/Desktop/Github Projects/SAM-transfer learning/Pituitary Classification/data/train/no_tumor/image(185).jpg',\n",
       " 'C:/Users/PC/Desktop/Github Projects/SAM-transfer learning/Pituitary Classification/data/train/no_tumor/image(186).jpg',\n",
       " 'C:/Users/PC/Desktop/Github Projects/SAM-transfer learning/Pituitary Classification/data/train/no_tumor/image(187).jpg',\n",
       " 'C:/Users/PC/Desktop/Github Projects/SAM-transfer learning/Pituitary Classification/data/train/no_tumor/image(188).jpg',\n",
       " 'C:/Users/PC/Desktop/Github Projects/SAM-transfer learning/Pituitary Classification/data/train/no_tumor/image(189).jpg',\n",
       " 'C:/Users/PC/Desktop/Github Projects/SAM-transfer learning/Pituitary Classification/data/train/no_tumor/image(19).jpg',\n",
       " 'C:/Users/PC/Desktop/Github Projects/SAM-transfer learning/Pituitary Classification/data/train/no_tumor/image(190).jpg',\n",
       " 'C:/Users/PC/Desktop/Github Projects/SAM-transfer learning/Pituitary Classification/data/train/no_tumor/image(191).jpg',\n",
       " 'C:/Users/PC/Desktop/Github Projects/SAM-transfer learning/Pituitary Classification/data/train/no_tumor/image(192).jpg',\n",
       " 'C:/Users/PC/Desktop/Github Projects/SAM-transfer learning/Pituitary Classification/data/train/no_tumor/image(193).jpg',\n",
       " 'C:/Users/PC/Desktop/Github Projects/SAM-transfer learning/Pituitary Classification/data/train/no_tumor/image(194).jpg',\n",
       " 'C:/Users/PC/Desktop/Github Projects/SAM-transfer learning/Pituitary Classification/data/train/no_tumor/image(195).jpg',\n",
       " 'C:/Users/PC/Desktop/Github Projects/SAM-transfer learning/Pituitary Classification/data/train/no_tumor/image(196).jpg',\n",
       " 'C:/Users/PC/Desktop/Github Projects/SAM-transfer learning/Pituitary Classification/data/train/no_tumor/image(197).jpg',\n",
       " 'C:/Users/PC/Desktop/Github Projects/SAM-transfer learning/Pituitary Classification/data/train/no_tumor/image(198).jpg',\n",
       " 'C:/Users/PC/Desktop/Github Projects/SAM-transfer learning/Pituitary Classification/data/train/no_tumor/image(199).jpg',\n",
       " 'C:/Users/PC/Desktop/Github Projects/SAM-transfer learning/Pituitary Classification/data/train/no_tumor/image(2).jpg',\n",
       " 'C:/Users/PC/Desktop/Github Projects/SAM-transfer learning/Pituitary Classification/data/train/no_tumor/image(20).jpg',\n",
       " 'C:/Users/PC/Desktop/Github Projects/SAM-transfer learning/Pituitary Classification/data/train/no_tumor/image(200).jpg',\n",
       " 'C:/Users/PC/Desktop/Github Projects/SAM-transfer learning/Pituitary Classification/data/train/no_tumor/image(201).jpg',\n",
       " 'C:/Users/PC/Desktop/Github Projects/SAM-transfer learning/Pituitary Classification/data/train/no_tumor/image(202).jpg',\n",
       " 'C:/Users/PC/Desktop/Github Projects/SAM-transfer learning/Pituitary Classification/data/train/no_tumor/image(203).jpg',\n",
       " 'C:/Users/PC/Desktop/Github Projects/SAM-transfer learning/Pituitary Classification/data/train/no_tumor/image(204).jpg',\n",
       " 'C:/Users/PC/Desktop/Github Projects/SAM-transfer learning/Pituitary Classification/data/train/no_tumor/image(205).jpg',\n",
       " 'C:/Users/PC/Desktop/Github Projects/SAM-transfer learning/Pituitary Classification/data/train/no_tumor/image(206).jpg',\n",
       " 'C:/Users/PC/Desktop/Github Projects/SAM-transfer learning/Pituitary Classification/data/train/no_tumor/image(207).jpg',\n",
       " 'C:/Users/PC/Desktop/Github Projects/SAM-transfer learning/Pituitary Classification/data/train/no_tumor/image(208).jpg',\n",
       " 'C:/Users/PC/Desktop/Github Projects/SAM-transfer learning/Pituitary Classification/data/train/no_tumor/image(209).jpg',\n",
       " 'C:/Users/PC/Desktop/Github Projects/SAM-transfer learning/Pituitary Classification/data/train/no_tumor/image(21).jpg',\n",
       " 'C:/Users/PC/Desktop/Github Projects/SAM-transfer learning/Pituitary Classification/data/train/no_tumor/image(210).jpg',\n",
       " 'C:/Users/PC/Desktop/Github Projects/SAM-transfer learning/Pituitary Classification/data/train/no_tumor/image(211).jpg',\n",
       " 'C:/Users/PC/Desktop/Github Projects/SAM-transfer learning/Pituitary Classification/data/train/no_tumor/image(212).jpg',\n",
       " 'C:/Users/PC/Desktop/Github Projects/SAM-transfer learning/Pituitary Classification/data/train/no_tumor/image(213).jpg',\n",
       " 'C:/Users/PC/Desktop/Github Projects/SAM-transfer learning/Pituitary Classification/data/train/no_tumor/image(214).jpg',\n",
       " 'C:/Users/PC/Desktop/Github Projects/SAM-transfer learning/Pituitary Classification/data/train/no_tumor/image(215).jpg',\n",
       " 'C:/Users/PC/Desktop/Github Projects/SAM-transfer learning/Pituitary Classification/data/train/no_tumor/image(216).jpg',\n",
       " 'C:/Users/PC/Desktop/Github Projects/SAM-transfer learning/Pituitary Classification/data/train/no_tumor/image(217).jpg',\n",
       " 'C:/Users/PC/Desktop/Github Projects/SAM-transfer learning/Pituitary Classification/data/train/no_tumor/image(218).jpg',\n",
       " 'C:/Users/PC/Desktop/Github Projects/SAM-transfer learning/Pituitary Classification/data/train/no_tumor/image(219).jpg',\n",
       " 'C:/Users/PC/Desktop/Github Projects/SAM-transfer learning/Pituitary Classification/data/train/no_tumor/image(22).jpg',\n",
       " 'C:/Users/PC/Desktop/Github Projects/SAM-transfer learning/Pituitary Classification/data/train/no_tumor/image(220).jpg',\n",
       " 'C:/Users/PC/Desktop/Github Projects/SAM-transfer learning/Pituitary Classification/data/train/no_tumor/image(221).jpg',\n",
       " 'C:/Users/PC/Desktop/Github Projects/SAM-transfer learning/Pituitary Classification/data/train/no_tumor/image(222).jpg',\n",
       " 'C:/Users/PC/Desktop/Github Projects/SAM-transfer learning/Pituitary Classification/data/train/no_tumor/image(223).jpg',\n",
       " 'C:/Users/PC/Desktop/Github Projects/SAM-transfer learning/Pituitary Classification/data/train/no_tumor/image(224).jpg',\n",
       " 'C:/Users/PC/Desktop/Github Projects/SAM-transfer learning/Pituitary Classification/data/train/no_tumor/image(225).jpg',\n",
       " 'C:/Users/PC/Desktop/Github Projects/SAM-transfer learning/Pituitary Classification/data/train/no_tumor/image(226).jpg',\n",
       " 'C:/Users/PC/Desktop/Github Projects/SAM-transfer learning/Pituitary Classification/data/train/no_tumor/image(227).jpg',\n",
       " 'C:/Users/PC/Desktop/Github Projects/SAM-transfer learning/Pituitary Classification/data/train/no_tumor/image(228).jpg',\n",
       " 'C:/Users/PC/Desktop/Github Projects/SAM-transfer learning/Pituitary Classification/data/train/no_tumor/image(229).jpg',\n",
       " 'C:/Users/PC/Desktop/Github Projects/SAM-transfer learning/Pituitary Classification/data/train/no_tumor/image(23).jpg',\n",
       " 'C:/Users/PC/Desktop/Github Projects/SAM-transfer learning/Pituitary Classification/data/train/no_tumor/image(230).jpg',\n",
       " 'C:/Users/PC/Desktop/Github Projects/SAM-transfer learning/Pituitary Classification/data/train/no_tumor/image(231).jpg',\n",
       " 'C:/Users/PC/Desktop/Github Projects/SAM-transfer learning/Pituitary Classification/data/train/no_tumor/image(232).jpg',\n",
       " 'C:/Users/PC/Desktop/Github Projects/SAM-transfer learning/Pituitary Classification/data/train/no_tumor/image(233).jpg',\n",
       " 'C:/Users/PC/Desktop/Github Projects/SAM-transfer learning/Pituitary Classification/data/train/no_tumor/image(234).jpg',\n",
       " 'C:/Users/PC/Desktop/Github Projects/SAM-transfer learning/Pituitary Classification/data/train/no_tumor/image(235).jpg',\n",
       " 'C:/Users/PC/Desktop/Github Projects/SAM-transfer learning/Pituitary Classification/data/train/no_tumor/image(236).jpg',\n",
       " 'C:/Users/PC/Desktop/Github Projects/SAM-transfer learning/Pituitary Classification/data/train/no_tumor/image(237).jpg',\n",
       " 'C:/Users/PC/Desktop/Github Projects/SAM-transfer learning/Pituitary Classification/data/train/no_tumor/image(238).jpg',\n",
       " 'C:/Users/PC/Desktop/Github Projects/SAM-transfer learning/Pituitary Classification/data/train/no_tumor/image(239).jpg',\n",
       " 'C:/Users/PC/Desktop/Github Projects/SAM-transfer learning/Pituitary Classification/data/train/no_tumor/image(24).jpg',\n",
       " 'C:/Users/PC/Desktop/Github Projects/SAM-transfer learning/Pituitary Classification/data/train/no_tumor/image(240).jpg',\n",
       " 'C:/Users/PC/Desktop/Github Projects/SAM-transfer learning/Pituitary Classification/data/train/no_tumor/image(241).jpg',\n",
       " 'C:/Users/PC/Desktop/Github Projects/SAM-transfer learning/Pituitary Classification/data/train/no_tumor/image(242).jpg',\n",
       " 'C:/Users/PC/Desktop/Github Projects/SAM-transfer learning/Pituitary Classification/data/train/no_tumor/image(243).jpg',\n",
       " 'C:/Users/PC/Desktop/Github Projects/SAM-transfer learning/Pituitary Classification/data/train/no_tumor/image(244).jpg',\n",
       " 'C:/Users/PC/Desktop/Github Projects/SAM-transfer learning/Pituitary Classification/data/train/no_tumor/image(245).jpg',\n",
       " 'C:/Users/PC/Desktop/Github Projects/SAM-transfer learning/Pituitary Classification/data/train/no_tumor/image(246).jpg',\n",
       " 'C:/Users/PC/Desktop/Github Projects/SAM-transfer learning/Pituitary Classification/data/train/no_tumor/image(247).jpg',\n",
       " 'C:/Users/PC/Desktop/Github Projects/SAM-transfer learning/Pituitary Classification/data/train/no_tumor/image(248).jpg',\n",
       " 'C:/Users/PC/Desktop/Github Projects/SAM-transfer learning/Pituitary Classification/data/train/no_tumor/image(249).jpg',\n",
       " 'C:/Users/PC/Desktop/Github Projects/SAM-transfer learning/Pituitary Classification/data/train/no_tumor/image(25).jpg',\n",
       " 'C:/Users/PC/Desktop/Github Projects/SAM-transfer learning/Pituitary Classification/data/train/no_tumor/image(250).jpg',\n",
       " 'C:/Users/PC/Desktop/Github Projects/SAM-transfer learning/Pituitary Classification/data/train/no_tumor/image(251).jpg',\n",
       " 'C:/Users/PC/Desktop/Github Projects/SAM-transfer learning/Pituitary Classification/data/train/no_tumor/image(252).jpg',\n",
       " 'C:/Users/PC/Desktop/Github Projects/SAM-transfer learning/Pituitary Classification/data/train/no_tumor/image(253).jpg',\n",
       " 'C:/Users/PC/Desktop/Github Projects/SAM-transfer learning/Pituitary Classification/data/train/no_tumor/image(254).jpg',\n",
       " 'C:/Users/PC/Desktop/Github Projects/SAM-transfer learning/Pituitary Classification/data/train/no_tumor/image(255).jpg',\n",
       " 'C:/Users/PC/Desktop/Github Projects/SAM-transfer learning/Pituitary Classification/data/train/no_tumor/image(256).jpg',\n",
       " 'C:/Users/PC/Desktop/Github Projects/SAM-transfer learning/Pituitary Classification/data/train/no_tumor/image(257).jpg',\n",
       " 'C:/Users/PC/Desktop/Github Projects/SAM-transfer learning/Pituitary Classification/data/train/no_tumor/image(258).jpg',\n",
       " 'C:/Users/PC/Desktop/Github Projects/SAM-transfer learning/Pituitary Classification/data/train/no_tumor/image(259).jpg',\n",
       " 'C:/Users/PC/Desktop/Github Projects/SAM-transfer learning/Pituitary Classification/data/train/no_tumor/image(26).jpg',\n",
       " 'C:/Users/PC/Desktop/Github Projects/SAM-transfer learning/Pituitary Classification/data/train/no_tumor/image(260).jpg',\n",
       " 'C:/Users/PC/Desktop/Github Projects/SAM-transfer learning/Pituitary Classification/data/train/no_tumor/image(261).jpg',\n",
       " 'C:/Users/PC/Desktop/Github Projects/SAM-transfer learning/Pituitary Classification/data/train/no_tumor/image(262).jpg',\n",
       " 'C:/Users/PC/Desktop/Github Projects/SAM-transfer learning/Pituitary Classification/data/train/no_tumor/image(263).jpg',\n",
       " 'C:/Users/PC/Desktop/Github Projects/SAM-transfer learning/Pituitary Classification/data/train/no_tumor/image(264).jpg',\n",
       " 'C:/Users/PC/Desktop/Github Projects/SAM-transfer learning/Pituitary Classification/data/train/no_tumor/image(265).jpg',\n",
       " 'C:/Users/PC/Desktop/Github Projects/SAM-transfer learning/Pituitary Classification/data/train/no_tumor/image(266).jpg',\n",
       " 'C:/Users/PC/Desktop/Github Projects/SAM-transfer learning/Pituitary Classification/data/train/no_tumor/image(267).jpg',\n",
       " 'C:/Users/PC/Desktop/Github Projects/SAM-transfer learning/Pituitary Classification/data/train/no_tumor/image(268).jpg',\n",
       " 'C:/Users/PC/Desktop/Github Projects/SAM-transfer learning/Pituitary Classification/data/train/no_tumor/image(269).jpg',\n",
       " 'C:/Users/PC/Desktop/Github Projects/SAM-transfer learning/Pituitary Classification/data/train/no_tumor/image(27).jpg',\n",
       " 'C:/Users/PC/Desktop/Github Projects/SAM-transfer learning/Pituitary Classification/data/train/no_tumor/image(270).jpg',\n",
       " 'C:/Users/PC/Desktop/Github Projects/SAM-transfer learning/Pituitary Classification/data/train/no_tumor/image(271).jpg',\n",
       " 'C:/Users/PC/Desktop/Github Projects/SAM-transfer learning/Pituitary Classification/data/train/no_tumor/image(272).jpg',\n",
       " 'C:/Users/PC/Desktop/Github Projects/SAM-transfer learning/Pituitary Classification/data/train/no_tumor/image(273).jpg',\n",
       " 'C:/Users/PC/Desktop/Github Projects/SAM-transfer learning/Pituitary Classification/data/train/no_tumor/image(274).jpg',\n",
       " 'C:/Users/PC/Desktop/Github Projects/SAM-transfer learning/Pituitary Classification/data/train/no_tumor/image(275).jpg',\n",
       " 'C:/Users/PC/Desktop/Github Projects/SAM-transfer learning/Pituitary Classification/data/train/no_tumor/image(276).jpg',\n",
       " 'C:/Users/PC/Desktop/Github Projects/SAM-transfer learning/Pituitary Classification/data/train/no_tumor/image(277).jpg',\n",
       " 'C:/Users/PC/Desktop/Github Projects/SAM-transfer learning/Pituitary Classification/data/train/no_tumor/image(278).jpg',\n",
       " 'C:/Users/PC/Desktop/Github Projects/SAM-transfer learning/Pituitary Classification/data/train/no_tumor/image(279).jpg',\n",
       " 'C:/Users/PC/Desktop/Github Projects/SAM-transfer learning/Pituitary Classification/data/train/no_tumor/image(28).jpg',\n",
       " 'C:/Users/PC/Desktop/Github Projects/SAM-transfer learning/Pituitary Classification/data/train/no_tumor/image(280).jpg',\n",
       " 'C:/Users/PC/Desktop/Github Projects/SAM-transfer learning/Pituitary Classification/data/train/no_tumor/image(281).jpg',\n",
       " 'C:/Users/PC/Desktop/Github Projects/SAM-transfer learning/Pituitary Classification/data/train/no_tumor/image(282).jpg',\n",
       " 'C:/Users/PC/Desktop/Github Projects/SAM-transfer learning/Pituitary Classification/data/train/no_tumor/image(283).jpg',\n",
       " 'C:/Users/PC/Desktop/Github Projects/SAM-transfer learning/Pituitary Classification/data/train/no_tumor/image(284).jpg',\n",
       " 'C:/Users/PC/Desktop/Github Projects/SAM-transfer learning/Pituitary Classification/data/train/no_tumor/image(285).jpg',\n",
       " 'C:/Users/PC/Desktop/Github Projects/SAM-transfer learning/Pituitary Classification/data/train/no_tumor/image(286).jpg',\n",
       " 'C:/Users/PC/Desktop/Github Projects/SAM-transfer learning/Pituitary Classification/data/train/no_tumor/image(287).jpg',\n",
       " 'C:/Users/PC/Desktop/Github Projects/SAM-transfer learning/Pituitary Classification/data/train/no_tumor/image(288).jpg',\n",
       " 'C:/Users/PC/Desktop/Github Projects/SAM-transfer learning/Pituitary Classification/data/train/no_tumor/image(289).jpg',\n",
       " 'C:/Users/PC/Desktop/Github Projects/SAM-transfer learning/Pituitary Classification/data/train/no_tumor/image(29).jpg',\n",
       " 'C:/Users/PC/Desktop/Github Projects/SAM-transfer learning/Pituitary Classification/data/train/no_tumor/image(290).jpg',\n",
       " 'C:/Users/PC/Desktop/Github Projects/SAM-transfer learning/Pituitary Classification/data/train/no_tumor/image(291).jpg',\n",
       " 'C:/Users/PC/Desktop/Github Projects/SAM-transfer learning/Pituitary Classification/data/train/no_tumor/image(292).jpg',\n",
       " 'C:/Users/PC/Desktop/Github Projects/SAM-transfer learning/Pituitary Classification/data/train/no_tumor/image(293).jpg',\n",
       " 'C:/Users/PC/Desktop/Github Projects/SAM-transfer learning/Pituitary Classification/data/train/no_tumor/image(294).jpg',\n",
       " 'C:/Users/PC/Desktop/Github Projects/SAM-transfer learning/Pituitary Classification/data/train/no_tumor/image(295).jpg',\n",
       " 'C:/Users/PC/Desktop/Github Projects/SAM-transfer learning/Pituitary Classification/data/train/no_tumor/image(296).jpg',\n",
       " 'C:/Users/PC/Desktop/Github Projects/SAM-transfer learning/Pituitary Classification/data/train/no_tumor/image(297).jpg',\n",
       " 'C:/Users/PC/Desktop/Github Projects/SAM-transfer learning/Pituitary Classification/data/train/no_tumor/image(298).jpg',\n",
       " 'C:/Users/PC/Desktop/Github Projects/SAM-transfer learning/Pituitary Classification/data/train/no_tumor/image(299).jpg',\n",
       " 'C:/Users/PC/Desktop/Github Projects/SAM-transfer learning/Pituitary Classification/data/train/no_tumor/image(3).jpg',\n",
       " 'C:/Users/PC/Desktop/Github Projects/SAM-transfer learning/Pituitary Classification/data/train/no_tumor/image(30).jpg',\n",
       " 'C:/Users/PC/Desktop/Github Projects/SAM-transfer learning/Pituitary Classification/data/train/no_tumor/image(300).jpg',\n",
       " 'C:/Users/PC/Desktop/Github Projects/SAM-transfer learning/Pituitary Classification/data/train/no_tumor/image(301).jpg',\n",
       " 'C:/Users/PC/Desktop/Github Projects/SAM-transfer learning/Pituitary Classification/data/train/no_tumor/image(302).jpg',\n",
       " 'C:/Users/PC/Desktop/Github Projects/SAM-transfer learning/Pituitary Classification/data/train/no_tumor/image(303).jpg',\n",
       " 'C:/Users/PC/Desktop/Github Projects/SAM-transfer learning/Pituitary Classification/data/train/no_tumor/image(304).jpg',\n",
       " 'C:/Users/PC/Desktop/Github Projects/SAM-transfer learning/Pituitary Classification/data/train/no_tumor/image(305).jpg',\n",
       " 'C:/Users/PC/Desktop/Github Projects/SAM-transfer learning/Pituitary Classification/data/train/no_tumor/image(306).jpg',\n",
       " 'C:/Users/PC/Desktop/Github Projects/SAM-transfer learning/Pituitary Classification/data/train/no_tumor/image(307).jpg',\n",
       " 'C:/Users/PC/Desktop/Github Projects/SAM-transfer learning/Pituitary Classification/data/train/no_tumor/image(308).jpg',\n",
       " 'C:/Users/PC/Desktop/Github Projects/SAM-transfer learning/Pituitary Classification/data/train/no_tumor/image(309).jpg',\n",
       " 'C:/Users/PC/Desktop/Github Projects/SAM-transfer learning/Pituitary Classification/data/train/no_tumor/image(31).jpg',\n",
       " 'C:/Users/PC/Desktop/Github Projects/SAM-transfer learning/Pituitary Classification/data/train/no_tumor/image(310).jpg',\n",
       " 'C:/Users/PC/Desktop/Github Projects/SAM-transfer learning/Pituitary Classification/data/train/no_tumor/image(311).jpg',\n",
       " 'C:/Users/PC/Desktop/Github Projects/SAM-transfer learning/Pituitary Classification/data/train/no_tumor/image(312).jpg',\n",
       " 'C:/Users/PC/Desktop/Github Projects/SAM-transfer learning/Pituitary Classification/data/train/no_tumor/image(313).jpg',\n",
       " 'C:/Users/PC/Desktop/Github Projects/SAM-transfer learning/Pituitary Classification/data/train/no_tumor/image(314).jpg',\n",
       " 'C:/Users/PC/Desktop/Github Projects/SAM-transfer learning/Pituitary Classification/data/train/no_tumor/image(315).jpg',\n",
       " 'C:/Users/PC/Desktop/Github Projects/SAM-transfer learning/Pituitary Classification/data/train/no_tumor/image(316).jpg',\n",
       " 'C:/Users/PC/Desktop/Github Projects/SAM-transfer learning/Pituitary Classification/data/train/no_tumor/image(317).jpg',\n",
       " 'C:/Users/PC/Desktop/Github Projects/SAM-transfer learning/Pituitary Classification/data/train/no_tumor/image(318).jpg',\n",
       " 'C:/Users/PC/Desktop/Github Projects/SAM-transfer learning/Pituitary Classification/data/train/no_tumor/image(319).jpg',\n",
       " 'C:/Users/PC/Desktop/Github Projects/SAM-transfer learning/Pituitary Classification/data/train/no_tumor/image(32).jpg',\n",
       " 'C:/Users/PC/Desktop/Github Projects/SAM-transfer learning/Pituitary Classification/data/train/no_tumor/image(320).jpg',\n",
       " 'C:/Users/PC/Desktop/Github Projects/SAM-transfer learning/Pituitary Classification/data/train/no_tumor/image(321).jpg',\n",
       " 'C:/Users/PC/Desktop/Github Projects/SAM-transfer learning/Pituitary Classification/data/train/no_tumor/image(322).jpg',\n",
       " 'C:/Users/PC/Desktop/Github Projects/SAM-transfer learning/Pituitary Classification/data/train/no_tumor/image(323).jpg',\n",
       " 'C:/Users/PC/Desktop/Github Projects/SAM-transfer learning/Pituitary Classification/data/train/no_tumor/image(324).jpg',\n",
       " 'C:/Users/PC/Desktop/Github Projects/SAM-transfer learning/Pituitary Classification/data/train/no_tumor/image(325).jpg',\n",
       " 'C:/Users/PC/Desktop/Github Projects/SAM-transfer learning/Pituitary Classification/data/train/no_tumor/image(326).jpg',\n",
       " 'C:/Users/PC/Desktop/Github Projects/SAM-transfer learning/Pituitary Classification/data/train/no_tumor/image(327).jpg',\n",
       " 'C:/Users/PC/Desktop/Github Projects/SAM-transfer learning/Pituitary Classification/data/train/no_tumor/image(33).jpg',\n",
       " 'C:/Users/PC/Desktop/Github Projects/SAM-transfer learning/Pituitary Classification/data/train/no_tumor/image(34).jpg',\n",
       " 'C:/Users/PC/Desktop/Github Projects/SAM-transfer learning/Pituitary Classification/data/train/no_tumor/image(35).jpg',\n",
       " 'C:/Users/PC/Desktop/Github Projects/SAM-transfer learning/Pituitary Classification/data/train/no_tumor/image(36).jpg',\n",
       " 'C:/Users/PC/Desktop/Github Projects/SAM-transfer learning/Pituitary Classification/data/train/no_tumor/image(37).jpg',\n",
       " 'C:/Users/PC/Desktop/Github Projects/SAM-transfer learning/Pituitary Classification/data/train/no_tumor/image(38).jpg',\n",
       " 'C:/Users/PC/Desktop/Github Projects/SAM-transfer learning/Pituitary Classification/data/train/no_tumor/image(39).jpg',\n",
       " 'C:/Users/PC/Desktop/Github Projects/SAM-transfer learning/Pituitary Classification/data/train/no_tumor/image(4).jpg',\n",
       " 'C:/Users/PC/Desktop/Github Projects/SAM-transfer learning/Pituitary Classification/data/train/no_tumor/image(40).jpg',\n",
       " 'C:/Users/PC/Desktop/Github Projects/SAM-transfer learning/Pituitary Classification/data/train/no_tumor/image(41).jpg',\n",
       " 'C:/Users/PC/Desktop/Github Projects/SAM-transfer learning/Pituitary Classification/data/train/no_tumor/image(42).jpg',\n",
       " 'C:/Users/PC/Desktop/Github Projects/SAM-transfer learning/Pituitary Classification/data/train/no_tumor/image(43).jpg',\n",
       " 'C:/Users/PC/Desktop/Github Projects/SAM-transfer learning/Pituitary Classification/data/train/no_tumor/image(44).jpg',\n",
       " 'C:/Users/PC/Desktop/Github Projects/SAM-transfer learning/Pituitary Classification/data/train/no_tumor/image(45).jpg',\n",
       " 'C:/Users/PC/Desktop/Github Projects/SAM-transfer learning/Pituitary Classification/data/train/no_tumor/image(46).jpg',\n",
       " 'C:/Users/PC/Desktop/Github Projects/SAM-transfer learning/Pituitary Classification/data/train/no_tumor/image(47).jpg',\n",
       " 'C:/Users/PC/Desktop/Github Projects/SAM-transfer learning/Pituitary Classification/data/train/no_tumor/image(48).jpg',\n",
       " 'C:/Users/PC/Desktop/Github Projects/SAM-transfer learning/Pituitary Classification/data/train/no_tumor/image(49).jpg',\n",
       " 'C:/Users/PC/Desktop/Github Projects/SAM-transfer learning/Pituitary Classification/data/train/no_tumor/image(5).jpg',\n",
       " 'C:/Users/PC/Desktop/Github Projects/SAM-transfer learning/Pituitary Classification/data/train/no_tumor/image(50).jpg',\n",
       " 'C:/Users/PC/Desktop/Github Projects/SAM-transfer learning/Pituitary Classification/data/train/no_tumor/image(51).jpg',\n",
       " 'C:/Users/PC/Desktop/Github Projects/SAM-transfer learning/Pituitary Classification/data/train/no_tumor/image(52).jpg',\n",
       " 'C:/Users/PC/Desktop/Github Projects/SAM-transfer learning/Pituitary Classification/data/train/no_tumor/image(53).jpg',\n",
       " 'C:/Users/PC/Desktop/Github Projects/SAM-transfer learning/Pituitary Classification/data/train/no_tumor/image(54).jpg',\n",
       " 'C:/Users/PC/Desktop/Github Projects/SAM-transfer learning/Pituitary Classification/data/train/no_tumor/image(55).jpg',\n",
       " 'C:/Users/PC/Desktop/Github Projects/SAM-transfer learning/Pituitary Classification/data/train/no_tumor/image(56).jpg',\n",
       " 'C:/Users/PC/Desktop/Github Projects/SAM-transfer learning/Pituitary Classification/data/train/no_tumor/image(57).jpg',\n",
       " 'C:/Users/PC/Desktop/Github Projects/SAM-transfer learning/Pituitary Classification/data/train/no_tumor/image(58).jpg',\n",
       " 'C:/Users/PC/Desktop/Github Projects/SAM-transfer learning/Pituitary Classification/data/train/no_tumor/image(59).jpg',\n",
       " 'C:/Users/PC/Desktop/Github Projects/SAM-transfer learning/Pituitary Classification/data/train/no_tumor/image(6).jpg',\n",
       " 'C:/Users/PC/Desktop/Github Projects/SAM-transfer learning/Pituitary Classification/data/train/no_tumor/image(60).jpg',\n",
       " 'C:/Users/PC/Desktop/Github Projects/SAM-transfer learning/Pituitary Classification/data/train/no_tumor/image(61).jpg',\n",
       " 'C:/Users/PC/Desktop/Github Projects/SAM-transfer learning/Pituitary Classification/data/train/no_tumor/image(62).jpg',\n",
       " 'C:/Users/PC/Desktop/Github Projects/SAM-transfer learning/Pituitary Classification/data/train/no_tumor/image(63).jpg',\n",
       " 'C:/Users/PC/Desktop/Github Projects/SAM-transfer learning/Pituitary Classification/data/train/no_tumor/image(64).jpg',\n",
       " 'C:/Users/PC/Desktop/Github Projects/SAM-transfer learning/Pituitary Classification/data/train/no_tumor/image(65).jpg',\n",
       " 'C:/Users/PC/Desktop/Github Projects/SAM-transfer learning/Pituitary Classification/data/train/no_tumor/image(66).jpg',\n",
       " 'C:/Users/PC/Desktop/Github Projects/SAM-transfer learning/Pituitary Classification/data/train/no_tumor/image(67).jpg',\n",
       " 'C:/Users/PC/Desktop/Github Projects/SAM-transfer learning/Pituitary Classification/data/train/no_tumor/image(68).jpg',\n",
       " 'C:/Users/PC/Desktop/Github Projects/SAM-transfer learning/Pituitary Classification/data/train/no_tumor/image(69).jpg',\n",
       " 'C:/Users/PC/Desktop/Github Projects/SAM-transfer learning/Pituitary Classification/data/train/no_tumor/image(7).jpg',\n",
       " 'C:/Users/PC/Desktop/Github Projects/SAM-transfer learning/Pituitary Classification/data/train/no_tumor/image(70).jpg',\n",
       " 'C:/Users/PC/Desktop/Github Projects/SAM-transfer learning/Pituitary Classification/data/train/no_tumor/image(71).jpg',\n",
       " 'C:/Users/PC/Desktop/Github Projects/SAM-transfer learning/Pituitary Classification/data/train/no_tumor/image(72).jpg',\n",
       " 'C:/Users/PC/Desktop/Github Projects/SAM-transfer learning/Pituitary Classification/data/train/no_tumor/image(73).jpg',\n",
       " 'C:/Users/PC/Desktop/Github Projects/SAM-transfer learning/Pituitary Classification/data/train/no_tumor/image(74).jpg',\n",
       " 'C:/Users/PC/Desktop/Github Projects/SAM-transfer learning/Pituitary Classification/data/train/no_tumor/image(75).jpg',\n",
       " 'C:/Users/PC/Desktop/Github Projects/SAM-transfer learning/Pituitary Classification/data/train/no_tumor/image(76).jpg',\n",
       " 'C:/Users/PC/Desktop/Github Projects/SAM-transfer learning/Pituitary Classification/data/train/no_tumor/image(77).jpg',\n",
       " 'C:/Users/PC/Desktop/Github Projects/SAM-transfer learning/Pituitary Classification/data/train/no_tumor/image(78).jpg',\n",
       " 'C:/Users/PC/Desktop/Github Projects/SAM-transfer learning/Pituitary Classification/data/train/no_tumor/image(79).jpg',\n",
       " 'C:/Users/PC/Desktop/Github Projects/SAM-transfer learning/Pituitary Classification/data/train/no_tumor/image(8).jpg',\n",
       " 'C:/Users/PC/Desktop/Github Projects/SAM-transfer learning/Pituitary Classification/data/train/no_tumor/image(80).jpg',\n",
       " 'C:/Users/PC/Desktop/Github Projects/SAM-transfer learning/Pituitary Classification/data/train/no_tumor/image(81).jpg',\n",
       " 'C:/Users/PC/Desktop/Github Projects/SAM-transfer learning/Pituitary Classification/data/train/no_tumor/image(82).jpg',\n",
       " 'C:/Users/PC/Desktop/Github Projects/SAM-transfer learning/Pituitary Classification/data/train/no_tumor/image(83).jpg',\n",
       " 'C:/Users/PC/Desktop/Github Projects/SAM-transfer learning/Pituitary Classification/data/train/no_tumor/image(84).jpg',\n",
       " 'C:/Users/PC/Desktop/Github Projects/SAM-transfer learning/Pituitary Classification/data/train/no_tumor/image(85).jpg',\n",
       " 'C:/Users/PC/Desktop/Github Projects/SAM-transfer learning/Pituitary Classification/data/train/no_tumor/image(86).jpg',\n",
       " 'C:/Users/PC/Desktop/Github Projects/SAM-transfer learning/Pituitary Classification/data/train/no_tumor/image(87).jpg',\n",
       " 'C:/Users/PC/Desktop/Github Projects/SAM-transfer learning/Pituitary Classification/data/train/no_tumor/image(88).jpg',\n",
       " 'C:/Users/PC/Desktop/Github Projects/SAM-transfer learning/Pituitary Classification/data/train/no_tumor/image(89).jpg',\n",
       " 'C:/Users/PC/Desktop/Github Projects/SAM-transfer learning/Pituitary Classification/data/train/no_tumor/image(9).jpg',\n",
       " 'C:/Users/PC/Desktop/Github Projects/SAM-transfer learning/Pituitary Classification/data/train/no_tumor/image(90).jpg',\n",
       " 'C:/Users/PC/Desktop/Github Projects/SAM-transfer learning/Pituitary Classification/data/train/no_tumor/image(91).jpg',\n",
       " 'C:/Users/PC/Desktop/Github Projects/SAM-transfer learning/Pituitary Classification/data/train/no_tumor/image(92).jpg',\n",
       " 'C:/Users/PC/Desktop/Github Projects/SAM-transfer learning/Pituitary Classification/data/train/no_tumor/image(93).jpg',\n",
       " 'C:/Users/PC/Desktop/Github Projects/SAM-transfer learning/Pituitary Classification/data/train/no_tumor/image(94).jpg',\n",
       " 'C:/Users/PC/Desktop/Github Projects/SAM-transfer learning/Pituitary Classification/data/train/no_tumor/image(95).jpg',\n",
       " 'C:/Users/PC/Desktop/Github Projects/SAM-transfer learning/Pituitary Classification/data/train/no_tumor/image(96).jpg',\n",
       " 'C:/Users/PC/Desktop/Github Projects/SAM-transfer learning/Pituitary Classification/data/train/no_tumor/image(98).jpg',\n",
       " 'C:/Users/PC/Desktop/Github Projects/SAM-transfer learning/Pituitary Classification/data/train/no_tumor/image(99).jpg',\n",
       " 'C:/Users/PC/Desktop/Github Projects/SAM-transfer learning/Pituitary Classification/data/train/no_tumor/image.jpg',\n",
       " 'C:/Users/PC/Desktop/Github Projects/SAM-transfer learning/Pituitary Classification/data/train/no_tumor/N1.JPG',\n",
       " 'C:/Users/PC/Desktop/Github Projects/SAM-transfer learning/Pituitary Classification/data/train/no_tumor/N11.jpg',\n",
       " 'C:/Users/PC/Desktop/Github Projects/SAM-transfer learning/Pituitary Classification/data/train/no_tumor/N15.jpg',\n",
       " 'C:/Users/PC/Desktop/Github Projects/SAM-transfer learning/Pituitary Classification/data/train/no_tumor/N16.jpg',\n",
       " 'C:/Users/PC/Desktop/Github Projects/SAM-transfer learning/Pituitary Classification/data/train/no_tumor/N17.jpg',\n",
       " 'C:/Users/PC/Desktop/Github Projects/SAM-transfer learning/Pituitary Classification/data/train/no_tumor/N19.JPG',\n",
       " 'C:/Users/PC/Desktop/Github Projects/SAM-transfer learning/Pituitary Classification/data/train/no_tumor/N2.JPG',\n",
       " 'C:/Users/PC/Desktop/Github Projects/SAM-transfer learning/Pituitary Classification/data/train/no_tumor/N20.JPG',\n",
       " 'C:/Users/PC/Desktop/Github Projects/SAM-transfer learning/Pituitary Classification/data/train/no_tumor/N21.jpg',\n",
       " 'C:/Users/PC/Desktop/Github Projects/SAM-transfer learning/Pituitary Classification/data/train/no_tumor/N22.JPG',\n",
       " 'C:/Users/PC/Desktop/Github Projects/SAM-transfer learning/Pituitary Classification/data/train/no_tumor/N26.JPG',\n",
       " 'C:/Users/PC/Desktop/Github Projects/SAM-transfer learning/Pituitary Classification/data/train/no_tumor/N3.jpg',\n",
       " 'C:/Users/PC/Desktop/Github Projects/SAM-transfer learning/Pituitary Classification/data/train/no_tumor/N5.jpg',\n",
       " 'C:/Users/PC/Desktop/Github Projects/SAM-transfer learning/Pituitary Classification/data/train/no_tumor/N6.jpg',\n",
       " 'C:/Users/PC/Desktop/Github Projects/SAM-transfer learning/Pituitary Classification/data/train/no_tumor/no 1.jpg',\n",
       " 'C:/Users/PC/Desktop/Github Projects/SAM-transfer learning/Pituitary Classification/data/train/no_tumor/no 10.jpg',\n",
       " 'C:/Users/PC/Desktop/Github Projects/SAM-transfer learning/Pituitary Classification/data/train/no_tumor/no 100.jpg',\n",
       " 'C:/Users/PC/Desktop/Github Projects/SAM-transfer learning/Pituitary Classification/data/train/no_tumor/no 2.jpg',\n",
       " 'C:/Users/PC/Desktop/Github Projects/SAM-transfer learning/Pituitary Classification/data/train/no_tumor/no 3.jpg',\n",
       " 'C:/Users/PC/Desktop/Github Projects/SAM-transfer learning/Pituitary Classification/data/train/no_tumor/no 4.jpg',\n",
       " 'C:/Users/PC/Desktop/Github Projects/SAM-transfer learning/Pituitary Classification/data/train/no_tumor/no 5.jpeg',\n",
       " 'C:/Users/PC/Desktop/Github Projects/SAM-transfer learning/Pituitary Classification/data/train/no_tumor/no 6.jpg',\n",
       " 'C:/Users/PC/Desktop/Github Projects/SAM-transfer learning/Pituitary Classification/data/train/no_tumor/no 7.jpeg',\n",
       " 'C:/Users/PC/Desktop/Github Projects/SAM-transfer learning/Pituitary Classification/data/train/no_tumor/no 8.jpg',\n",
       " 'C:/Users/PC/Desktop/Github Projects/SAM-transfer learning/Pituitary Classification/data/train/no_tumor/no 89.jpg',\n",
       " 'C:/Users/PC/Desktop/Github Projects/SAM-transfer learning/Pituitary Classification/data/train/no_tumor/no 90.jpg',\n",
       " 'C:/Users/PC/Desktop/Github Projects/SAM-transfer learning/Pituitary Classification/data/train/no_tumor/no 91.jpeg',\n",
       " 'C:/Users/PC/Desktop/Github Projects/SAM-transfer learning/Pituitary Classification/data/train/no_tumor/no 92.jpg',\n",
       " 'C:/Users/PC/Desktop/Github Projects/SAM-transfer learning/Pituitary Classification/data/train/no_tumor/no 923.jpg',\n",
       " 'C:/Users/PC/Desktop/Github Projects/SAM-transfer learning/Pituitary Classification/data/train/no_tumor/no 94.jpg',\n",
       " 'C:/Users/PC/Desktop/Github Projects/SAM-transfer learning/Pituitary Classification/data/train/no_tumor/no 95.jpg',\n",
       " 'C:/Users/PC/Desktop/Github Projects/SAM-transfer learning/Pituitary Classification/data/train/no_tumor/no 96.jpg',\n",
       " 'C:/Users/PC/Desktop/Github Projects/SAM-transfer learning/Pituitary Classification/data/train/no_tumor/no 97.jpg',\n",
       " 'C:/Users/PC/Desktop/Github Projects/SAM-transfer learning/Pituitary Classification/data/train/no_tumor/no 98.jpg',\n",
       " 'C:/Users/PC/Desktop/Github Projects/SAM-transfer learning/Pituitary Classification/data/train/no_tumor/no 99.jpg',\n",
       " 'C:/Users/PC/Desktop/Github Projects/SAM-transfer learning/Pituitary Classification/data/train/no_tumor/no.jpg',\n",
       " 'C:/Users/PC/Desktop/Github Projects/SAM-transfer learning/Pituitary Classification/data/train/no_tumor/no0.jpg',\n",
       " 'C:/Users/PC/Desktop/Github Projects/SAM-transfer learning/Pituitary Classification/data/train/no_tumor/no1.jpg',\n",
       " 'C:/Users/PC/Desktop/Github Projects/SAM-transfer learning/Pituitary Classification/data/train/no_tumor/no10.jpg',\n",
       " 'C:/Users/PC/Desktop/Github Projects/SAM-transfer learning/Pituitary Classification/data/train/no_tumor/no100.jpg',\n",
       " 'C:/Users/PC/Desktop/Github Projects/SAM-transfer learning/Pituitary Classification/data/train/no_tumor/no1000.jpg',\n",
       " 'C:/Users/PC/Desktop/Github Projects/SAM-transfer learning/Pituitary Classification/data/train/no_tumor/no1001.jpg',\n",
       " 'C:/Users/PC/Desktop/Github Projects/SAM-transfer learning/Pituitary Classification/data/train/no_tumor/no1002.jpg',\n",
       " 'C:/Users/PC/Desktop/Github Projects/SAM-transfer learning/Pituitary Classification/data/train/no_tumor/no1003.jpg',\n",
       " 'C:/Users/PC/Desktop/Github Projects/SAM-transfer learning/Pituitary Classification/data/train/no_tumor/no1004.jpg',\n",
       " 'C:/Users/PC/Desktop/Github Projects/SAM-transfer learning/Pituitary Classification/data/train/no_tumor/no1005.jpg',\n",
       " 'C:/Users/PC/Desktop/Github Projects/SAM-transfer learning/Pituitary Classification/data/train/no_tumor/no1006.jpg',\n",
       " 'C:/Users/PC/Desktop/Github Projects/SAM-transfer learning/Pituitary Classification/data/train/no_tumor/no1007.jpg',\n",
       " 'C:/Users/PC/Desktop/Github Projects/SAM-transfer learning/Pituitary Classification/data/train/no_tumor/no1008.jpg',\n",
       " 'C:/Users/PC/Desktop/Github Projects/SAM-transfer learning/Pituitary Classification/data/train/no_tumor/no1009.jpg',\n",
       " 'C:/Users/PC/Desktop/Github Projects/SAM-transfer learning/Pituitary Classification/data/train/no_tumor/no101.jpg',\n",
       " 'C:/Users/PC/Desktop/Github Projects/SAM-transfer learning/Pituitary Classification/data/train/no_tumor/no1010.jpg',\n",
       " 'C:/Users/PC/Desktop/Github Projects/SAM-transfer learning/Pituitary Classification/data/train/no_tumor/no1011.jpg',\n",
       " 'C:/Users/PC/Desktop/Github Projects/SAM-transfer learning/Pituitary Classification/data/train/no_tumor/no1012.jpg',\n",
       " 'C:/Users/PC/Desktop/Github Projects/SAM-transfer learning/Pituitary Classification/data/train/no_tumor/no1013.jpg',\n",
       " 'C:/Users/PC/Desktop/Github Projects/SAM-transfer learning/Pituitary Classification/data/train/no_tumor/no1014.jpg',\n",
       " 'C:/Users/PC/Desktop/Github Projects/SAM-transfer learning/Pituitary Classification/data/train/no_tumor/no1015.jpg',\n",
       " 'C:/Users/PC/Desktop/Github Projects/SAM-transfer learning/Pituitary Classification/data/train/no_tumor/no1016.jpg',\n",
       " 'C:/Users/PC/Desktop/Github Projects/SAM-transfer learning/Pituitary Classification/data/train/no_tumor/no1017.jpg',\n",
       " 'C:/Users/PC/Desktop/Github Projects/SAM-transfer learning/Pituitary Classification/data/train/no_tumor/no1018.jpg',\n",
       " 'C:/Users/PC/Desktop/Github Projects/SAM-transfer learning/Pituitary Classification/data/train/no_tumor/no1019.jpg',\n",
       " 'C:/Users/PC/Desktop/Github Projects/SAM-transfer learning/Pituitary Classification/data/train/no_tumor/no102.jpg',\n",
       " 'C:/Users/PC/Desktop/Github Projects/SAM-transfer learning/Pituitary Classification/data/train/no_tumor/no1020.jpg',\n",
       " 'C:/Users/PC/Desktop/Github Projects/SAM-transfer learning/Pituitary Classification/data/train/no_tumor/no1021.jpg',\n",
       " 'C:/Users/PC/Desktop/Github Projects/SAM-transfer learning/Pituitary Classification/data/train/no_tumor/no1022.jpg',\n",
       " 'C:/Users/PC/Desktop/Github Projects/SAM-transfer learning/Pituitary Classification/data/train/no_tumor/no1023.jpg',\n",
       " 'C:/Users/PC/Desktop/Github Projects/SAM-transfer learning/Pituitary Classification/data/train/no_tumor/no1024.jpg',\n",
       " 'C:/Users/PC/Desktop/Github Projects/SAM-transfer learning/Pituitary Classification/data/train/no_tumor/no1025.jpg',\n",
       " 'C:/Users/PC/Desktop/Github Projects/SAM-transfer learning/Pituitary Classification/data/train/no_tumor/no1026.jpg',\n",
       " 'C:/Users/PC/Desktop/Github Projects/SAM-transfer learning/Pituitary Classification/data/train/no_tumor/no1027.jpg',\n",
       " 'C:/Users/PC/Desktop/Github Projects/SAM-transfer learning/Pituitary Classification/data/train/no_tumor/no1028.jpg',\n",
       " 'C:/Users/PC/Desktop/Github Projects/SAM-transfer learning/Pituitary Classification/data/train/no_tumor/no1029.jpg',\n",
       " 'C:/Users/PC/Desktop/Github Projects/SAM-transfer learning/Pituitary Classification/data/train/no_tumor/no103.jpg',\n",
       " 'C:/Users/PC/Desktop/Github Projects/SAM-transfer learning/Pituitary Classification/data/train/no_tumor/no1030.jpg',\n",
       " 'C:/Users/PC/Desktop/Github Projects/SAM-transfer learning/Pituitary Classification/data/train/no_tumor/no1031.jpg',\n",
       " 'C:/Users/PC/Desktop/Github Projects/SAM-transfer learning/Pituitary Classification/data/train/no_tumor/no1032.jpg',\n",
       " 'C:/Users/PC/Desktop/Github Projects/SAM-transfer learning/Pituitary Classification/data/train/no_tumor/no1033.jpg',\n",
       " 'C:/Users/PC/Desktop/Github Projects/SAM-transfer learning/Pituitary Classification/data/train/no_tumor/no1034.jpg',\n",
       " 'C:/Users/PC/Desktop/Github Projects/SAM-transfer learning/Pituitary Classification/data/train/no_tumor/no1035.jpg',\n",
       " 'C:/Users/PC/Desktop/Github Projects/SAM-transfer learning/Pituitary Classification/data/train/no_tumor/no1036.jpg',\n",
       " 'C:/Users/PC/Desktop/Github Projects/SAM-transfer learning/Pituitary Classification/data/train/no_tumor/no1037.jpg',\n",
       " 'C:/Users/PC/Desktop/Github Projects/SAM-transfer learning/Pituitary Classification/data/train/no_tumor/no1038.jpg',\n",
       " 'C:/Users/PC/Desktop/Github Projects/SAM-transfer learning/Pituitary Classification/data/train/no_tumor/no1039.jpg',\n",
       " 'C:/Users/PC/Desktop/Github Projects/SAM-transfer learning/Pituitary Classification/data/train/no_tumor/no104.jpg',\n",
       " 'C:/Users/PC/Desktop/Github Projects/SAM-transfer learning/Pituitary Classification/data/train/no_tumor/no1040.jpg',\n",
       " 'C:/Users/PC/Desktop/Github Projects/SAM-transfer learning/Pituitary Classification/data/train/no_tumor/no1041.jpg',\n",
       " 'C:/Users/PC/Desktop/Github Projects/SAM-transfer learning/Pituitary Classification/data/train/no_tumor/no1042.jpg',\n",
       " 'C:/Users/PC/Desktop/Github Projects/SAM-transfer learning/Pituitary Classification/data/train/no_tumor/no1043.jpg',\n",
       " 'C:/Users/PC/Desktop/Github Projects/SAM-transfer learning/Pituitary Classification/data/train/no_tumor/no1044.jpg',\n",
       " 'C:/Users/PC/Desktop/Github Projects/SAM-transfer learning/Pituitary Classification/data/train/no_tumor/no1045.jpg',\n",
       " 'C:/Users/PC/Desktop/Github Projects/SAM-transfer learning/Pituitary Classification/data/train/no_tumor/no1046.jpg',\n",
       " 'C:/Users/PC/Desktop/Github Projects/SAM-transfer learning/Pituitary Classification/data/train/no_tumor/no1047.jpg',\n",
       " 'C:/Users/PC/Desktop/Github Projects/SAM-transfer learning/Pituitary Classification/data/train/no_tumor/no1048.jpg',\n",
       " 'C:/Users/PC/Desktop/Github Projects/SAM-transfer learning/Pituitary Classification/data/train/no_tumor/no1049.jpg',\n",
       " 'C:/Users/PC/Desktop/Github Projects/SAM-transfer learning/Pituitary Classification/data/train/no_tumor/no105.jpg',\n",
       " 'C:/Users/PC/Desktop/Github Projects/SAM-transfer learning/Pituitary Classification/data/train/no_tumor/no1050.jpg',\n",
       " 'C:/Users/PC/Desktop/Github Projects/SAM-transfer learning/Pituitary Classification/data/train/no_tumor/no1051.jpg',\n",
       " 'C:/Users/PC/Desktop/Github Projects/SAM-transfer learning/Pituitary Classification/data/train/no_tumor/no1052.jpg',\n",
       " 'C:/Users/PC/Desktop/Github Projects/SAM-transfer learning/Pituitary Classification/data/train/no_tumor/no1053.jpg',\n",
       " 'C:/Users/PC/Desktop/Github Projects/SAM-transfer learning/Pituitary Classification/data/train/no_tumor/no1054.jpg',\n",
       " 'C:/Users/PC/Desktop/Github Projects/SAM-transfer learning/Pituitary Classification/data/train/no_tumor/no1055.jpg',\n",
       " 'C:/Users/PC/Desktop/Github Projects/SAM-transfer learning/Pituitary Classification/data/train/no_tumor/no1056.jpg',\n",
       " 'C:/Users/PC/Desktop/Github Projects/SAM-transfer learning/Pituitary Classification/data/train/no_tumor/no1057.jpg',\n",
       " 'C:/Users/PC/Desktop/Github Projects/SAM-transfer learning/Pituitary Classification/data/train/no_tumor/no1058.jpg',\n",
       " 'C:/Users/PC/Desktop/Github Projects/SAM-transfer learning/Pituitary Classification/data/train/no_tumor/no1059.jpg',\n",
       " 'C:/Users/PC/Desktop/Github Projects/SAM-transfer learning/Pituitary Classification/data/train/no_tumor/no106.jpg',\n",
       " 'C:/Users/PC/Desktop/Github Projects/SAM-transfer learning/Pituitary Classification/data/train/no_tumor/no1060.jpg',\n",
       " 'C:/Users/PC/Desktop/Github Projects/SAM-transfer learning/Pituitary Classification/data/train/no_tumor/no1061.jpg',\n",
       " 'C:/Users/PC/Desktop/Github Projects/SAM-transfer learning/Pituitary Classification/data/train/no_tumor/no1062.jpg',\n",
       " 'C:/Users/PC/Desktop/Github Projects/SAM-transfer learning/Pituitary Classification/data/train/no_tumor/no1063.jpg',\n",
       " 'C:/Users/PC/Desktop/Github Projects/SAM-transfer learning/Pituitary Classification/data/train/no_tumor/no1064.jpg',\n",
       " 'C:/Users/PC/Desktop/Github Projects/SAM-transfer learning/Pituitary Classification/data/train/no_tumor/no1065.jpg',\n",
       " 'C:/Users/PC/Desktop/Github Projects/SAM-transfer learning/Pituitary Classification/data/train/no_tumor/no1066.jpg',\n",
       " 'C:/Users/PC/Desktop/Github Projects/SAM-transfer learning/Pituitary Classification/data/train/no_tumor/no1067.jpg',\n",
       " 'C:/Users/PC/Desktop/Github Projects/SAM-transfer learning/Pituitary Classification/data/train/no_tumor/no1068.jpg',\n",
       " 'C:/Users/PC/Desktop/Github Projects/SAM-transfer learning/Pituitary Classification/data/train/no_tumor/no1069.jpg',\n",
       " 'C:/Users/PC/Desktop/Github Projects/SAM-transfer learning/Pituitary Classification/data/train/no_tumor/no107.jpg',\n",
       " 'C:/Users/PC/Desktop/Github Projects/SAM-transfer learning/Pituitary Classification/data/train/no_tumor/no1070.jpg',\n",
       " 'C:/Users/PC/Desktop/Github Projects/SAM-transfer learning/Pituitary Classification/data/train/no_tumor/no1071.jpg',\n",
       " 'C:/Users/PC/Desktop/Github Projects/SAM-transfer learning/Pituitary Classification/data/train/no_tumor/no1072.jpg',\n",
       " 'C:/Users/PC/Desktop/Github Projects/SAM-transfer learning/Pituitary Classification/data/train/no_tumor/no1073.jpg',\n",
       " 'C:/Users/PC/Desktop/Github Projects/SAM-transfer learning/Pituitary Classification/data/train/no_tumor/no1074.jpg',\n",
       " 'C:/Users/PC/Desktop/Github Projects/SAM-transfer learning/Pituitary Classification/data/train/no_tumor/no1075.jpg',\n",
       " 'C:/Users/PC/Desktop/Github Projects/SAM-transfer learning/Pituitary Classification/data/train/no_tumor/no1076.jpg',\n",
       " 'C:/Users/PC/Desktop/Github Projects/SAM-transfer learning/Pituitary Classification/data/train/no_tumor/no1077.jpg',\n",
       " 'C:/Users/PC/Desktop/Github Projects/SAM-transfer learning/Pituitary Classification/data/train/no_tumor/no1078.jpg',\n",
       " 'C:/Users/PC/Desktop/Github Projects/SAM-transfer learning/Pituitary Classification/data/train/no_tumor/no1079.jpg',\n",
       " 'C:/Users/PC/Desktop/Github Projects/SAM-transfer learning/Pituitary Classification/data/train/no_tumor/no108.jpg',\n",
       " 'C:/Users/PC/Desktop/Github Projects/SAM-transfer learning/Pituitary Classification/data/train/no_tumor/no1080.jpg',\n",
       " 'C:/Users/PC/Desktop/Github Projects/SAM-transfer learning/Pituitary Classification/data/train/no_tumor/no1081.jpg',\n",
       " 'C:/Users/PC/Desktop/Github Projects/SAM-transfer learning/Pituitary Classification/data/train/no_tumor/no1082.jpg',\n",
       " 'C:/Users/PC/Desktop/Github Projects/SAM-transfer learning/Pituitary Classification/data/train/no_tumor/no1083.jpg',\n",
       " 'C:/Users/PC/Desktop/Github Projects/SAM-transfer learning/Pituitary Classification/data/train/no_tumor/no1084.jpg',\n",
       " 'C:/Users/PC/Desktop/Github Projects/SAM-transfer learning/Pituitary Classification/data/train/no_tumor/no1085.jpg',\n",
       " 'C:/Users/PC/Desktop/Github Projects/SAM-transfer learning/Pituitary Classification/data/train/no_tumor/no1086.jpg',\n",
       " 'C:/Users/PC/Desktop/Github Projects/SAM-transfer learning/Pituitary Classification/data/train/no_tumor/no1087.jpg',\n",
       " 'C:/Users/PC/Desktop/Github Projects/SAM-transfer learning/Pituitary Classification/data/train/no_tumor/no1088.jpg',\n",
       " 'C:/Users/PC/Desktop/Github Projects/SAM-transfer learning/Pituitary Classification/data/train/no_tumor/no1089.jpg',\n",
       " 'C:/Users/PC/Desktop/Github Projects/SAM-transfer learning/Pituitary Classification/data/train/no_tumor/no109.jpg',\n",
       " 'C:/Users/PC/Desktop/Github Projects/SAM-transfer learning/Pituitary Classification/data/train/no_tumor/no1090.jpg',\n",
       " 'C:/Users/PC/Desktop/Github Projects/SAM-transfer learning/Pituitary Classification/data/train/no_tumor/no1091.jpg',\n",
       " 'C:/Users/PC/Desktop/Github Projects/SAM-transfer learning/Pituitary Classification/data/train/no_tumor/no1092.jpg',\n",
       " 'C:/Users/PC/Desktop/Github Projects/SAM-transfer learning/Pituitary Classification/data/train/no_tumor/no1093.jpg',\n",
       " 'C:/Users/PC/Desktop/Github Projects/SAM-transfer learning/Pituitary Classification/data/train/no_tumor/no1094.jpg',\n",
       " 'C:/Users/PC/Desktop/Github Projects/SAM-transfer learning/Pituitary Classification/data/train/no_tumor/no1095.jpg',\n",
       " 'C:/Users/PC/Desktop/Github Projects/SAM-transfer learning/Pituitary Classification/data/train/no_tumor/no1096.jpg',\n",
       " 'C:/Users/PC/Desktop/Github Projects/SAM-transfer learning/Pituitary Classification/data/train/no_tumor/no1097.jpg',\n",
       " 'C:/Users/PC/Desktop/Github Projects/SAM-transfer learning/Pituitary Classification/data/train/no_tumor/no1098.jpg',\n",
       " 'C:/Users/PC/Desktop/Github Projects/SAM-transfer learning/Pituitary Classification/data/train/no_tumor/no1099.jpg',\n",
       " 'C:/Users/PC/Desktop/Github Projects/SAM-transfer learning/Pituitary Classification/data/train/no_tumor/No11.jpg',\n",
       " 'C:/Users/PC/Desktop/Github Projects/SAM-transfer learning/Pituitary Classification/data/train/no_tumor/no110.jpg',\n",
       " 'C:/Users/PC/Desktop/Github Projects/SAM-transfer learning/Pituitary Classification/data/train/no_tumor/no1100.jpg',\n",
       " 'C:/Users/PC/Desktop/Github Projects/SAM-transfer learning/Pituitary Classification/data/train/no_tumor/no1101.jpg',\n",
       " 'C:/Users/PC/Desktop/Github Projects/SAM-transfer learning/Pituitary Classification/data/train/no_tumor/no1102.jpg',\n",
       " 'C:/Users/PC/Desktop/Github Projects/SAM-transfer learning/Pituitary Classification/data/train/no_tumor/no1103.jpg',\n",
       " 'C:/Users/PC/Desktop/Github Projects/SAM-transfer learning/Pituitary Classification/data/train/no_tumor/no1104.jpg',\n",
       " 'C:/Users/PC/Desktop/Github Projects/SAM-transfer learning/Pituitary Classification/data/train/no_tumor/no1105.jpg',\n",
       " 'C:/Users/PC/Desktop/Github Projects/SAM-transfer learning/Pituitary Classification/data/train/no_tumor/no1106.jpg',\n",
       " 'C:/Users/PC/Desktop/Github Projects/SAM-transfer learning/Pituitary Classification/data/train/no_tumor/no1107.jpg',\n",
       " 'C:/Users/PC/Desktop/Github Projects/SAM-transfer learning/Pituitary Classification/data/train/no_tumor/no1108.jpg',\n",
       " 'C:/Users/PC/Desktop/Github Projects/SAM-transfer learning/Pituitary Classification/data/train/no_tumor/no1109.jpg',\n",
       " 'C:/Users/PC/Desktop/Github Projects/SAM-transfer learning/Pituitary Classification/data/train/no_tumor/no111.jpg',\n",
       " 'C:/Users/PC/Desktop/Github Projects/SAM-transfer learning/Pituitary Classification/data/train/no_tumor/no1110.jpg',\n",
       " 'C:/Users/PC/Desktop/Github Projects/SAM-transfer learning/Pituitary Classification/data/train/no_tumor/no1111.jpg',\n",
       " 'C:/Users/PC/Desktop/Github Projects/SAM-transfer learning/Pituitary Classification/data/train/no_tumor/no1112.jpg',\n",
       " 'C:/Users/PC/Desktop/Github Projects/SAM-transfer learning/Pituitary Classification/data/train/no_tumor/no1113.jpg',\n",
       " 'C:/Users/PC/Desktop/Github Projects/SAM-transfer learning/Pituitary Classification/data/train/no_tumor/no1114.jpg',\n",
       " 'C:/Users/PC/Desktop/Github Projects/SAM-transfer learning/Pituitary Classification/data/train/no_tumor/no1115.jpg',\n",
       " 'C:/Users/PC/Desktop/Github Projects/SAM-transfer learning/Pituitary Classification/data/train/no_tumor/no1116.jpg',\n",
       " 'C:/Users/PC/Desktop/Github Projects/SAM-transfer learning/Pituitary Classification/data/train/no_tumor/no1117.jpg',\n",
       " 'C:/Users/PC/Desktop/Github Projects/SAM-transfer learning/Pituitary Classification/data/train/no_tumor/no1118.jpg',\n",
       " 'C:/Users/PC/Desktop/Github Projects/SAM-transfer learning/Pituitary Classification/data/train/no_tumor/no1119.jpg',\n",
       " 'C:/Users/PC/Desktop/Github Projects/SAM-transfer learning/Pituitary Classification/data/train/no_tumor/no112.jpg',\n",
       " 'C:/Users/PC/Desktop/Github Projects/SAM-transfer learning/Pituitary Classification/data/train/no_tumor/no1120.jpg',\n",
       " 'C:/Users/PC/Desktop/Github Projects/SAM-transfer learning/Pituitary Classification/data/train/no_tumor/no1121.jpg',\n",
       " 'C:/Users/PC/Desktop/Github Projects/SAM-transfer learning/Pituitary Classification/data/train/no_tumor/no1122.jpg',\n",
       " 'C:/Users/PC/Desktop/Github Projects/SAM-transfer learning/Pituitary Classification/data/train/no_tumor/no1123.jpg',\n",
       " 'C:/Users/PC/Desktop/Github Projects/SAM-transfer learning/Pituitary Classification/data/train/no_tumor/no1124.jpg',\n",
       " 'C:/Users/PC/Desktop/Github Projects/SAM-transfer learning/Pituitary Classification/data/train/no_tumor/no1125.jpg',\n",
       " 'C:/Users/PC/Desktop/Github Projects/SAM-transfer learning/Pituitary Classification/data/train/no_tumor/no1126.jpg',\n",
       " 'C:/Users/PC/Desktop/Github Projects/SAM-transfer learning/Pituitary Classification/data/train/no_tumor/no1127.jpg',\n",
       " 'C:/Users/PC/Desktop/Github Projects/SAM-transfer learning/Pituitary Classification/data/train/no_tumor/no1128.jpg',\n",
       " 'C:/Users/PC/Desktop/Github Projects/SAM-transfer learning/Pituitary Classification/data/train/no_tumor/no1129.jpg',\n",
       " 'C:/Users/PC/Desktop/Github Projects/SAM-transfer learning/Pituitary Classification/data/train/no_tumor/no113.jpg',\n",
       " 'C:/Users/PC/Desktop/Github Projects/SAM-transfer learning/Pituitary Classification/data/train/no_tumor/no1130.jpg',\n",
       " 'C:/Users/PC/Desktop/Github Projects/SAM-transfer learning/Pituitary Classification/data/train/no_tumor/no1131.jpg',\n",
       " 'C:/Users/PC/Desktop/Github Projects/SAM-transfer learning/Pituitary Classification/data/train/no_tumor/no1132.jpg',\n",
       " 'C:/Users/PC/Desktop/Github Projects/SAM-transfer learning/Pituitary Classification/data/train/no_tumor/no1133.jpg',\n",
       " 'C:/Users/PC/Desktop/Github Projects/SAM-transfer learning/Pituitary Classification/data/train/no_tumor/no1134.jpg',\n",
       " 'C:/Users/PC/Desktop/Github Projects/SAM-transfer learning/Pituitary Classification/data/train/no_tumor/no1135.jpg',\n",
       " 'C:/Users/PC/Desktop/Github Projects/SAM-transfer learning/Pituitary Classification/data/train/no_tumor/no1136.jpg',\n",
       " 'C:/Users/PC/Desktop/Github Projects/SAM-transfer learning/Pituitary Classification/data/train/no_tumor/no1137.jpg',\n",
       " 'C:/Users/PC/Desktop/Github Projects/SAM-transfer learning/Pituitary Classification/data/train/no_tumor/no1138.jpg',\n",
       " 'C:/Users/PC/Desktop/Github Projects/SAM-transfer learning/Pituitary Classification/data/train/no_tumor/no1139.jpg',\n",
       " 'C:/Users/PC/Desktop/Github Projects/SAM-transfer learning/Pituitary Classification/data/train/no_tumor/no114.jpg',\n",
       " 'C:/Users/PC/Desktop/Github Projects/SAM-transfer learning/Pituitary Classification/data/train/no_tumor/no1140.jpg',\n",
       " 'C:/Users/PC/Desktop/Github Projects/SAM-transfer learning/Pituitary Classification/data/train/no_tumor/no1141.jpg',\n",
       " 'C:/Users/PC/Desktop/Github Projects/SAM-transfer learning/Pituitary Classification/data/train/no_tumor/no1142.jpg',\n",
       " 'C:/Users/PC/Desktop/Github Projects/SAM-transfer learning/Pituitary Classification/data/train/no_tumor/no1143.jpg',\n",
       " 'C:/Users/PC/Desktop/Github Projects/SAM-transfer learning/Pituitary Classification/data/train/no_tumor/no1144.jpg',\n",
       " 'C:/Users/PC/Desktop/Github Projects/SAM-transfer learning/Pituitary Classification/data/train/no_tumor/no1145.jpg',\n",
       " 'C:/Users/PC/Desktop/Github Projects/SAM-transfer learning/Pituitary Classification/data/train/no_tumor/no1146.jpg',\n",
       " 'C:/Users/PC/Desktop/Github Projects/SAM-transfer learning/Pituitary Classification/data/train/no_tumor/no1147.jpg',\n",
       " 'C:/Users/PC/Desktop/Github Projects/SAM-transfer learning/Pituitary Classification/data/train/no_tumor/no1148.jpg',\n",
       " 'C:/Users/PC/Desktop/Github Projects/SAM-transfer learning/Pituitary Classification/data/train/no_tumor/no1149.jpg',\n",
       " 'C:/Users/PC/Desktop/Github Projects/SAM-transfer learning/Pituitary Classification/data/train/no_tumor/no115.jpg',\n",
       " 'C:/Users/PC/Desktop/Github Projects/SAM-transfer learning/Pituitary Classification/data/train/no_tumor/no1150.jpg',\n",
       " 'C:/Users/PC/Desktop/Github Projects/SAM-transfer learning/Pituitary Classification/data/train/no_tumor/no1151.jpg',\n",
       " 'C:/Users/PC/Desktop/Github Projects/SAM-transfer learning/Pituitary Classification/data/train/no_tumor/no1152.jpg',\n",
       " 'C:/Users/PC/Desktop/Github Projects/SAM-transfer learning/Pituitary Classification/data/train/no_tumor/no1153.jpg',\n",
       " 'C:/Users/PC/Desktop/Github Projects/SAM-transfer learning/Pituitary Classification/data/train/no_tumor/no1154.jpg',\n",
       " 'C:/Users/PC/Desktop/Github Projects/SAM-transfer learning/Pituitary Classification/data/train/no_tumor/no1155.jpg',\n",
       " 'C:/Users/PC/Desktop/Github Projects/SAM-transfer learning/Pituitary Classification/data/train/no_tumor/no1156.jpg',\n",
       " 'C:/Users/PC/Desktop/Github Projects/SAM-transfer learning/Pituitary Classification/data/train/no_tumor/no1157.jpg',\n",
       " 'C:/Users/PC/Desktop/Github Projects/SAM-transfer learning/Pituitary Classification/data/train/no_tumor/no1158.jpg',\n",
       " 'C:/Users/PC/Desktop/Github Projects/SAM-transfer learning/Pituitary Classification/data/train/no_tumor/no1159.jpg',\n",
       " 'C:/Users/PC/Desktop/Github Projects/SAM-transfer learning/Pituitary Classification/data/train/no_tumor/no116.jpg',\n",
       " 'C:/Users/PC/Desktop/Github Projects/SAM-transfer learning/Pituitary Classification/data/train/no_tumor/no1160.jpg',\n",
       " 'C:/Users/PC/Desktop/Github Projects/SAM-transfer learning/Pituitary Classification/data/train/no_tumor/no1161.jpg',\n",
       " 'C:/Users/PC/Desktop/Github Projects/SAM-transfer learning/Pituitary Classification/data/train/no_tumor/no1162.jpg',\n",
       " 'C:/Users/PC/Desktop/Github Projects/SAM-transfer learning/Pituitary Classification/data/train/no_tumor/no1163.jpg',\n",
       " 'C:/Users/PC/Desktop/Github Projects/SAM-transfer learning/Pituitary Classification/data/train/no_tumor/no1164.jpg',\n",
       " 'C:/Users/PC/Desktop/Github Projects/SAM-transfer learning/Pituitary Classification/data/train/no_tumor/no1165.jpg',\n",
       " 'C:/Users/PC/Desktop/Github Projects/SAM-transfer learning/Pituitary Classification/data/train/no_tumor/no1166.jpg',\n",
       " 'C:/Users/PC/Desktop/Github Projects/SAM-transfer learning/Pituitary Classification/data/train/no_tumor/no1167.jpg',\n",
       " 'C:/Users/PC/Desktop/Github Projects/SAM-transfer learning/Pituitary Classification/data/train/no_tumor/no1168.jpg',\n",
       " 'C:/Users/PC/Desktop/Github Projects/SAM-transfer learning/Pituitary Classification/data/train/no_tumor/no1169.jpg',\n",
       " 'C:/Users/PC/Desktop/Github Projects/SAM-transfer learning/Pituitary Classification/data/train/no_tumor/no117.jpg',\n",
       " 'C:/Users/PC/Desktop/Github Projects/SAM-transfer learning/Pituitary Classification/data/train/no_tumor/no1170.jpg',\n",
       " 'C:/Users/PC/Desktop/Github Projects/SAM-transfer learning/Pituitary Classification/data/train/no_tumor/no1171.jpg',\n",
       " 'C:/Users/PC/Desktop/Github Projects/SAM-transfer learning/Pituitary Classification/data/train/no_tumor/no1172.jpg',\n",
       " 'C:/Users/PC/Desktop/Github Projects/SAM-transfer learning/Pituitary Classification/data/train/no_tumor/no1173.jpg',\n",
       " 'C:/Users/PC/Desktop/Github Projects/SAM-transfer learning/Pituitary Classification/data/train/no_tumor/no1174.jpg',\n",
       " 'C:/Users/PC/Desktop/Github Projects/SAM-transfer learning/Pituitary Classification/data/train/no_tumor/no1175.jpg',\n",
       " 'C:/Users/PC/Desktop/Github Projects/SAM-transfer learning/Pituitary Classification/data/train/no_tumor/no1176.jpg',\n",
       " 'C:/Users/PC/Desktop/Github Projects/SAM-transfer learning/Pituitary Classification/data/train/no_tumor/no1177.jpg',\n",
       " 'C:/Users/PC/Desktop/Github Projects/SAM-transfer learning/Pituitary Classification/data/train/no_tumor/no1178.jpg',\n",
       " 'C:/Users/PC/Desktop/Github Projects/SAM-transfer learning/Pituitary Classification/data/train/no_tumor/no1179.jpg',\n",
       " 'C:/Users/PC/Desktop/Github Projects/SAM-transfer learning/Pituitary Classification/data/train/no_tumor/no118.jpg',\n",
       " 'C:/Users/PC/Desktop/Github Projects/SAM-transfer learning/Pituitary Classification/data/train/no_tumor/no1180.jpg',\n",
       " 'C:/Users/PC/Desktop/Github Projects/SAM-transfer learning/Pituitary Classification/data/train/no_tumor/no1181.jpg',\n",
       " 'C:/Users/PC/Desktop/Github Projects/SAM-transfer learning/Pituitary Classification/data/train/no_tumor/no1182.jpg',\n",
       " 'C:/Users/PC/Desktop/Github Projects/SAM-transfer learning/Pituitary Classification/data/train/no_tumor/no1183.jpg',\n",
       " 'C:/Users/PC/Desktop/Github Projects/SAM-transfer learning/Pituitary Classification/data/train/no_tumor/no1184.jpg',\n",
       " 'C:/Users/PC/Desktop/Github Projects/SAM-transfer learning/Pituitary Classification/data/train/no_tumor/no1185.jpg',\n",
       " 'C:/Users/PC/Desktop/Github Projects/SAM-transfer learning/Pituitary Classification/data/train/no_tumor/no1186.jpg',\n",
       " 'C:/Users/PC/Desktop/Github Projects/SAM-transfer learning/Pituitary Classification/data/train/no_tumor/no1187.jpg',\n",
       " 'C:/Users/PC/Desktop/Github Projects/SAM-transfer learning/Pituitary Classification/data/train/no_tumor/no1188.jpg',\n",
       " 'C:/Users/PC/Desktop/Github Projects/SAM-transfer learning/Pituitary Classification/data/train/no_tumor/no1189.jpg',\n",
       " 'C:/Users/PC/Desktop/Github Projects/SAM-transfer learning/Pituitary Classification/data/train/no_tumor/no119.jpg',\n",
       " 'C:/Users/PC/Desktop/Github Projects/SAM-transfer learning/Pituitary Classification/data/train/no_tumor/no1190.jpg',\n",
       " 'C:/Users/PC/Desktop/Github Projects/SAM-transfer learning/Pituitary Classification/data/train/no_tumor/no1191.jpg',\n",
       " 'C:/Users/PC/Desktop/Github Projects/SAM-transfer learning/Pituitary Classification/data/train/no_tumor/no1192.jpg',\n",
       " 'C:/Users/PC/Desktop/Github Projects/SAM-transfer learning/Pituitary Classification/data/train/no_tumor/no1193.jpg',\n",
       " 'C:/Users/PC/Desktop/Github Projects/SAM-transfer learning/Pituitary Classification/data/train/no_tumor/no1194.jpg',\n",
       " 'C:/Users/PC/Desktop/Github Projects/SAM-transfer learning/Pituitary Classification/data/train/no_tumor/no1195.jpg',\n",
       " 'C:/Users/PC/Desktop/Github Projects/SAM-transfer learning/Pituitary Classification/data/train/no_tumor/no1196.jpg',\n",
       " 'C:/Users/PC/Desktop/Github Projects/SAM-transfer learning/Pituitary Classification/data/train/no_tumor/no1197.jpg',\n",
       " 'C:/Users/PC/Desktop/Github Projects/SAM-transfer learning/Pituitary Classification/data/train/no_tumor/no1198.jpg',\n",
       " 'C:/Users/PC/Desktop/Github Projects/SAM-transfer learning/Pituitary Classification/data/train/no_tumor/no1199.jpg',\n",
       " 'C:/Users/PC/Desktop/Github Projects/SAM-transfer learning/Pituitary Classification/data/train/no_tumor/No12.jpg',\n",
       " 'C:/Users/PC/Desktop/Github Projects/SAM-transfer learning/Pituitary Classification/data/train/no_tumor/no120.jpg',\n",
       " 'C:/Users/PC/Desktop/Github Projects/SAM-transfer learning/Pituitary Classification/data/train/no_tumor/no1200.jpg',\n",
       " 'C:/Users/PC/Desktop/Github Projects/SAM-transfer learning/Pituitary Classification/data/train/no_tumor/no1201.jpg',\n",
       " 'C:/Users/PC/Desktop/Github Projects/SAM-transfer learning/Pituitary Classification/data/train/no_tumor/no1202.jpg',\n",
       " 'C:/Users/PC/Desktop/Github Projects/SAM-transfer learning/Pituitary Classification/data/train/no_tumor/no1203.jpg',\n",
       " 'C:/Users/PC/Desktop/Github Projects/SAM-transfer learning/Pituitary Classification/data/train/no_tumor/no1204.jpg',\n",
       " 'C:/Users/PC/Desktop/Github Projects/SAM-transfer learning/Pituitary Classification/data/train/no_tumor/no1205.jpg',\n",
       " 'C:/Users/PC/Desktop/Github Projects/SAM-transfer learning/Pituitary Classification/data/train/no_tumor/no1206.jpg',\n",
       " 'C:/Users/PC/Desktop/Github Projects/SAM-transfer learning/Pituitary Classification/data/train/no_tumor/no1207.jpg',\n",
       " 'C:/Users/PC/Desktop/Github Projects/SAM-transfer learning/Pituitary Classification/data/train/no_tumor/no1208.jpg',\n",
       " 'C:/Users/PC/Desktop/Github Projects/SAM-transfer learning/Pituitary Classification/data/train/no_tumor/no1209.jpg',\n",
       " 'C:/Users/PC/Desktop/Github Projects/SAM-transfer learning/Pituitary Classification/data/train/no_tumor/no121.jpg',\n",
       " 'C:/Users/PC/Desktop/Github Projects/SAM-transfer learning/Pituitary Classification/data/train/no_tumor/no1210.jpg',\n",
       " 'C:/Users/PC/Desktop/Github Projects/SAM-transfer learning/Pituitary Classification/data/train/no_tumor/no1211.jpg',\n",
       " 'C:/Users/PC/Desktop/Github Projects/SAM-transfer learning/Pituitary Classification/data/train/no_tumor/no1212.jpg',\n",
       " 'C:/Users/PC/Desktop/Github Projects/SAM-transfer learning/Pituitary Classification/data/train/no_tumor/no1213.jpg',\n",
       " 'C:/Users/PC/Desktop/Github Projects/SAM-transfer learning/Pituitary Classification/data/train/no_tumor/no1214.jpg',\n",
       " 'C:/Users/PC/Desktop/Github Projects/SAM-transfer learning/Pituitary Classification/data/train/no_tumor/no1215.jpg',\n",
       " 'C:/Users/PC/Desktop/Github Projects/SAM-transfer learning/Pituitary Classification/data/train/no_tumor/no1216.jpg',\n",
       " 'C:/Users/PC/Desktop/Github Projects/SAM-transfer learning/Pituitary Classification/data/train/no_tumor/no1217.jpg',\n",
       " 'C:/Users/PC/Desktop/Github Projects/SAM-transfer learning/Pituitary Classification/data/train/no_tumor/no1218.jpg',\n",
       " 'C:/Users/PC/Desktop/Github Projects/SAM-transfer learning/Pituitary Classification/data/train/no_tumor/no1219.jpg',\n",
       " 'C:/Users/PC/Desktop/Github Projects/SAM-transfer learning/Pituitary Classification/data/train/no_tumor/no122.jpg',\n",
       " 'C:/Users/PC/Desktop/Github Projects/SAM-transfer learning/Pituitary Classification/data/train/no_tumor/no1220.jpg',\n",
       " 'C:/Users/PC/Desktop/Github Projects/SAM-transfer learning/Pituitary Classification/data/train/no_tumor/no1221.jpg',\n",
       " 'C:/Users/PC/Desktop/Github Projects/SAM-transfer learning/Pituitary Classification/data/train/no_tumor/no1222.jpg',\n",
       " 'C:/Users/PC/Desktop/Github Projects/SAM-transfer learning/Pituitary Classification/data/train/no_tumor/no1223.jpg',\n",
       " 'C:/Users/PC/Desktop/Github Projects/SAM-transfer learning/Pituitary Classification/data/train/no_tumor/no1224.jpg',\n",
       " 'C:/Users/PC/Desktop/Github Projects/SAM-transfer learning/Pituitary Classification/data/train/no_tumor/no1225.jpg',\n",
       " 'C:/Users/PC/Desktop/Github Projects/SAM-transfer learning/Pituitary Classification/data/train/no_tumor/no1226.jpg',\n",
       " 'C:/Users/PC/Desktop/Github Projects/SAM-transfer learning/Pituitary Classification/data/train/no_tumor/no1227.jpg',\n",
       " 'C:/Users/PC/Desktop/Github Projects/SAM-transfer learning/Pituitary Classification/data/train/no_tumor/no1228.jpg',\n",
       " 'C:/Users/PC/Desktop/Github Projects/SAM-transfer learning/Pituitary Classification/data/train/no_tumor/no1229.jpg',\n",
       " 'C:/Users/PC/Desktop/Github Projects/SAM-transfer learning/Pituitary Classification/data/train/no_tumor/no123.jpg',\n",
       " 'C:/Users/PC/Desktop/Github Projects/SAM-transfer learning/Pituitary Classification/data/train/no_tumor/no1230.jpg',\n",
       " 'C:/Users/PC/Desktop/Github Projects/SAM-transfer learning/Pituitary Classification/data/train/no_tumor/no1231.jpg',\n",
       " 'C:/Users/PC/Desktop/Github Projects/SAM-transfer learning/Pituitary Classification/data/train/no_tumor/no1232.jpg',\n",
       " 'C:/Users/PC/Desktop/Github Projects/SAM-transfer learning/Pituitary Classification/data/train/no_tumor/no1233.jpg',\n",
       " 'C:/Users/PC/Desktop/Github Projects/SAM-transfer learning/Pituitary Classification/data/train/no_tumor/no1234.jpg',\n",
       " 'C:/Users/PC/Desktop/Github Projects/SAM-transfer learning/Pituitary Classification/data/train/no_tumor/no1235.jpg',\n",
       " 'C:/Users/PC/Desktop/Github Projects/SAM-transfer learning/Pituitary Classification/data/train/no_tumor/no1236.jpg',\n",
       " 'C:/Users/PC/Desktop/Github Projects/SAM-transfer learning/Pituitary Classification/data/train/no_tumor/no1237.jpg',\n",
       " 'C:/Users/PC/Desktop/Github Projects/SAM-transfer learning/Pituitary Classification/data/train/no_tumor/no1238.jpg',\n",
       " 'C:/Users/PC/Desktop/Github Projects/SAM-transfer learning/Pituitary Classification/data/train/no_tumor/no1239.jpg',\n",
       " 'C:/Users/PC/Desktop/Github Projects/SAM-transfer learning/Pituitary Classification/data/train/no_tumor/no124.jpg',\n",
       " 'C:/Users/PC/Desktop/Github Projects/SAM-transfer learning/Pituitary Classification/data/train/no_tumor/no1240.jpg',\n",
       " 'C:/Users/PC/Desktop/Github Projects/SAM-transfer learning/Pituitary Classification/data/train/no_tumor/no1241.jpg',\n",
       " 'C:/Users/PC/Desktop/Github Projects/SAM-transfer learning/Pituitary Classification/data/train/no_tumor/no1242.jpg',\n",
       " 'C:/Users/PC/Desktop/Github Projects/SAM-transfer learning/Pituitary Classification/data/train/no_tumor/no1243.jpg',\n",
       " 'C:/Users/PC/Desktop/Github Projects/SAM-transfer learning/Pituitary Classification/data/train/no_tumor/no1244.jpg',\n",
       " 'C:/Users/PC/Desktop/Github Projects/SAM-transfer learning/Pituitary Classification/data/train/no_tumor/no1245.jpg',\n",
       " 'C:/Users/PC/Desktop/Github Projects/SAM-transfer learning/Pituitary Classification/data/train/no_tumor/no1246.jpg',\n",
       " 'C:/Users/PC/Desktop/Github Projects/SAM-transfer learning/Pituitary Classification/data/train/no_tumor/no1247.jpg',\n",
       " 'C:/Users/PC/Desktop/Github Projects/SAM-transfer learning/Pituitary Classification/data/train/no_tumor/no1248.jpg',\n",
       " 'C:/Users/PC/Desktop/Github Projects/SAM-transfer learning/Pituitary Classification/data/train/no_tumor/no1249.jpg',\n",
       " 'C:/Users/PC/Desktop/Github Projects/SAM-transfer learning/Pituitary Classification/data/train/no_tumor/no125.jpg',\n",
       " 'C:/Users/PC/Desktop/Github Projects/SAM-transfer learning/Pituitary Classification/data/train/no_tumor/no1250.jpg',\n",
       " 'C:/Users/PC/Desktop/Github Projects/SAM-transfer learning/Pituitary Classification/data/train/no_tumor/no1251.jpg',\n",
       " 'C:/Users/PC/Desktop/Github Projects/SAM-transfer learning/Pituitary Classification/data/train/no_tumor/no1252.jpg',\n",
       " 'C:/Users/PC/Desktop/Github Projects/SAM-transfer learning/Pituitary Classification/data/train/no_tumor/no1253.jpg',\n",
       " 'C:/Users/PC/Desktop/Github Projects/SAM-transfer learning/Pituitary Classification/data/train/no_tumor/no1254.jpg',\n",
       " 'C:/Users/PC/Desktop/Github Projects/SAM-transfer learning/Pituitary Classification/data/train/no_tumor/no1255.jpg',\n",
       " 'C:/Users/PC/Desktop/Github Projects/SAM-transfer learning/Pituitary Classification/data/train/no_tumor/no1256.jpg',\n",
       " 'C:/Users/PC/Desktop/Github Projects/SAM-transfer learning/Pituitary Classification/data/train/no_tumor/no1257.jpg',\n",
       " 'C:/Users/PC/Desktop/Github Projects/SAM-transfer learning/Pituitary Classification/data/train/no_tumor/no1258.jpg',\n",
       " 'C:/Users/PC/Desktop/Github Projects/SAM-transfer learning/Pituitary Classification/data/train/no_tumor/no1259.jpg',\n",
       " 'C:/Users/PC/Desktop/Github Projects/SAM-transfer learning/Pituitary Classification/data/train/no_tumor/no126.jpg',\n",
       " 'C:/Users/PC/Desktop/Github Projects/SAM-transfer learning/Pituitary Classification/data/train/no_tumor/no1260.jpg',\n",
       " 'C:/Users/PC/Desktop/Github Projects/SAM-transfer learning/Pituitary Classification/data/train/no_tumor/no1261.jpg',\n",
       " 'C:/Users/PC/Desktop/Github Projects/SAM-transfer learning/Pituitary Classification/data/train/no_tumor/no1262.jpg',\n",
       " 'C:/Users/PC/Desktop/Github Projects/SAM-transfer learning/Pituitary Classification/data/train/no_tumor/no1263.jpg',\n",
       " 'C:/Users/PC/Desktop/Github Projects/SAM-transfer learning/Pituitary Classification/data/train/no_tumor/no1264.jpg',\n",
       " 'C:/Users/PC/Desktop/Github Projects/SAM-transfer learning/Pituitary Classification/data/train/no_tumor/no1265.jpg',\n",
       " 'C:/Users/PC/Desktop/Github Projects/SAM-transfer learning/Pituitary Classification/data/train/no_tumor/no1266.jpg',\n",
       " 'C:/Users/PC/Desktop/Github Projects/SAM-transfer learning/Pituitary Classification/data/train/no_tumor/no1267.jpg',\n",
       " 'C:/Users/PC/Desktop/Github Projects/SAM-transfer learning/Pituitary Classification/data/train/no_tumor/no1268.jpg',\n",
       " 'C:/Users/PC/Desktop/Github Projects/SAM-transfer learning/Pituitary Classification/data/train/no_tumor/no1269.jpg',\n",
       " 'C:/Users/PC/Desktop/Github Projects/SAM-transfer learning/Pituitary Classification/data/train/no_tumor/no127.jpg',\n",
       " 'C:/Users/PC/Desktop/Github Projects/SAM-transfer learning/Pituitary Classification/data/train/no_tumor/no1270.jpg',\n",
       " 'C:/Users/PC/Desktop/Github Projects/SAM-transfer learning/Pituitary Classification/data/train/no_tumor/no1271.jpg',\n",
       " 'C:/Users/PC/Desktop/Github Projects/SAM-transfer learning/Pituitary Classification/data/train/no_tumor/no1272.jpg',\n",
       " 'C:/Users/PC/Desktop/Github Projects/SAM-transfer learning/Pituitary Classification/data/train/no_tumor/no1273.jpg',\n",
       " 'C:/Users/PC/Desktop/Github Projects/SAM-transfer learning/Pituitary Classification/data/train/no_tumor/no1274.jpg',\n",
       " 'C:/Users/PC/Desktop/Github Projects/SAM-transfer learning/Pituitary Classification/data/train/no_tumor/no1275.jpg',\n",
       " 'C:/Users/PC/Desktop/Github Projects/SAM-transfer learning/Pituitary Classification/data/train/no_tumor/no1276.jpg',\n",
       " 'C:/Users/PC/Desktop/Github Projects/SAM-transfer learning/Pituitary Classification/data/train/no_tumor/no1277.jpg',\n",
       " 'C:/Users/PC/Desktop/Github Projects/SAM-transfer learning/Pituitary Classification/data/train/no_tumor/no1278.jpg',\n",
       " 'C:/Users/PC/Desktop/Github Projects/SAM-transfer learning/Pituitary Classification/data/train/no_tumor/no1279.jpg',\n",
       " 'C:/Users/PC/Desktop/Github Projects/SAM-transfer learning/Pituitary Classification/data/train/no_tumor/no128.jpg',\n",
       " 'C:/Users/PC/Desktop/Github Projects/SAM-transfer learning/Pituitary Classification/data/train/no_tumor/no1280.jpg',\n",
       " 'C:/Users/PC/Desktop/Github Projects/SAM-transfer learning/Pituitary Classification/data/train/no_tumor/no1281.jpg',\n",
       " 'C:/Users/PC/Desktop/Github Projects/SAM-transfer learning/Pituitary Classification/data/train/no_tumor/no1282.jpg',\n",
       " 'C:/Users/PC/Desktop/Github Projects/SAM-transfer learning/Pituitary Classification/data/train/no_tumor/no1283.jpg',\n",
       " 'C:/Users/PC/Desktop/Github Projects/SAM-transfer learning/Pituitary Classification/data/train/no_tumor/no1284.jpg',\n",
       " 'C:/Users/PC/Desktop/Github Projects/SAM-transfer learning/Pituitary Classification/data/train/no_tumor/no1285.jpg',\n",
       " 'C:/Users/PC/Desktop/Github Projects/SAM-transfer learning/Pituitary Classification/data/train/no_tumor/no1286.jpg',\n",
       " 'C:/Users/PC/Desktop/Github Projects/SAM-transfer learning/Pituitary Classification/data/train/no_tumor/no1287.jpg',\n",
       " 'C:/Users/PC/Desktop/Github Projects/SAM-transfer learning/Pituitary Classification/data/train/no_tumor/no1288.jpg',\n",
       " 'C:/Users/PC/Desktop/Github Projects/SAM-transfer learning/Pituitary Classification/data/train/no_tumor/no1289.jpg',\n",
       " 'C:/Users/PC/Desktop/Github Projects/SAM-transfer learning/Pituitary Classification/data/train/no_tumor/no129.jpg',\n",
       " 'C:/Users/PC/Desktop/Github Projects/SAM-transfer learning/Pituitary Classification/data/train/no_tumor/no1290.jpg',\n",
       " 'C:/Users/PC/Desktop/Github Projects/SAM-transfer learning/Pituitary Classification/data/train/no_tumor/no1291.jpg',\n",
       " 'C:/Users/PC/Desktop/Github Projects/SAM-transfer learning/Pituitary Classification/data/train/no_tumor/no1292.jpg',\n",
       " 'C:/Users/PC/Desktop/Github Projects/SAM-transfer learning/Pituitary Classification/data/train/no_tumor/no1293.jpg',\n",
       " 'C:/Users/PC/Desktop/Github Projects/SAM-transfer learning/Pituitary Classification/data/train/no_tumor/no1294.jpg',\n",
       " 'C:/Users/PC/Desktop/Github Projects/SAM-transfer learning/Pituitary Classification/data/train/no_tumor/no1295.jpg',\n",
       " 'C:/Users/PC/Desktop/Github Projects/SAM-transfer learning/Pituitary Classification/data/train/no_tumor/no1296.jpg',\n",
       " 'C:/Users/PC/Desktop/Github Projects/SAM-transfer learning/Pituitary Classification/data/train/no_tumor/no1297.jpg',\n",
       " 'C:/Users/PC/Desktop/Github Projects/SAM-transfer learning/Pituitary Classification/data/train/no_tumor/no1298.jpg',\n",
       " 'C:/Users/PC/Desktop/Github Projects/SAM-transfer learning/Pituitary Classification/data/train/no_tumor/no1299.jpg',\n",
       " 'C:/Users/PC/Desktop/Github Projects/SAM-transfer learning/Pituitary Classification/data/train/no_tumor/No13.jpg',\n",
       " 'C:/Users/PC/Desktop/Github Projects/SAM-transfer learning/Pituitary Classification/data/train/no_tumor/no130.jpg',\n",
       " 'C:/Users/PC/Desktop/Github Projects/SAM-transfer learning/Pituitary Classification/data/train/no_tumor/no1300.jpg',\n",
       " 'C:/Users/PC/Desktop/Github Projects/SAM-transfer learning/Pituitary Classification/data/train/no_tumor/no1301.jpg',\n",
       " 'C:/Users/PC/Desktop/Github Projects/SAM-transfer learning/Pituitary Classification/data/train/no_tumor/no1302.jpg',\n",
       " 'C:/Users/PC/Desktop/Github Projects/SAM-transfer learning/Pituitary Classification/data/train/no_tumor/no1303.jpg',\n",
       " 'C:/Users/PC/Desktop/Github Projects/SAM-transfer learning/Pituitary Classification/data/train/no_tumor/no1304.jpg',\n",
       " 'C:/Users/PC/Desktop/Github Projects/SAM-transfer learning/Pituitary Classification/data/train/no_tumor/no1305.jpg',\n",
       " 'C:/Users/PC/Desktop/Github Projects/SAM-transfer learning/Pituitary Classification/data/train/no_tumor/no1306.jpg',\n",
       " 'C:/Users/PC/Desktop/Github Projects/SAM-transfer learning/Pituitary Classification/data/train/no_tumor/no1307.jpg',\n",
       " 'C:/Users/PC/Desktop/Github Projects/SAM-transfer learning/Pituitary Classification/data/train/no_tumor/no1308.jpg',\n",
       " 'C:/Users/PC/Desktop/Github Projects/SAM-transfer learning/Pituitary Classification/data/train/no_tumor/no1309.jpg',\n",
       " 'C:/Users/PC/Desktop/Github Projects/SAM-transfer learning/Pituitary Classification/data/train/no_tumor/no131.jpg',\n",
       " 'C:/Users/PC/Desktop/Github Projects/SAM-transfer learning/Pituitary Classification/data/train/no_tumor/no1310.jpg',\n",
       " 'C:/Users/PC/Desktop/Github Projects/SAM-transfer learning/Pituitary Classification/data/train/no_tumor/no1311.jpg',\n",
       " 'C:/Users/PC/Desktop/Github Projects/SAM-transfer learning/Pituitary Classification/data/train/no_tumor/no1312.jpg',\n",
       " 'C:/Users/PC/Desktop/Github Projects/SAM-transfer learning/Pituitary Classification/data/train/no_tumor/no1313.jpg',\n",
       " 'C:/Users/PC/Desktop/Github Projects/SAM-transfer learning/Pituitary Classification/data/train/no_tumor/no1314.jpg',\n",
       " 'C:/Users/PC/Desktop/Github Projects/SAM-transfer learning/Pituitary Classification/data/train/no_tumor/no1315.jpg',\n",
       " 'C:/Users/PC/Desktop/Github Projects/SAM-transfer learning/Pituitary Classification/data/train/no_tumor/no1316.jpg',\n",
       " 'C:/Users/PC/Desktop/Github Projects/SAM-transfer learning/Pituitary Classification/data/train/no_tumor/no1317.jpg',\n",
       " 'C:/Users/PC/Desktop/Github Projects/SAM-transfer learning/Pituitary Classification/data/train/no_tumor/no1318.jpg',\n",
       " 'C:/Users/PC/Desktop/Github Projects/SAM-transfer learning/Pituitary Classification/data/train/no_tumor/no1319.jpg',\n",
       " 'C:/Users/PC/Desktop/Github Projects/SAM-transfer learning/Pituitary Classification/data/train/no_tumor/no132.jpg',\n",
       " 'C:/Users/PC/Desktop/Github Projects/SAM-transfer learning/Pituitary Classification/data/train/no_tumor/no1320.jpg',\n",
       " 'C:/Users/PC/Desktop/Github Projects/SAM-transfer learning/Pituitary Classification/data/train/no_tumor/no1321.jpg',\n",
       " 'C:/Users/PC/Desktop/Github Projects/SAM-transfer learning/Pituitary Classification/data/train/no_tumor/no1322.jpg',\n",
       " 'C:/Users/PC/Desktop/Github Projects/SAM-transfer learning/Pituitary Classification/data/train/no_tumor/no1323.jpg',\n",
       " 'C:/Users/PC/Desktop/Github Projects/SAM-transfer learning/Pituitary Classification/data/train/no_tumor/no1324.jpg',\n",
       " 'C:/Users/PC/Desktop/Github Projects/SAM-transfer learning/Pituitary Classification/data/train/no_tumor/no1325.jpg',\n",
       " 'C:/Users/PC/Desktop/Github Projects/SAM-transfer learning/Pituitary Classification/data/train/no_tumor/no1326.jpg',\n",
       " 'C:/Users/PC/Desktop/Github Projects/SAM-transfer learning/Pituitary Classification/data/train/no_tumor/no1327.jpg',\n",
       " 'C:/Users/PC/Desktop/Github Projects/SAM-transfer learning/Pituitary Classification/data/train/no_tumor/no1328.jpg',\n",
       " 'C:/Users/PC/Desktop/Github Projects/SAM-transfer learning/Pituitary Classification/data/train/no_tumor/no1329.jpg',\n",
       " 'C:/Users/PC/Desktop/Github Projects/SAM-transfer learning/Pituitary Classification/data/train/no_tumor/no133.jpg',\n",
       " 'C:/Users/PC/Desktop/Github Projects/SAM-transfer learning/Pituitary Classification/data/train/no_tumor/no1330.jpg',\n",
       " 'C:/Users/PC/Desktop/Github Projects/SAM-transfer learning/Pituitary Classification/data/train/no_tumor/no1331.jpg',\n",
       " 'C:/Users/PC/Desktop/Github Projects/SAM-transfer learning/Pituitary Classification/data/train/no_tumor/no1332.jpg',\n",
       " 'C:/Users/PC/Desktop/Github Projects/SAM-transfer learning/Pituitary Classification/data/train/no_tumor/no1333.jpg',\n",
       " 'C:/Users/PC/Desktop/Github Projects/SAM-transfer learning/Pituitary Classification/data/train/no_tumor/no1334.jpg',\n",
       " 'C:/Users/PC/Desktop/Github Projects/SAM-transfer learning/Pituitary Classification/data/train/no_tumor/no1335.jpg',\n",
       " 'C:/Users/PC/Desktop/Github Projects/SAM-transfer learning/Pituitary Classification/data/train/no_tumor/no1336.jpg',\n",
       " 'C:/Users/PC/Desktop/Github Projects/SAM-transfer learning/Pituitary Classification/data/train/no_tumor/no1337.jpg',\n",
       " 'C:/Users/PC/Desktop/Github Projects/SAM-transfer learning/Pituitary Classification/data/train/no_tumor/no1338.jpg',\n",
       " 'C:/Users/PC/Desktop/Github Projects/SAM-transfer learning/Pituitary Classification/data/train/no_tumor/no1339.jpg',\n",
       " 'C:/Users/PC/Desktop/Github Projects/SAM-transfer learning/Pituitary Classification/data/train/no_tumor/no134.jpg',\n",
       " 'C:/Users/PC/Desktop/Github Projects/SAM-transfer learning/Pituitary Classification/data/train/no_tumor/no1340.jpg',\n",
       " 'C:/Users/PC/Desktop/Github Projects/SAM-transfer learning/Pituitary Classification/data/train/no_tumor/no1341.jpg',\n",
       " 'C:/Users/PC/Desktop/Github Projects/SAM-transfer learning/Pituitary Classification/data/train/no_tumor/no1342.jpg',\n",
       " 'C:/Users/PC/Desktop/Github Projects/SAM-transfer learning/Pituitary Classification/data/train/no_tumor/no1343.jpg',\n",
       " 'C:/Users/PC/Desktop/Github Projects/SAM-transfer learning/Pituitary Classification/data/train/no_tumor/no1344.jpg',\n",
       " 'C:/Users/PC/Desktop/Github Projects/SAM-transfer learning/Pituitary Classification/data/train/no_tumor/no1345.jpg',\n",
       " 'C:/Users/PC/Desktop/Github Projects/SAM-transfer learning/Pituitary Classification/data/train/no_tumor/no1346.jpg',\n",
       " 'C:/Users/PC/Desktop/Github Projects/SAM-transfer learning/Pituitary Classification/data/train/no_tumor/no1347.jpg',\n",
       " 'C:/Users/PC/Desktop/Github Projects/SAM-transfer learning/Pituitary Classification/data/train/no_tumor/no1348.jpg',\n",
       " 'C:/Users/PC/Desktop/Github Projects/SAM-transfer learning/Pituitary Classification/data/train/no_tumor/no1349.jpg',\n",
       " 'C:/Users/PC/Desktop/Github Projects/SAM-transfer learning/Pituitary Classification/data/train/no_tumor/no135.jpg',\n",
       " 'C:/Users/PC/Desktop/Github Projects/SAM-transfer learning/Pituitary Classification/data/train/no_tumor/no1350.jpg',\n",
       " 'C:/Users/PC/Desktop/Github Projects/SAM-transfer learning/Pituitary Classification/data/train/no_tumor/no1351.jpg',\n",
       " 'C:/Users/PC/Desktop/Github Projects/SAM-transfer learning/Pituitary Classification/data/train/no_tumor/no1352.jpg',\n",
       " 'C:/Users/PC/Desktop/Github Projects/SAM-transfer learning/Pituitary Classification/data/train/no_tumor/no1353.jpg',\n",
       " 'C:/Users/PC/Desktop/Github Projects/SAM-transfer learning/Pituitary Classification/data/train/no_tumor/no1354.jpg',\n",
       " 'C:/Users/PC/Desktop/Github Projects/SAM-transfer learning/Pituitary Classification/data/train/no_tumor/no1355.jpg',\n",
       " 'C:/Users/PC/Desktop/Github Projects/SAM-transfer learning/Pituitary Classification/data/train/no_tumor/no1356.jpg',\n",
       " 'C:/Users/PC/Desktop/Github Projects/SAM-transfer learning/Pituitary Classification/data/train/no_tumor/no1357.jpg',\n",
       " 'C:/Users/PC/Desktop/Github Projects/SAM-transfer learning/Pituitary Classification/data/train/no_tumor/no1358.jpg',\n",
       " 'C:/Users/PC/Desktop/Github Projects/SAM-transfer learning/Pituitary Classification/data/train/no_tumor/no1359.jpg',\n",
       " 'C:/Users/PC/Desktop/Github Projects/SAM-transfer learning/Pituitary Classification/data/train/no_tumor/no136.jpg',\n",
       " 'C:/Users/PC/Desktop/Github Projects/SAM-transfer learning/Pituitary Classification/data/train/no_tumor/no1360.jpg',\n",
       " 'C:/Users/PC/Desktop/Github Projects/SAM-transfer learning/Pituitary Classification/data/train/no_tumor/no1361.jpg',\n",
       " 'C:/Users/PC/Desktop/Github Projects/SAM-transfer learning/Pituitary Classification/data/train/no_tumor/no1362.jpg',\n",
       " 'C:/Users/PC/Desktop/Github Projects/SAM-transfer learning/Pituitary Classification/data/train/no_tumor/no1363.jpg',\n",
       " 'C:/Users/PC/Desktop/Github Projects/SAM-transfer learning/Pituitary Classification/data/train/no_tumor/no1364.jpg',\n",
       " 'C:/Users/PC/Desktop/Github Projects/SAM-transfer learning/Pituitary Classification/data/train/no_tumor/no1365.jpg',\n",
       " 'C:/Users/PC/Desktop/Github Projects/SAM-transfer learning/Pituitary Classification/data/train/no_tumor/no1366.jpg',\n",
       " 'C:/Users/PC/Desktop/Github Projects/SAM-transfer learning/Pituitary Classification/data/train/no_tumor/no1367.jpg',\n",
       " 'C:/Users/PC/Desktop/Github Projects/SAM-transfer learning/Pituitary Classification/data/train/no_tumor/no1368.jpg',\n",
       " 'C:/Users/PC/Desktop/Github Projects/SAM-transfer learning/Pituitary Classification/data/train/no_tumor/no1369.jpg',\n",
       " 'C:/Users/PC/Desktop/Github Projects/SAM-transfer learning/Pituitary Classification/data/train/no_tumor/no137.jpg',\n",
       " 'C:/Users/PC/Desktop/Github Projects/SAM-transfer learning/Pituitary Classification/data/train/no_tumor/no1370.jpg',\n",
       " 'C:/Users/PC/Desktop/Github Projects/SAM-transfer learning/Pituitary Classification/data/train/no_tumor/no1371.jpg',\n",
       " 'C:/Users/PC/Desktop/Github Projects/SAM-transfer learning/Pituitary Classification/data/train/no_tumor/no1372.jpg',\n",
       " 'C:/Users/PC/Desktop/Github Projects/SAM-transfer learning/Pituitary Classification/data/train/no_tumor/no1373.jpg',\n",
       " 'C:/Users/PC/Desktop/Github Projects/SAM-transfer learning/Pituitary Classification/data/train/no_tumor/no1374.jpg',\n",
       " 'C:/Users/PC/Desktop/Github Projects/SAM-transfer learning/Pituitary Classification/data/train/no_tumor/no1375.jpg',\n",
       " 'C:/Users/PC/Desktop/Github Projects/SAM-transfer learning/Pituitary Classification/data/train/no_tumor/no1376.jpg',\n",
       " 'C:/Users/PC/Desktop/Github Projects/SAM-transfer learning/Pituitary Classification/data/train/no_tumor/no1377.jpg',\n",
       " 'C:/Users/PC/Desktop/Github Projects/SAM-transfer learning/Pituitary Classification/data/train/no_tumor/no1378.jpg',\n",
       " 'C:/Users/PC/Desktop/Github Projects/SAM-transfer learning/Pituitary Classification/data/train/no_tumor/no1379.jpg',\n",
       " 'C:/Users/PC/Desktop/Github Projects/SAM-transfer learning/Pituitary Classification/data/train/no_tumor/no138.jpg',\n",
       " 'C:/Users/PC/Desktop/Github Projects/SAM-transfer learning/Pituitary Classification/data/train/no_tumor/no1380.jpg',\n",
       " 'C:/Users/PC/Desktop/Github Projects/SAM-transfer learning/Pituitary Classification/data/train/no_tumor/no1381.jpg',\n",
       " 'C:/Users/PC/Desktop/Github Projects/SAM-transfer learning/Pituitary Classification/data/train/no_tumor/no1382.jpg',\n",
       " 'C:/Users/PC/Desktop/Github Projects/SAM-transfer learning/Pituitary Classification/data/train/no_tumor/no1383.jpg',\n",
       " 'C:/Users/PC/Desktop/Github Projects/SAM-transfer learning/Pituitary Classification/data/train/no_tumor/no1384.jpg',\n",
       " 'C:/Users/PC/Desktop/Github Projects/SAM-transfer learning/Pituitary Classification/data/train/no_tumor/no1385.jpg',\n",
       " 'C:/Users/PC/Desktop/Github Projects/SAM-transfer learning/Pituitary Classification/data/train/no_tumor/no1386.jpg',\n",
       " 'C:/Users/PC/Desktop/Github Projects/SAM-transfer learning/Pituitary Classification/data/train/no_tumor/no1387.jpg',\n",
       " 'C:/Users/PC/Desktop/Github Projects/SAM-transfer learning/Pituitary Classification/data/train/no_tumor/no1388.jpg',\n",
       " 'C:/Users/PC/Desktop/Github Projects/SAM-transfer learning/Pituitary Classification/data/train/no_tumor/no1389.jpg',\n",
       " 'C:/Users/PC/Desktop/Github Projects/SAM-transfer learning/Pituitary Classification/data/train/no_tumor/no139.jpg',\n",
       " 'C:/Users/PC/Desktop/Github Projects/SAM-transfer learning/Pituitary Classification/data/train/no_tumor/no1390.jpg',\n",
       " 'C:/Users/PC/Desktop/Github Projects/SAM-transfer learning/Pituitary Classification/data/train/no_tumor/no1391.jpg',\n",
       " 'C:/Users/PC/Desktop/Github Projects/SAM-transfer learning/Pituitary Classification/data/train/no_tumor/no1392.jpg',\n",
       " 'C:/Users/PC/Desktop/Github Projects/SAM-transfer learning/Pituitary Classification/data/train/no_tumor/no1393.jpg',\n",
       " 'C:/Users/PC/Desktop/Github Projects/SAM-transfer learning/Pituitary Classification/data/train/no_tumor/no1394.jpg',\n",
       " 'C:/Users/PC/Desktop/Github Projects/SAM-transfer learning/Pituitary Classification/data/train/no_tumor/no1395.jpg',\n",
       " 'C:/Users/PC/Desktop/Github Projects/SAM-transfer learning/Pituitary Classification/data/train/no_tumor/no1396.jpg',\n",
       " 'C:/Users/PC/Desktop/Github Projects/SAM-transfer learning/Pituitary Classification/data/train/no_tumor/no1397.jpg',\n",
       " 'C:/Users/PC/Desktop/Github Projects/SAM-transfer learning/Pituitary Classification/data/train/no_tumor/no1398.jpg',\n",
       " 'C:/Users/PC/Desktop/Github Projects/SAM-transfer learning/Pituitary Classification/data/train/no_tumor/no1399.jpg',\n",
       " 'C:/Users/PC/Desktop/Github Projects/SAM-transfer learning/Pituitary Classification/data/train/no_tumor/No14.jpg',\n",
       " 'C:/Users/PC/Desktop/Github Projects/SAM-transfer learning/Pituitary Classification/data/train/no_tumor/no140.jpg',\n",
       " 'C:/Users/PC/Desktop/Github Projects/SAM-transfer learning/Pituitary Classification/data/train/no_tumor/no1400.jpg',\n",
       " 'C:/Users/PC/Desktop/Github Projects/SAM-transfer learning/Pituitary Classification/data/train/no_tumor/no1401.jpg',\n",
       " 'C:/Users/PC/Desktop/Github Projects/SAM-transfer learning/Pituitary Classification/data/train/no_tumor/no1402.jpg',\n",
       " 'C:/Users/PC/Desktop/Github Projects/SAM-transfer learning/Pituitary Classification/data/train/no_tumor/no1403.jpg',\n",
       " 'C:/Users/PC/Desktop/Github Projects/SAM-transfer learning/Pituitary Classification/data/train/no_tumor/no1404.jpg',\n",
       " 'C:/Users/PC/Desktop/Github Projects/SAM-transfer learning/Pituitary Classification/data/train/no_tumor/no1405.jpg',\n",
       " 'C:/Users/PC/Desktop/Github Projects/SAM-transfer learning/Pituitary Classification/data/train/no_tumor/no1406.jpg',\n",
       " 'C:/Users/PC/Desktop/Github Projects/SAM-transfer learning/Pituitary Classification/data/train/no_tumor/no1407.jpg',\n",
       " 'C:/Users/PC/Desktop/Github Projects/SAM-transfer learning/Pituitary Classification/data/train/no_tumor/no1408.jpg',\n",
       " 'C:/Users/PC/Desktop/Github Projects/SAM-transfer learning/Pituitary Classification/data/train/no_tumor/no1409.jpg',\n",
       " 'C:/Users/PC/Desktop/Github Projects/SAM-transfer learning/Pituitary Classification/data/train/no_tumor/no141.jpg',\n",
       " 'C:/Users/PC/Desktop/Github Projects/SAM-transfer learning/Pituitary Classification/data/train/no_tumor/no1410.jpg',\n",
       " 'C:/Users/PC/Desktop/Github Projects/SAM-transfer learning/Pituitary Classification/data/train/no_tumor/no1411.jpg',\n",
       " 'C:/Users/PC/Desktop/Github Projects/SAM-transfer learning/Pituitary Classification/data/train/no_tumor/no1412.jpg',\n",
       " 'C:/Users/PC/Desktop/Github Projects/SAM-transfer learning/Pituitary Classification/data/train/no_tumor/no1413.jpg',\n",
       " 'C:/Users/PC/Desktop/Github Projects/SAM-transfer learning/Pituitary Classification/data/train/no_tumor/no1414.jpg',\n",
       " 'C:/Users/PC/Desktop/Github Projects/SAM-transfer learning/Pituitary Classification/data/train/no_tumor/no1415.jpg',\n",
       " 'C:/Users/PC/Desktop/Github Projects/SAM-transfer learning/Pituitary Classification/data/train/no_tumor/no1416.jpg',\n",
       " 'C:/Users/PC/Desktop/Github Projects/SAM-transfer learning/Pituitary Classification/data/train/no_tumor/no1417.jpg',\n",
       " 'C:/Users/PC/Desktop/Github Projects/SAM-transfer learning/Pituitary Classification/data/train/no_tumor/no1418.jpg',\n",
       " 'C:/Users/PC/Desktop/Github Projects/SAM-transfer learning/Pituitary Classification/data/train/no_tumor/no1419.jpg',\n",
       " 'C:/Users/PC/Desktop/Github Projects/SAM-transfer learning/Pituitary Classification/data/train/no_tumor/no142.jpg',\n",
       " 'C:/Users/PC/Desktop/Github Projects/SAM-transfer learning/Pituitary Classification/data/train/no_tumor/no1420.jpg',\n",
       " 'C:/Users/PC/Desktop/Github Projects/SAM-transfer learning/Pituitary Classification/data/train/no_tumor/no1421.jpg',\n",
       " 'C:/Users/PC/Desktop/Github Projects/SAM-transfer learning/Pituitary Classification/data/train/no_tumor/no1422.jpg',\n",
       " 'C:/Users/PC/Desktop/Github Projects/SAM-transfer learning/Pituitary Classification/data/train/no_tumor/no1423.jpg',\n",
       " 'C:/Users/PC/Desktop/Github Projects/SAM-transfer learning/Pituitary Classification/data/train/no_tumor/no1424.jpg',\n",
       " 'C:/Users/PC/Desktop/Github Projects/SAM-transfer learning/Pituitary Classification/data/train/no_tumor/no1425.jpg',\n",
       " 'C:/Users/PC/Desktop/Github Projects/SAM-transfer learning/Pituitary Classification/data/train/no_tumor/no1426.jpg',\n",
       " 'C:/Users/PC/Desktop/Github Projects/SAM-transfer learning/Pituitary Classification/data/train/no_tumor/no1427.jpg',\n",
       " 'C:/Users/PC/Desktop/Github Projects/SAM-transfer learning/Pituitary Classification/data/train/no_tumor/no1428.jpg',\n",
       " 'C:/Users/PC/Desktop/Github Projects/SAM-transfer learning/Pituitary Classification/data/train/no_tumor/no1429.jpg',\n",
       " 'C:/Users/PC/Desktop/Github Projects/SAM-transfer learning/Pituitary Classification/data/train/no_tumor/no143.jpg',\n",
       " 'C:/Users/PC/Desktop/Github Projects/SAM-transfer learning/Pituitary Classification/data/train/no_tumor/no1430.jpg',\n",
       " 'C:/Users/PC/Desktop/Github Projects/SAM-transfer learning/Pituitary Classification/data/train/no_tumor/no1431.jpg',\n",
       " 'C:/Users/PC/Desktop/Github Projects/SAM-transfer learning/Pituitary Classification/data/train/no_tumor/no1432.jpg',\n",
       " 'C:/Users/PC/Desktop/Github Projects/SAM-transfer learning/Pituitary Classification/data/train/no_tumor/no1433.jpg',\n",
       " 'C:/Users/PC/Desktop/Github Projects/SAM-transfer learning/Pituitary Classification/data/train/no_tumor/no1434.jpg',\n",
       " 'C:/Users/PC/Desktop/Github Projects/SAM-transfer learning/Pituitary Classification/data/train/no_tumor/no1435.jpg',\n",
       " 'C:/Users/PC/Desktop/Github Projects/SAM-transfer learning/Pituitary Classification/data/train/no_tumor/no1436.jpg',\n",
       " 'C:/Users/PC/Desktop/Github Projects/SAM-transfer learning/Pituitary Classification/data/train/no_tumor/no1437.jpg',\n",
       " 'C:/Users/PC/Desktop/Github Projects/SAM-transfer learning/Pituitary Classification/data/train/no_tumor/no1438.jpg',\n",
       " 'C:/Users/PC/Desktop/Github Projects/SAM-transfer learning/Pituitary Classification/data/train/no_tumor/no1439.jpg',\n",
       " 'C:/Users/PC/Desktop/Github Projects/SAM-transfer learning/Pituitary Classification/data/train/no_tumor/no144.jpg',\n",
       " 'C:/Users/PC/Desktop/Github Projects/SAM-transfer learning/Pituitary Classification/data/train/no_tumor/no1440.jpg',\n",
       " 'C:/Users/PC/Desktop/Github Projects/SAM-transfer learning/Pituitary Classification/data/train/no_tumor/no1441.jpg',\n",
       " 'C:/Users/PC/Desktop/Github Projects/SAM-transfer learning/Pituitary Classification/data/train/no_tumor/no1442.jpg',\n",
       " 'C:/Users/PC/Desktop/Github Projects/SAM-transfer learning/Pituitary Classification/data/train/no_tumor/no1443.jpg',\n",
       " 'C:/Users/PC/Desktop/Github Projects/SAM-transfer learning/Pituitary Classification/data/train/no_tumor/no1444.jpg',\n",
       " 'C:/Users/PC/Desktop/Github Projects/SAM-transfer learning/Pituitary Classification/data/train/no_tumor/no1445.jpg',\n",
       " 'C:/Users/PC/Desktop/Github Projects/SAM-transfer learning/Pituitary Classification/data/train/no_tumor/no1446.jpg',\n",
       " 'C:/Users/PC/Desktop/Github Projects/SAM-transfer learning/Pituitary Classification/data/train/no_tumor/no1447.jpg',\n",
       " 'C:/Users/PC/Desktop/Github Projects/SAM-transfer learning/Pituitary Classification/data/train/no_tumor/no1448.jpg',\n",
       " 'C:/Users/PC/Desktop/Github Projects/SAM-transfer learning/Pituitary Classification/data/train/no_tumor/no1449.jpg',\n",
       " 'C:/Users/PC/Desktop/Github Projects/SAM-transfer learning/Pituitary Classification/data/train/no_tumor/no145.jpg',\n",
       " 'C:/Users/PC/Desktop/Github Projects/SAM-transfer learning/Pituitary Classification/data/train/no_tumor/no1450.jpg',\n",
       " 'C:/Users/PC/Desktop/Github Projects/SAM-transfer learning/Pituitary Classification/data/train/no_tumor/no1451.jpg',\n",
       " 'C:/Users/PC/Desktop/Github Projects/SAM-transfer learning/Pituitary Classification/data/train/no_tumor/no1452.jpg',\n",
       " 'C:/Users/PC/Desktop/Github Projects/SAM-transfer learning/Pituitary Classification/data/train/no_tumor/no1453.jpg',\n",
       " 'C:/Users/PC/Desktop/Github Projects/SAM-transfer learning/Pituitary Classification/data/train/no_tumor/no1454.jpg',\n",
       " 'C:/Users/PC/Desktop/Github Projects/SAM-transfer learning/Pituitary Classification/data/train/no_tumor/no1455.jpg',\n",
       " 'C:/Users/PC/Desktop/Github Projects/SAM-transfer learning/Pituitary Classification/data/train/no_tumor/no1456.jpg',\n",
       " 'C:/Users/PC/Desktop/Github Projects/SAM-transfer learning/Pituitary Classification/data/train/no_tumor/no1457.jpg',\n",
       " 'C:/Users/PC/Desktop/Github Projects/SAM-transfer learning/Pituitary Classification/data/train/no_tumor/no1458.jpg',\n",
       " 'C:/Users/PC/Desktop/Github Projects/SAM-transfer learning/Pituitary Classification/data/train/no_tumor/no1459.jpg',\n",
       " 'C:/Users/PC/Desktop/Github Projects/SAM-transfer learning/Pituitary Classification/data/train/no_tumor/no146.jpg',\n",
       " 'C:/Users/PC/Desktop/Github Projects/SAM-transfer learning/Pituitary Classification/data/train/no_tumor/no1460.jpg',\n",
       " 'C:/Users/PC/Desktop/Github Projects/SAM-transfer learning/Pituitary Classification/data/train/no_tumor/no1461.jpg',\n",
       " 'C:/Users/PC/Desktop/Github Projects/SAM-transfer learning/Pituitary Classification/data/train/no_tumor/no1462.jpg',\n",
       " 'C:/Users/PC/Desktop/Github Projects/SAM-transfer learning/Pituitary Classification/data/train/no_tumor/no1463.jpg',\n",
       " 'C:/Users/PC/Desktop/Github Projects/SAM-transfer learning/Pituitary Classification/data/train/no_tumor/no1464.jpg',\n",
       " 'C:/Users/PC/Desktop/Github Projects/SAM-transfer learning/Pituitary Classification/data/train/no_tumor/no1465.jpg',\n",
       " ...]"
      ]
     },
     "execution_count": 147,
     "metadata": {},
     "output_type": "execute_result"
    }
   ],
   "source": [
    "image_urls"
   ]
  },
  {
   "cell_type": "code",
   "execution_count": 150,
   "metadata": {
    "tags": []
   },
   "outputs": [],
   "source": [
    "# Create a directory to save the preprocessed images\n",
    "output_directory = 'C:/Users/PC/Downloads/d2/seg_to_grey_no_tumor/'\n",
    "os.makedirs(output_directory, exist_ok=True)\n",
    "\n",
    "preprocessed_images = []\n",
    "count = 0\n",
    "# Iterate through the list and preprocess each image\n",
    "for i in image_urls:\n",
    "    image = cv2.imread(i)\n",
    "    grayscale = cv2.cvtColor(image, cv2.COLOR_BGR2GRAY)\n",
    "    \n",
    "    # Filename \n",
    "    filename = os.path.basename(i)\n",
    "  \n",
    "    # Using cv2.imwrite() method \n",
    "    # Saving the image \n",
    "    cv2.imwrite(output_directory+filename, grayscale) "
   ]
  },
  {
   "cell_type": "markdown",
   "metadata": {
    "id": "ggq-_37LJXDI",
    "jp-MarkdownHeadingCollapsed": true,
    "tags": []
   },
   "source": [
    "# Data Augmentation"
   ]
  },
  {
   "cell_type": "code",
   "execution_count": null,
   "metadata": {
    "colab": {
     "base_uri": "https://localhost:8080/"
    },
    "id": "YRsrQzBYJZJJ",
    "outputId": "65aac80e-1b08-4682-c986-fe74ae8a0a22"
   },
   "outputs": [
    {
     "name": "stdout",
     "output_type": "stream",
     "text": [
      "Data augmentation complete.\n"
     ]
    }
   ],
   "source": [
    "import os\n",
    "import cv2\n",
    "import numpy as np\n",
    "from PIL import Image\n",
    "from keras.preprocessing import image\n",
    "from keras.preprocessing.image import ImageDataGenerator\n",
    "\n",
    "# Define the directory containing your original images\n",
    "original_data_dir = '/content/drive/MyDrive/Colab Notebooks/data/train/no_tumor'\n",
    "\n",
    "\n",
    "# Define the directory where augmented images will be saved\n",
    "augmented_data_dir = '/content/drive/MyDrive/Colab Notebooks/data/augmented_images/no_tumor'\n",
    "\n",
    "# Define data augmentation parameters\n",
    "datagen = ImageDataGenerator(\n",
    "   rotation_range=10,\n",
    "                                  width_shift_range=0.1,\n",
    "                                  height_shift_range=0.1,\n",
    "                                  shear_range=0.1,\n",
    "                                  brightness_range=(0.3, 1.0),\n",
    "                                  horizontal_flip=True,\n",
    "                                  vertical_flip=True,\n",
    "                                  fill_mode='nearest'\n",
    ")\n",
    "\n",
    "# List all image files in the original directory\n",
    "image_files = os.listdir(original_data_dir)\n",
    "\n",
    "# Apply data augmentation and save augmented images\n",
    "for img_file in image_files:\n",
    "    img_path = os.path.join(original_data_dir, img_file)\n",
    "    img = Image.open(img_path)\n",
    "    rgb_im = img.convert('RGB')\n",
    "    img = rgb_im\n",
    "    img = image.img_to_array(img)\n",
    "    img = np.expand_dims(img, axis=0)\n",
    "\n",
    "    # Generate augmented images\n",
    "    aug_iter = datagen.flow(img, save_to_dir=augmented_data_dir, save_prefix='aug', save_format='jpg')\n",
    "\n",
    "    # Generate and save multiple augmented images\n",
    "    num_augmented_images = 1  # You can change this number as needed\n",
    "    for i in range(num_augmented_images):\n",
    "        next(aug_iter)\n",
    "\n",
    "print(\"Data augmentation complete.\")"
   ]
  },
  {
   "cell_type": "markdown",
   "metadata": {
    "id": "PnAcR1k3K92i",
    "tags": []
   },
   "source": [
    "# Data Preparing"
   ]
  },
  {
   "cell_type": "code",
   "execution_count": 77,
   "metadata": {
    "colab": {
     "base_uri": "https://localhost:8080/"
    },
    "id": "-IaaxwProiUZ",
    "outputId": "e2ac254a-bdb9-433b-f0d5-4b76fb2151f2"
   },
   "outputs": [
    {
     "name": "stdout",
     "output_type": "stream",
     "text": [
      "Found 2471 images belonging to 2 classes.\n",
      "Found 617 images belonging to 2 classes.\n"
     ]
    }
   ],
   "source": [
    "# Set random seed for reproducibility\n",
    "np.random.seed(42)\n",
    "tf.random.set_seed(42)\n",
    "\n",
    "\n",
    "# Set the image size, batch size, and number of classes\n",
    "img_width, img_height = 224, 224\n",
    "batch_size = 32\n",
    "num_classes = 2\n",
    "\n",
    "\n",
    "# Define the paths to your training and validation data directories\n",
    "data_dir = './data_original'\n",
    "#train_data = './Brain Tumor/Training - Full'\n",
    "#test_data = './Brain Tumor/Testing - Full'\n",
    "\n",
    "# Define the data generators for training and validation\n",
    "datagen = ImageDataGenerator(rescale=1./255, validation_split=0.2)\n",
    "\n",
    "\n",
    "train_generator = datagen.flow_from_directory(\n",
    "    data_dir,\n",
    "    target_size=(img_width, img_height),\n",
    "    batch_size=batch_size,\n",
    "    class_mode='categorical',\n",
    "    subset='training'\n",
    ")\n",
    "\n",
    "valid_generator = datagen.flow_from_directory(\n",
    "    data_dir,\n",
    "    target_size=(img_width, img_height),\n",
    "    batch_size=batch_size,\n",
    "    class_mode='categorical',\n",
    "    subset='validation'\n",
    ")"
   ]
  },
  {
   "cell_type": "code",
   "execution_count": 78,
   "metadata": {
    "id": "LOQiP-QfLPp5"
   },
   "outputs": [],
   "source": [
    "# Get the class names\n",
    "class_names = list(train_generator.class_indices.keys())"
   ]
  },
  {
   "cell_type": "code",
   "execution_count": 79,
   "metadata": {
    "id": "2pkOvnNpLPp6"
   },
   "outputs": [
    {
     "data": {
      "text/plain": [
       "['no_tumor', 'pituitary']"
      ]
     },
     "execution_count": 79,
     "metadata": {},
     "output_type": "execute_result"
    }
   ],
   "source": [
    "class_names"
   ]
  },
  {
   "cell_type": "markdown",
   "metadata": {
    "id": "ZHJBSWEMdp7J",
    "jp-MarkdownHeadingCollapsed": true,
    "tags": []
   },
   "source": [
    "# converting image generator to X, Y"
   ]
  },
  {
   "cell_type": "code",
   "execution_count": null,
   "metadata": {
    "colab": {
     "base_uri": "https://localhost:8080/"
    },
    "id": "jDaa5WQhAn5F",
    "outputId": "01667e79-68df-4eac-da39-3ff67d256179"
   },
   "outputs": [
    {
     "name": "stderr",
     "output_type": "stream",
     "text": [
      "100%|██████████| 77/77 [09:16<00:00,  7.22s/it]"
     ]
    },
    {
     "name": "stdout",
     "output_type": "stream",
     "text": [
      "(2470, 256, 256, 3) (2470, 2)\n"
     ]
    },
    {
     "name": "stderr",
     "output_type": "stream",
     "text": [
      "\n"
     ]
    }
   ],
   "source": [
    "#converting image generator to X, Y\n",
    "\n",
    "import tqdm\n",
    "\n",
    "train_generator.reset()\n",
    "\n",
    "X_train, y_train = next(train_generator)\n",
    "for i in tqdm.tqdm(range(int(train_generator.n/batch_size))):\n",
    "  img, label = next(train_generator)\n",
    "  X_train = np.append(X_train, img, axis=0 )\n",
    "  y_train = np.append(y_train, label, axis=0)\n",
    "print(X_train.shape, y_train.shape)"
   ]
  },
  {
   "cell_type": "code",
   "execution_count": null,
   "metadata": {
    "colab": {
     "base_uri": "https://localhost:8080/"
    },
    "id": "DTL-zL5j_hP8",
    "outputId": "320b3052-4b5c-47da-e9f9-931b45f75ec8"
   },
   "outputs": [
    {
     "name": "stderr",
     "output_type": "stream",
     "text": [
      "100%|██████████| 19/19 [02:08<00:00,  6.78s/it]"
     ]
    },
    {
     "name": "stdout",
     "output_type": "stream",
     "text": [
      "(617, 256, 256, 3) (617, 2)\n"
     ]
    },
    {
     "name": "stderr",
     "output_type": "stream",
     "text": [
      "\n"
     ]
    }
   ],
   "source": [
    "valid_generator.reset()\n",
    "X_test, y_test = next(valid_generator)\n",
    "for i in tqdm.tqdm(range(int(valid_generator.n/batch_size))):\n",
    "  img, label = next(valid_generator)\n",
    "  X_test = np.append(X_test, img, axis=0 )\n",
    "  y_test = np.append(y_test, label, axis=0)\n",
    "print(X_test.shape, y_test.shape)\n"
   ]
  },
  {
   "cell_type": "markdown",
   "metadata": {
    "jp-MarkdownHeadingCollapsed": true,
    "tags": []
   },
   "source": [
    "# Data Preprocessing using densenet"
   ]
  },
  {
   "cell_type": "code",
   "execution_count": null,
   "metadata": {
    "id": "vubkepsoF1cg"
   },
   "outputs": [],
   "source": [
    "from keras.applications.densenet import DenseNet121\n",
    "from keras.preprocessing import image\n",
    "from keras.applications.densenet import preprocess_input\n",
    "import numpy as np\n",
    "\n",
    "img_path = '/content/drive/MyDrive/Colab Notebooks/data/train/pituitary/1000.png'\n",
    "img = image.load_img(img_path, target_size=(224, 224))\n",
    "x = image.img_to_array(img)\n",
    "x = np.expand_dims(x, axis=0)\n",
    "x = preprocess_input(x)\n",
    "\n",
    "#tf.keras.applications.densenet.preprocess_input(\n",
    "#    x, data_format=None\n",
    "#)"
   ]
  },
  {
   "cell_type": "code",
   "execution_count": 68,
   "metadata": {
    "id": "yVjlM-8ALi3g"
   },
   "outputs": [],
   "source": [
    "from PIL import Image\n",
    "import os\n",
    "\n",
    "directory = 'C:/Users/PC/Desktop/Github Projects/SAM-transfer learning/Pituitary Classification/data/train/pituitary'\n",
    "\n",
    "image_list = []\n",
    "\n",
    "for filename in os.listdir(directory):\n",
    "    #if filename.endswith('.jpg') or filename.endswith('.png'):  # Filter by file extension\n",
    "        image_path = os.path.join(directory, filename)\n",
    "        img = Image.open(image_path)\n",
    "        image_list.append(img)"
   ]
  },
  {
   "cell_type": "code",
   "execution_count": 69,
   "metadata": {
    "colab": {
     "base_uri": "https://localhost:8080/"
    },
    "id": "VSzaQiEnMQ6f",
    "outputId": "7c840c38-aba6-4f51-eaaf-4966bdac3606"
   },
   "outputs": [
    {
     "data": {
      "text/plain": [
       "1757"
      ]
     },
     "execution_count": 69,
     "metadata": {},
     "output_type": "execute_result"
    }
   ],
   "source": [
    "len(image_list)"
   ]
  },
  {
   "cell_type": "code",
   "execution_count": null,
   "metadata": {
    "id": "6KKqaov_MtKo"
   },
   "outputs": [],
   "source": [
    "image_list"
   ]
  },
  {
   "cell_type": "code",
   "execution_count": null,
   "metadata": {
    "id": "9zjy7FdaOiQn"
   },
   "outputs": [],
   "source": [
    "# Create a list to store preprocessed images\n",
    "from tensorflow.keras.applications.densenet import preprocess_input\n",
    "preprocessed_images = []\n",
    "\n",
    "# Iterate through the list and preprocess each image\n",
    "for image in image_list:\n",
    "    # Convert the PIL Image to a NumPy array\n",
    "    image_array = np.asarray(image)\n",
    "\n",
    "    # Preprocess the NumPy array\n",
    "    preprocessed_image = tf.keras.applications.densenet.preprocess_input(image_array)\n",
    "\n",
    "    # Append the preprocessed array to the list\n",
    "    preprocessed_images.append(preprocessed_image)"
   ]
  },
  {
   "cell_type": "code",
   "execution_count": null,
   "metadata": {
    "colab": {
     "base_uri": "https://localhost:8080/"
    },
    "id": "ketpk9xQQB3e",
    "outputId": "aa1c2f43-dba3-4901-eb84-c75e080eddd8"
   },
   "outputs": [
    {
     "data": {
      "text/plain": [
       "1757"
      ]
     },
     "execution_count": 47,
     "metadata": {},
     "output_type": "execute_result"
    }
   ],
   "source": [
    "len(preprocessed_images)"
   ]
  },
  {
   "cell_type": "code",
   "execution_count": null,
   "metadata": {
    "colab": {
     "base_uri": "https://localhost:8080/",
     "height": 366
    },
    "collapsed": true,
    "id": "lfxYzx43QFQ2",
    "jupyter": {
     "outputs_hidden": true
    },
    "outputId": "706ff70d-18d7-4624-b40d-139cafe876bb",
    "tags": []
   },
   "outputs": [
    {
     "ename": "KeyboardInterrupt",
     "evalue": "ignored",
     "output_type": "error",
     "traceback": [
      "\u001b[0;31m---------------------------------------------------------------------------\u001b[0m",
      "\u001b[0;31mKeyboardInterrupt\u001b[0m                         Traceback (most recent call last)",
      "\u001b[0;32m<ipython-input-51-4b1511ee3492>\u001b[0m in \u001b[0;36m<cell line: 12>\u001b[0;34m()\u001b[0m\n\u001b[1;32m     19\u001b[0m \u001b[0;34m\u001b[0m\u001b[0m\n\u001b[1;32m     20\u001b[0m     \u001b[0;31m# Save the preprocessed image\u001b[0m\u001b[0;34m\u001b[0m\u001b[0;34m\u001b[0m\u001b[0m\n\u001b[0;32m---> 21\u001b[0;31m     \u001b[0mimage\u001b[0m\u001b[0;34m.\u001b[0m\u001b[0msave\u001b[0m\u001b[0;34m(\u001b[0m\u001b[0moutput_path\u001b[0m\u001b[0;34m,\u001b[0m \u001b[0mformat\u001b[0m\u001b[0;34m=\u001b[0m\u001b[0;34m'PNG'\u001b[0m\u001b[0;34m)\u001b[0m\u001b[0;34m\u001b[0m\u001b[0;34m\u001b[0m\u001b[0m\n\u001b[0m\u001b[1;32m     22\u001b[0m \u001b[0;34m\u001b[0m\u001b[0m\n\u001b[1;32m     23\u001b[0m \u001b[0;31m# The preprocessed images are now saved in the 'output_directory'\u001b[0m\u001b[0;34m\u001b[0m\u001b[0;34m\u001b[0m\u001b[0m\n",
      "\u001b[0;32m/usr/local/lib/python3.10/dist-packages/PIL/Image.py\u001b[0m in \u001b[0;36msave\u001b[0;34m(self, fp, format, **params)\u001b[0m\n\u001b[1;32m   2440\u001b[0m             \u001b[0;32mraise\u001b[0m\u001b[0;34m\u001b[0m\u001b[0;34m\u001b[0m\u001b[0m\n\u001b[1;32m   2441\u001b[0m         \u001b[0;32mif\u001b[0m \u001b[0mopen_fp\u001b[0m\u001b[0;34m:\u001b[0m\u001b[0;34m\u001b[0m\u001b[0;34m\u001b[0m\u001b[0m\n\u001b[0;32m-> 2442\u001b[0;31m             \u001b[0mfp\u001b[0m\u001b[0;34m.\u001b[0m\u001b[0mclose\u001b[0m\u001b[0;34m(\u001b[0m\u001b[0;34m)\u001b[0m\u001b[0;34m\u001b[0m\u001b[0;34m\u001b[0m\u001b[0m\n\u001b[0m\u001b[1;32m   2443\u001b[0m \u001b[0;34m\u001b[0m\u001b[0m\n\u001b[1;32m   2444\u001b[0m     \u001b[0;32mdef\u001b[0m \u001b[0mseek\u001b[0m\u001b[0;34m(\u001b[0m\u001b[0mself\u001b[0m\u001b[0;34m,\u001b[0m \u001b[0mframe\u001b[0m\u001b[0;34m)\u001b[0m\u001b[0;34m:\u001b[0m\u001b[0;34m\u001b[0m\u001b[0;34m\u001b[0m\u001b[0m\n",
      "\u001b[0;31mKeyboardInterrupt\u001b[0m: "
     ]
    }
   ],
   "source": [
    "from PIL import Image\n",
    "import numpy as np\n",
    "\n",
    "# Replace 'preprocessed_images' with your list of preprocessed NumPy array images\n",
    "#preprocessed_images = [image1, image2, image3, ...]  # Each element is a NumPy array\n",
    "\n",
    "# Create a directory to save the preprocessed images\n",
    "output_directory = '/content/drive/MyDrive/Colab Notebooks/data/train/preprocessed_pituitary_images'\n",
    "os.makedirs(output_directory, exist_ok=True)\n",
    "\n",
    "# Iterate through the list of preprocessed images and save them\n",
    "for i, image_array in enumerate(preprocessed_images):\n",
    "    # Convert the NumPy array to a PIL Image\n",
    "    image = Image.fromarray(np.uint8(image_array))\n",
    "\n",
    "    # Create a filename for the preprocessed image\n",
    "    filename = f\"preprocessed_image_{i}.jpg\"\n",
    "    output_path = os.path.join(output_directory, filename)\n",
    "\n",
    "    # Save the preprocessed image\n",
    "    image.save(output_path, format='PNG')\n",
    "\n",
    "# The preprocessed images are now saved in the 'output_directory'"
   ]
  },
  {
   "cell_type": "markdown",
   "metadata": {
    "id": "ZM4P1ESXLIsr",
    "tags": []
   },
   "source": [
    "# ResNet 152"
   ]
  },
  {
   "cell_type": "code",
   "execution_count": 80,
   "metadata": {
    "colab": {
     "base_uri": "https://localhost:8080/"
    },
    "id": "Gtu7rFJdLPpT",
    "outputId": "7592c0d4-b452-432c-d5d3-f481faf42c0c"
   },
   "outputs": [],
   "source": [
    "# Load the pre-trained ResNet50 model without the top (fully connected) layers\n",
    "base_model = ResNet152(weights='imagenet', include_top=False, input_shape=(img_width, img_height, 3))"
   ]
  },
  {
   "cell_type": "code",
   "execution_count": 81,
   "metadata": {
    "id": "SoCzzqGbLPpU"
   },
   "outputs": [],
   "source": [
    "# Freeze the pre-trained layers\n",
    "for layer in base_model.layers:\n",
    "    layer.trainable = False\n",
    "\n",
    "x = base_model.output\n",
    "x = tf.keras.layers.GlobalAveragePooling2D()(x)\n",
    "#x = tf.keras.layers.Dense(512, activation='relu')(x)\n",
    "x = tf.keras.layers.Dense(128, activation='relu')(x)\n",
    "x = tf.keras.layers.Dense(64, activation='relu')(x)\n",
    "x = tf.keras.layers.Dropout(0.5)(x)\n",
    "#predictions = Dense(2, activation = 'softmax')(x)\n",
    "predictions = tf.keras.layers.Dense(2,activation='sigmoid')(x)\n",
    "#dense_model = Model(inputs = base_model.inputs, outputs = predictions)\n",
    "\n",
    "model_resnet = tf.keras.models.Model(inputs=base_model.input, outputs=predictions)"
   ]
  },
  {
   "cell_type": "code",
   "execution_count": 82,
   "metadata": {
    "id": "h-mVyAMmLPpV"
   },
   "outputs": [],
   "source": [
    "# Compile the model\n",
    "#model_resnet.compile(optimizer='adam', loss='categorical_crossentropy', metrics=['accuracy'])\n",
    "model_resnet.compile(optimizer=opt, loss=tf.keras.losses.BinaryCrossentropy(), metrics=['accuracy'])"
   ]
  },
  {
   "cell_type": "code",
   "execution_count": 83,
   "metadata": {
    "id": "ybBGHESetFo9"
   },
   "outputs": [],
   "source": [
    "#regularization: EARLY STOPPING\n",
    "#early_stopping = EarlyStopping(monitor='val_loss', patience=5, verbose=1)"
   ]
  },
  {
   "cell_type": "code",
   "execution_count": 84,
   "metadata": {
    "colab": {
     "base_uri": "https://localhost:8080/"
    },
    "id": "5K03-aFqLPpW",
    "outputId": "b86c3392-c263-4228-b26f-834dcb958506"
   },
   "outputs": [
    {
     "name": "stdout",
     "output_type": "stream",
     "text": [
      "Epoch 1/50\n",
      "77/77 [==============================] - 45s 473ms/step - loss: 0.5690 - accuracy: 0.7515 - val_loss: 0.4834 - val_accuracy: 0.7829\n",
      "Epoch 2/50\n",
      "77/77 [==============================] - 27s 346ms/step - loss: 0.4503 - accuracy: 0.8167 - val_loss: 0.4099 - val_accuracy: 0.8059\n",
      "Epoch 3/50\n",
      "77/77 [==============================] - 27s 353ms/step - loss: 0.4146 - accuracy: 0.8221 - val_loss: 0.3732 - val_accuracy: 0.8322\n",
      "Epoch 4/50\n",
      "77/77 [==============================] - 27s 356ms/step - loss: 0.3808 - accuracy: 0.8348 - val_loss: 0.3916 - val_accuracy: 0.8076\n",
      "Epoch 5/50\n",
      "77/77 [==============================] - 28s 357ms/step - loss: 0.3579 - accuracy: 0.8508 - val_loss: 0.3538 - val_accuracy: 0.8289\n",
      "Epoch 6/50\n",
      "77/77 [==============================] - 28s 357ms/step - loss: 0.3442 - accuracy: 0.8454 - val_loss: 0.3431 - val_accuracy: 0.8405\n",
      "Epoch 7/50\n",
      "77/77 [==============================] - 28s 365ms/step - loss: 0.3391 - accuracy: 0.8503 - val_loss: 0.3386 - val_accuracy: 0.8388\n",
      "Epoch 8/50\n",
      "77/77 [==============================] - 31s 398ms/step - loss: 0.3193 - accuracy: 0.8590 - val_loss: 0.3285 - val_accuracy: 0.8454\n",
      "Epoch 9/50\n",
      "77/77 [==============================] - 32s 421ms/step - loss: 0.3025 - accuracy: 0.8655 - val_loss: 0.3188 - val_accuracy: 0.8487\n",
      "Epoch 10/50\n",
      "77/77 [==============================] - 34s 435ms/step - loss: 0.2911 - accuracy: 0.8717 - val_loss: 0.2980 - val_accuracy: 0.8618\n",
      "Epoch 11/50\n",
      "77/77 [==============================] - 37s 474ms/step - loss: 0.2820 - accuracy: 0.8790 - val_loss: 0.3001 - val_accuracy: 0.8602\n",
      "Epoch 12/50\n",
      "77/77 [==============================] - 36s 469ms/step - loss: 0.2694 - accuracy: 0.8885 - val_loss: 0.2781 - val_accuracy: 0.8734\n",
      "Epoch 13/50\n",
      "77/77 [==============================] - 38s 495ms/step - loss: 0.2596 - accuracy: 0.8938 - val_loss: 0.2850 - val_accuracy: 0.8684\n",
      "Epoch 14/50\n",
      "77/77 [==============================] - 39s 509ms/step - loss: 0.2533 - accuracy: 0.8954 - val_loss: 0.2733 - val_accuracy: 0.8734\n",
      "Epoch 15/50\n",
      "77/77 [==============================] - 39s 508ms/step - loss: 0.2386 - accuracy: 0.9041 - val_loss: 0.2881 - val_accuracy: 0.8651\n",
      "Epoch 16/50\n",
      "77/77 [==============================] - 40s 521ms/step - loss: 0.2327 - accuracy: 0.9114 - val_loss: 0.2834 - val_accuracy: 0.8668\n",
      "Epoch 17/50\n",
      "77/77 [==============================] - 37s 485ms/step - loss: 0.2301 - accuracy: 0.9073 - val_loss: 0.2479 - val_accuracy: 0.9079\n",
      "Epoch 18/50\n",
      "77/77 [==============================] - 40s 518ms/step - loss: 0.2180 - accuracy: 0.9172 - val_loss: 0.2354 - val_accuracy: 0.9178\n",
      "Epoch 19/50\n",
      "77/77 [==============================] - 40s 526ms/step - loss: 0.2059 - accuracy: 0.9225 - val_loss: 0.2248 - val_accuracy: 0.9342\n",
      "Epoch 20/50\n",
      "77/77 [==============================] - 41s 536ms/step - loss: 0.2027 - accuracy: 0.9217 - val_loss: 0.2888 - val_accuracy: 0.8684\n",
      "Epoch 21/50\n",
      "77/77 [==============================] - 42s 546ms/step - loss: 0.1990 - accuracy: 0.9262 - val_loss: 0.2483 - val_accuracy: 0.8947\n",
      "Epoch 22/50\n",
      "77/77 [==============================] - 38s 490ms/step - loss: 0.1893 - accuracy: 0.9307 - val_loss: 0.2559 - val_accuracy: 0.8882\n",
      "Epoch 23/50\n",
      "77/77 [==============================] - 43s 559ms/step - loss: 0.1851 - accuracy: 0.9315 - val_loss: 0.2194 - val_accuracy: 0.9408\n",
      "Epoch 24/50\n",
      "77/77 [==============================] - 43s 555ms/step - loss: 0.1785 - accuracy: 0.9385 - val_loss: 0.2173 - val_accuracy: 0.9293\n",
      "Epoch 25/50\n",
      "77/77 [==============================] - 44s 575ms/step - loss: 0.1727 - accuracy: 0.9401 - val_loss: 0.2177 - val_accuracy: 0.9194\n",
      "Epoch 26/50\n",
      "77/77 [==============================] - 42s 545ms/step - loss: 0.1663 - accuracy: 0.9442 - val_loss: 0.2492 - val_accuracy: 0.8914\n",
      "Epoch 27/50\n",
      "77/77 [==============================] - 44s 577ms/step - loss: 0.1620 - accuracy: 0.9487 - val_loss: 0.2880 - val_accuracy: 0.8832\n",
      "Epoch 28/50\n",
      "77/77 [==============================] - 44s 574ms/step - loss: 0.1626 - accuracy: 0.9438 - val_loss: 0.2176 - val_accuracy: 0.9276\n",
      "Epoch 29/50\n",
      "77/77 [==============================] - 42s 545ms/step - loss: 0.1494 - accuracy: 0.9512 - val_loss: 0.2463 - val_accuracy: 0.9030\n",
      "Epoch 30/50\n",
      "77/77 [==============================] - 40s 516ms/step - loss: 0.1544 - accuracy: 0.9463 - val_loss: 0.2036 - val_accuracy: 0.9342\n",
      "Epoch 31/50\n",
      "77/77 [==============================] - 41s 528ms/step - loss: 0.1455 - accuracy: 0.9533 - val_loss: 0.2031 - val_accuracy: 0.9375\n",
      "Epoch 32/50\n",
      "77/77 [==============================] - 41s 533ms/step - loss: 0.1392 - accuracy: 0.9569 - val_loss: 0.2104 - val_accuracy: 0.9457\n",
      "Epoch 33/50\n",
      "77/77 [==============================] - 44s 571ms/step - loss: 0.1444 - accuracy: 0.9500 - val_loss: 0.2178 - val_accuracy: 0.9260\n",
      "Epoch 34/50\n",
      "77/77 [==============================] - 44s 576ms/step - loss: 0.1396 - accuracy: 0.9582 - val_loss: 0.2052 - val_accuracy: 0.9441\n",
      "Epoch 35/50\n",
      "77/77 [==============================] - 43s 555ms/step - loss: 0.1332 - accuracy: 0.9561 - val_loss: 0.2127 - val_accuracy: 0.9293\n",
      "Epoch 36/50\n",
      "77/77 [==============================] - 45s 579ms/step - loss: 0.1360 - accuracy: 0.9574 - val_loss: 0.2219 - val_accuracy: 0.9194\n",
      "Epoch 37/50\n",
      "77/77 [==============================] - 45s 591ms/step - loss: 0.1255 - accuracy: 0.9639 - val_loss: 0.2325 - val_accuracy: 0.9112\n",
      "Epoch 38/50\n",
      "77/77 [==============================] - 40s 518ms/step - loss: 0.1267 - accuracy: 0.9598 - val_loss: 0.2044 - val_accuracy: 0.9326\n",
      "Epoch 39/50\n",
      "77/77 [==============================] - 43s 558ms/step - loss: 0.1235 - accuracy: 0.9623 - val_loss: 0.2141 - val_accuracy: 0.9243\n",
      "Epoch 40/50\n",
      "77/77 [==============================] - 46s 599ms/step - loss: 0.1181 - accuracy: 0.9623 - val_loss: 0.1955 - val_accuracy: 0.9391\n",
      "Epoch 41/50\n",
      "77/77 [==============================] - 46s 601ms/step - loss: 0.1155 - accuracy: 0.9602 - val_loss: 0.2142 - val_accuracy: 0.9293\n",
      "Epoch 42/50\n",
      "77/77 [==============================] - 46s 601ms/step - loss: 0.1141 - accuracy: 0.9610 - val_loss: 0.1863 - val_accuracy: 0.9424\n",
      "Epoch 43/50\n",
      "77/77 [==============================] - 46s 600ms/step - loss: 0.1132 - accuracy: 0.9627 - val_loss: 0.1992 - val_accuracy: 0.9375\n",
      "Epoch 44/50\n",
      "77/77 [==============================] - 43s 558ms/step - loss: 0.1091 - accuracy: 0.9619 - val_loss: 0.2012 - val_accuracy: 0.9342\n",
      "Epoch 45/50\n",
      "77/77 [==============================] - 45s 582ms/step - loss: 0.1072 - accuracy: 0.9680 - val_loss: 0.2058 - val_accuracy: 0.9342\n",
      "Epoch 46/50\n",
      "77/77 [==============================] - 47s 603ms/step - loss: 0.1025 - accuracy: 0.9709 - val_loss: 0.1947 - val_accuracy: 0.9391\n",
      "Epoch 47/50\n",
      "77/77 [==============================] - 40s 519ms/step - loss: 0.1052 - accuracy: 0.9680 - val_loss: 0.1950 - val_accuracy: 0.9375\n",
      "Epoch 48/50\n",
      "77/77 [==============================] - 43s 558ms/step - loss: 0.1087 - accuracy: 0.9651 - val_loss: 0.1986 - val_accuracy: 0.9359\n",
      "Epoch 49/50\n",
      "77/77 [==============================] - 44s 569ms/step - loss: 0.0967 - accuracy: 0.9688 - val_loss: 0.2162 - val_accuracy: 0.9309\n",
      "Epoch 50/50\n",
      "77/77 [==============================] - 47s 608ms/step - loss: 0.0980 - accuracy: 0.9709 - val_loss: 0.1975 - val_accuracy: 0.9359\n"
     ]
    }
   ],
   "source": [
    "# Train the model\n",
    "start_time = time.time()\n",
    "\n",
    "history_resnet = model_resnet.fit(train_generator,\n",
    "          steps_per_epoch=train_generator.n // batch_size,\n",
    "          epochs=50,\n",
    "          validation_data=valid_generator ,\n",
    "          #callbacks=[early_stopping]\n",
    "          validation_steps=valid_generator.n // batch_size\n",
    "        )"
   ]
  },
  {
   "cell_type": "code",
   "execution_count": 85,
   "metadata": {},
   "outputs": [
    {
     "name": "stdout",
     "output_type": "stream",
     "text": [
      "Training time fro ResNet 152: 1996.7869460582733 seconds\n"
     ]
    }
   ],
   "source": [
    "end_time = time.time()\n",
    "training_time = end_time - start_time\n",
    "print(f\"Training time fro ResNet 152: {training_time} seconds\")"
   ]
  },
  {
   "cell_type": "code",
   "execution_count": 86,
   "metadata": {
    "colab": {
     "base_uri": "https://localhost:8080/"
    },
    "id": "AIQpu-wzMMDI",
    "outputId": "80ee3719-aedd-4b7c-e7ac-86b9248020fe"
   },
   "outputs": [],
   "source": [
    "model_resnet.save(model_path + '/resnet152.h5')"
   ]
  },
  {
   "cell_type": "code",
   "execution_count": null,
   "metadata": {
    "id": "L5dx6376wZJ6"
   },
   "outputs": [],
   "source": [
    "# load model\n",
    "model_resnet = load_model(model_path + '/resnet152.h5')\n",
    "model_resnet.summary()"
   ]
  },
  {
   "cell_type": "markdown",
   "metadata": {
    "id": "Re9ByMj7sKzp",
    "tags": []
   },
   "source": [
    "# Model Evaluation Metrics\n",
    "[link](https://machinelearningmastery.com/how-to-calculate-precision-recall-f1-and-more-for-deep-learning-models/)"
   ]
  },
  {
   "cell_type": "code",
   "execution_count": 87,
   "metadata": {
    "colab": {
     "base_uri": "https://localhost:8080/"
    },
    "id": "OOX55G--LPpY",
    "outputId": "16b2a66f-a897-46a1-890a-b05c67106c06"
   },
   "outputs": [
    {
     "name": "stdout",
     "output_type": "stream",
     "text": [
      "20/20 [==============================] - 9s 294ms/step\n",
      "Inference time: 9.700398206710815\n",
      "tn:  102 fp:  164 fn:  129 tp:  222\n",
      "Specificity: 0.38345864661654133\n",
      "Precision: 0.5751295336787565\n",
      "Recall: 0.6324786324786325\n",
      "F1 Score: 0.6024423337856174\n",
      "Accuracy:  0.5251215559157212\n"
     ]
    }
   ],
   "source": [
    "# Evaluate the model\n",
    "valid_generator.reset()\n",
    "#predictions = model.predict(valid_generator, steps=valid_generator.n // batch_size)\n",
    "start_time = time.time()\n",
    "y_pred = model_resnet.predict(valid_generator)   #yhat_probs\n",
    "\n",
    "end_time = time.time()\n",
    "\n",
    "inference_time_batch = end_time - start_time\n",
    "print(\"Inference time:\", inference_time_batch)\n",
    "\n",
    "# Get the predicted classes\n",
    "predicted_classes = np.argmax(y_pred, axis=1)    #yhat_classes\n",
    "\n",
    "\n",
    "# Get the true classes\n",
    "true_classes = valid_generator.classes\n",
    "\n",
    "\n",
    "# Calculate performance metrics\n",
    "confusion = confusion_matrix(true_classes, predicted_classes)\n",
    "tn, fp, fn, tp = confusion.ravel()\n",
    "print(\"tn: \", tn ,\"fp: \", fp,\"fn: \", fn,\"tp: \", tp)\n",
    "specificity = tn / (tn + fp)\n",
    "precision = precision_score(true_classes, predicted_classes)\n",
    "recall = recall_score(true_classes, predicted_classes)\n",
    "f1 = f1_score(true_classes, predicted_classes)\n",
    "\n",
    "# Print the performance metrics\n",
    "print('Specificity:', specificity)\n",
    "print('Precision:', precision)\n",
    "print('Recall:', recall)\n",
    "print('F1 Score:', f1)\n",
    "\n",
    "Accuracy =  (tp + tn) / ( tp + tn + fp + fn)\n",
    "print(\"Accuracy: \" , Accuracy)"
   ]
  },
  {
   "cell_type": "code",
   "execution_count": 32,
   "metadata": {},
   "outputs": [],
   "source": []
  },
  {
   "cell_type": "code",
   "execution_count": 33,
   "metadata": {},
   "outputs": [
    {
     "data": {
      "text/plain": [
       "(617, 2)"
      ]
     },
     "execution_count": 33,
     "metadata": {},
     "output_type": "execute_result"
    }
   ],
   "source": [
    "y_pred.shape"
   ]
  },
  {
   "cell_type": "code",
   "execution_count": 31,
   "metadata": {},
   "outputs": [
    {
     "name": "stdout",
     "output_type": "stream",
     "text": [
      "              precision    recall  f1-score   support\n",
      "\n",
      "           0       0.44      0.42      0.43       266\n",
      "           1       0.58      0.60      0.59       351\n",
      "\n",
      "    accuracy                           0.52       617\n",
      "   macro avg       0.51      0.51      0.51       617\n",
      "weighted avg       0.52      0.52      0.52       617\n",
      "\n"
     ]
    }
   ],
   "source": [
    "from sklearn.metrics import classification_report\n",
    "print(classification_report(true_classes, predicted_classes))"
   ]
  },
  {
   "cell_type": "code",
   "execution_count": 77,
   "metadata": {
    "collapsed": true,
    "jupyter": {
     "outputs_hidden": true
    },
    "tags": []
   },
   "outputs": [
    {
     "data": {
      "text/plain": [
       "<Axes: >"
      ]
     },
     "execution_count": 77,
     "metadata": {},
     "output_type": "execute_result"
    },
    {
     "data": {
      "image/png": "[encoded data removed]",
      "text/plain": [
       "<Figure size 640x480 with 2 Axes>"
      ]
     },
     "metadata": {},
     "output_type": "display_data"
    }
   ],
   "source": [
    "import seaborn as sns\n",
    "cm = confusion_matrix(true_classes, predicted_classes)\n",
    "#sns.heatmap(cm, annot=True, cmap='Blues')\n",
    "cm_data = [[248, 42], [30, 297]]\n",
    "sns.heatmap(cm_data, annot=True, cmap='Blues', fmt='d', xticklabels=class_names, yticklabels=class_names)"
   ]
  },
  {
   "cell_type": "markdown",
   "metadata": {
    "id": "DbuJSC9u5ovb",
    "jp-MarkdownHeadingCollapsed": true,
    "tags": []
   },
   "source": [
    "# Graphs, Matrix"
   ]
  },
  {
   "cell_type": "markdown",
   "metadata": {
    "id": "KWfD8lRZ4WN1"
   },
   "source": [
    "**331, batch 32**\n",
    "\n",
    "Specificity: 0.0\n",
    "Precision: 0.5688816855753647\n",
    "Recall: 1.0\n",
    "F1 Score: 0.7252066115702479\n",
    "\n",
    "**331, batch 64**\n",
    "tn:  96 fp:  170 fn:  129 tp:  222\n",
    "Specificity: 0.3609022556390977\n",
    "Precision: 0.5663265306122449\n",
    "Recall: 0.6324786324786325\n",
    "F1 Score: 0.5975773889636609\n",
    "\n",
    "**331, batch 64, RELU**\n",
    "\n",
    "tn:  266 fp:  0 fn:  351 tp:  0\n",
    "Specificity: 1.0\n",
    "Precision: 0.0\n",
    "Recall: 0.0\n",
    "F1 Score: 0.0"
   ]
  },
  {
   "cell_type": "code",
   "execution_count": 24,
   "metadata": {
    "colab": {
     "base_uri": "https://localhost:8080/"
    },
    "id": "Yplwa04hLPp4",
    "outputId": "695e0271-a6af-46d8-afbf-71f5ea5e4faf"
   },
   "outputs": [
    {
     "name": "stdout",
     "output_type": "stream",
     "text": [
      "20/20 [==============================] - 6s 284ms/step - loss: 0.3824 - accuracy: 0.8233\n"
     ]
    }
   ],
   "source": [
    "loss,acc = model_resnet.evaluate(valid_generator)"
   ]
  },
  {
   "cell_type": "code",
   "execution_count": 18,
   "metadata": {
    "colab": {
     "base_uri": "https://localhost:8080/",
     "height": 564
    },
    "id": "Ng0o66g5LPp7",
    "outputId": "1b12514c-71cb-4128-ec79-a17eeed8880a"
   },
   "outputs": [
    {
     "data": {
      "image/png": "[encoded data removed]",
      "text/plain": [
       "<Figure size 800x600 with 2 Axes>"
      ]
     },
     "metadata": {},
     "output_type": "display_data"
    }
   ],
   "source": [
    "# Plot the confusion matrix\n",
    "plt.figure(figsize=(8, 6))\n",
    "sns.heatmap(confusion, annot=True, fmt='d', cmap='Blues', xticklabels=class_names, yticklabels=class_names)\n",
    "plt.xlabel('Predicted')\n",
    "plt.ylabel('True')\n",
    "plt.title('ResNet 152 Confusion Matrix')\n",
    "plt.savefig(model_path + '/resnet_conf_matrix.png')\n",
    "plt.show()"
   ]
  },
  {
   "cell_type": "code",
   "execution_count": 19,
   "metadata": {
    "colab": {
     "base_uri": "https://localhost:8080/",
     "height": 407
    },
    "id": "rrwsjFt-LPp8",
    "outputId": "be7657cc-72d8-4ba4-f742-1d3cbce925bf"
   },
   "outputs": [
    {
     "data": {
      "image/png": "[encoded data removed]",
      "text/plain": [
       "<Figure size 1000x400 with 2 Axes>"
      ]
     },
     "metadata": {},
     "output_type": "display_data"
    }
   ],
   "source": [
    "plt.figure(figsize=(10, 4))\n",
    "plt.subplot(1, 2, 1)\n",
    "plt.plot(history_resnet.history['loss'], label='Training Loss')\n",
    "plt.plot(history_resnet.history['val_loss'], label='Validation Loss')\n",
    "plt.title('ResNet-152')\n",
    "plt.xlabel('Epoch')\n",
    "plt.ylabel('Loss')\n",
    "plt.legend()\n",
    "\n",
    "\n",
    "plt.xticks([10, 20, 30])\n",
    "plt.yticks([.2, .4, .6, .8, 1, 1.2])\n",
    "plt.savefig(model_path + '/resnet_loss.png')\n",
    "\n",
    "\n",
    "# Plot training accuracy and validation accuracy\n",
    "plt.subplot(1, 2, 2)\n",
    "plt.plot(history_resnet.history['accuracy'], label='Training Accuracy')\n",
    "plt.plot(history_resnet.history['val_accuracy'], label='Validation Accuracy')\n",
    "plt.title('ResNet-152')\n",
    "plt.xlabel('Epoch')\n",
    "plt.ylabel('Accuracy')\n",
    "plt.legend()\n",
    "plt.xticks([10, 20, 30])\n",
    "plt.yticks([.2, .4, .6, .8, 1, 1.2])\n",
    "plt.savefig(model_path + '/resnet_acc.png')\n",
    "# Adjust layout and display the plot\n",
    "plt.tight_layout()\n",
    "plt.show()\n"
   ]
  },
  {
   "cell_type": "markdown",
   "metadata": {
    "id": "6p_QjCMLR3QH",
    "tags": []
   },
   "source": [
    "# DenseNet 201"
   ]
  },
  {
   "cell_type": "code",
   "execution_count": 88,
   "metadata": {
    "colab": {
     "base_uri": "https://localhost:8080/"
    },
    "id": "ZGoYW2zzR3QI",
    "outputId": "aa7b7bc9-c275-40b2-adce-eb1dea2097f7"
   },
   "outputs": [],
   "source": [
    "# Load the pre-trained ResNet50 model without the top (fully connected) layers\n",
    "base_model = tf.keras.applications.DenseNet201(weights='imagenet', include_top=False, input_shape=(img_width, img_height, 3))"
   ]
  },
  {
   "cell_type": "code",
   "execution_count": 89,
   "metadata": {
    "id": "lbnSLkMYR3QJ"
   },
   "outputs": [],
   "source": [
    "# Freeze the pre-trained layers\n",
    "for layer in base_model.layers:\n",
    "    layer.trainable = False\n",
    "\n",
    "# Add custom fully connected layers for classification\n",
    "x = base_model.output\n",
    "x = tf.keras.layers.GlobalAveragePooling2D()(x)\n",
    "x = tf.keras.layers.Dense(128, activation='relu')(x)\n",
    "x = tf.keras.layers.Dense(64, activation='relu')(x)\n",
    "predictions = tf.keras.layers.Dense(num_classes, activation='sigmoid')(x)\n",
    "\n",
    "# Create the final model\n",
    "model_dense = tf.keras.models.Model(inputs=base_model.input, outputs=predictions)"
   ]
  },
  {
   "cell_type": "code",
   "execution_count": 90,
   "metadata": {
    "id": "0ZM7CaRSR3QK"
   },
   "outputs": [],
   "source": [
    "# Compile the model\n",
    "model_dense.compile(optimizer=opt, loss=tf.keras.losses.BinaryCrossentropy(), metrics=['accuracy'])"
   ]
  },
  {
   "cell_type": "code",
   "execution_count": 91,
   "metadata": {
    "colab": {
     "base_uri": "https://localhost:8080/"
    },
    "id": "tGQO3A-bR3QK",
    "outputId": "854b19b8-419f-486e-c7a7-6dfe995884a4"
   },
   "outputs": [
    {
     "name": "stdout",
     "output_type": "stream",
     "text": [
      "Epoch 1/50\n",
      "77/77 [==============================] - 36s 302ms/step - loss: 0.1101 - accuracy: 0.9582 - val_loss: 0.0894 - val_accuracy: 0.9605\n",
      "Epoch 2/50\n",
      "77/77 [==============================] - 22s 283ms/step - loss: 0.0271 - accuracy: 0.9930 - val_loss: 0.0645 - val_accuracy: 0.9720\n",
      "Epoch 3/50\n",
      "77/77 [==============================] - 27s 344ms/step - loss: 0.0178 - accuracy: 0.9959 - val_loss: 0.0985 - val_accuracy: 0.9638\n",
      "Epoch 4/50\n",
      "77/77 [==============================] - 26s 336ms/step - loss: 0.0145 - accuracy: 0.9967 - val_loss: 0.1221 - val_accuracy: 0.9523\n",
      "Epoch 5/50\n",
      "77/77 [==============================] - 28s 359ms/step - loss: 0.0110 - accuracy: 0.9984 - val_loss: 0.0895 - val_accuracy: 0.9638\n",
      "Epoch 6/50\n",
      "77/77 [==============================] - 27s 353ms/step - loss: 0.0081 - accuracy: 0.9988 - val_loss: 0.0527 - val_accuracy: 0.9852\n",
      "Epoch 7/50\n",
      "77/77 [==============================] - 23s 291ms/step - loss: 0.0072 - accuracy: 0.9988 - val_loss: 0.0753 - val_accuracy: 0.9671\n",
      "Epoch 8/50\n",
      "77/77 [==============================] - 23s 305ms/step - loss: 0.0055 - accuracy: 0.9992 - val_loss: 0.0799 - val_accuracy: 0.9671\n",
      "Epoch 9/50\n",
      "77/77 [==============================] - 22s 281ms/step - loss: 0.0043 - accuracy: 0.9996 - val_loss: 0.0783 - val_accuracy: 0.9688\n",
      "Epoch 10/50\n",
      "77/77 [==============================] - 23s 291ms/step - loss: 0.0039 - accuracy: 0.9992 - val_loss: 0.0674 - val_accuracy: 0.9704\n",
      "Epoch 11/50\n",
      "77/77 [==============================] - 22s 291ms/step - loss: 0.0031 - accuracy: 0.9996 - val_loss: 0.0620 - val_accuracy: 0.9786\n",
      "Epoch 12/50\n",
      "77/77 [==============================] - 23s 296ms/step - loss: 0.0025 - accuracy: 1.0000 - val_loss: 0.0765 - val_accuracy: 0.9688\n",
      "Epoch 13/50\n",
      "77/77 [==============================] - 23s 302ms/step - loss: 0.0022 - accuracy: 1.0000 - val_loss: 0.0669 - val_accuracy: 0.9770\n",
      "Epoch 14/50\n",
      "77/77 [==============================] - 23s 296ms/step - loss: 0.0020 - accuracy: 1.0000 - val_loss: 0.0427 - val_accuracy: 0.9836\n",
      "Epoch 15/50\n",
      "77/77 [==============================] - 23s 294ms/step - loss: 0.0018 - accuracy: 1.0000 - val_loss: 0.0617 - val_accuracy: 0.9786\n",
      "Epoch 16/50\n",
      "77/77 [==============================] - 23s 292ms/step - loss: 0.0014 - accuracy: 1.0000 - val_loss: 0.0489 - val_accuracy: 0.9836\n",
      "Epoch 17/50\n",
      "77/77 [==============================] - 23s 294ms/step - loss: 0.0012 - accuracy: 1.0000 - val_loss: 0.0751 - val_accuracy: 0.9737\n",
      "Epoch 18/50\n",
      "77/77 [==============================] - 22s 288ms/step - loss: 0.0012 - accuracy: 1.0000 - val_loss: 0.0677 - val_accuracy: 0.9786\n",
      "Epoch 19/50\n",
      "77/77 [==============================] - 23s 302ms/step - loss: 0.0010 - accuracy: 1.0000 - val_loss: 0.0658 - val_accuracy: 0.9786\n",
      "Epoch 20/50\n",
      "77/77 [==============================] - 23s 297ms/step - loss: 9.6351e-04 - accuracy: 1.0000 - val_loss: 0.0650 - val_accuracy: 0.9786\n",
      "Epoch 21/50\n",
      "77/77 [==============================] - 22s 281ms/step - loss: 8.7968e-04 - accuracy: 1.0000 - val_loss: 0.0787 - val_accuracy: 0.9720\n",
      "Epoch 22/50\n",
      "77/77 [==============================] - 22s 287ms/step - loss: 7.4814e-04 - accuracy: 1.0000 - val_loss: 0.0798 - val_accuracy: 0.9737\n",
      "Epoch 23/50\n",
      "77/77 [==============================] - 21s 277ms/step - loss: 6.0629e-04 - accuracy: 1.0000 - val_loss: 0.0596 - val_accuracy: 0.9803\n",
      "Epoch 24/50\n",
      "77/77 [==============================] - 21s 278ms/step - loss: 5.6159e-04 - accuracy: 1.0000 - val_loss: 0.0681 - val_accuracy: 0.9786\n",
      "Epoch 25/50\n",
      "77/77 [==============================] - 22s 290ms/step - loss: 5.0960e-04 - accuracy: 1.0000 - val_loss: 0.0640 - val_accuracy: 0.9803\n",
      "Epoch 26/50\n",
      "77/77 [==============================] - 23s 295ms/step - loss: 4.5687e-04 - accuracy: 1.0000 - val_loss: 0.0687 - val_accuracy: 0.9786\n",
      "Epoch 27/50\n",
      "77/77 [==============================] - 23s 293ms/step - loss: 4.3160e-04 - accuracy: 1.0000 - val_loss: 0.0623 - val_accuracy: 0.9803\n",
      "Epoch 28/50\n",
      "77/77 [==============================] - 22s 288ms/step - loss: 3.8733e-04 - accuracy: 1.0000 - val_loss: 0.0651 - val_accuracy: 0.9803\n",
      "Epoch 29/50\n",
      "77/77 [==============================] - 21s 273ms/step - loss: 3.6691e-04 - accuracy: 1.0000 - val_loss: 0.0662 - val_accuracy: 0.9803\n",
      "Epoch 30/50\n",
      "77/77 [==============================] - 21s 277ms/step - loss: 3.2721e-04 - accuracy: 1.0000 - val_loss: 0.0741 - val_accuracy: 0.9786\n",
      "Epoch 31/50\n",
      "77/77 [==============================] - 23s 297ms/step - loss: 3.0283e-04 - accuracy: 1.0000 - val_loss: 0.0711 - val_accuracy: 0.9803\n",
      "Epoch 32/50\n",
      "77/77 [==============================] - 24s 307ms/step - loss: 2.7754e-04 - accuracy: 1.0000 - val_loss: 0.0611 - val_accuracy: 0.9819\n",
      "Epoch 33/50\n",
      "77/77 [==============================] - 22s 287ms/step - loss: 2.5950e-04 - accuracy: 1.0000 - val_loss: 0.0646 - val_accuracy: 0.9803\n",
      "Epoch 34/50\n",
      "77/77 [==============================] - 22s 284ms/step - loss: 2.3008e-04 - accuracy: 1.0000 - val_loss: 0.0755 - val_accuracy: 0.9786\n",
      "Epoch 35/50\n",
      "77/77 [==============================] - 23s 292ms/step - loss: 2.1479e-04 - accuracy: 1.0000 - val_loss: 0.0688 - val_accuracy: 0.9803\n",
      "Epoch 36/50\n",
      "77/77 [==============================] - 24s 311ms/step - loss: 1.9824e-04 - accuracy: 1.0000 - val_loss: 0.0670 - val_accuracy: 0.9803\n",
      "Epoch 37/50\n",
      "77/77 [==============================] - 25s 320ms/step - loss: 1.8644e-04 - accuracy: 1.0000 - val_loss: 0.0719 - val_accuracy: 0.9803\n",
      "Epoch 38/50\n",
      "77/77 [==============================] - 23s 295ms/step - loss: 1.7423e-04 - accuracy: 1.0000 - val_loss: 0.0719 - val_accuracy: 0.9803\n",
      "Epoch 39/50\n",
      "77/77 [==============================] - 22s 283ms/step - loss: 1.6200e-04 - accuracy: 1.0000 - val_loss: 0.0806 - val_accuracy: 0.9786\n",
      "Epoch 40/50\n",
      "77/77 [==============================] - 24s 306ms/step - loss: 1.5293e-04 - accuracy: 1.0000 - val_loss: 0.0642 - val_accuracy: 0.9819\n",
      "Epoch 41/50\n",
      "77/77 [==============================] - 22s 283ms/step - loss: 1.4405e-04 - accuracy: 1.0000 - val_loss: 0.0607 - val_accuracy: 0.9819\n",
      "Epoch 42/50\n",
      "77/77 [==============================] - 23s 300ms/step - loss: 1.3620e-04 - accuracy: 1.0000 - val_loss: 0.0815 - val_accuracy: 0.9786\n",
      "Epoch 43/50\n",
      "77/77 [==============================] - 22s 287ms/step - loss: 1.2759e-04 - accuracy: 1.0000 - val_loss: 0.0731 - val_accuracy: 0.9803\n",
      "Epoch 44/50\n",
      "77/77 [==============================] - 23s 304ms/step - loss: 1.1707e-04 - accuracy: 1.0000 - val_loss: 0.0764 - val_accuracy: 0.9803\n",
      "Epoch 45/50\n",
      "77/77 [==============================] - 23s 303ms/step - loss: 1.0932e-04 - accuracy: 1.0000 - val_loss: 0.0713 - val_accuracy: 0.9803\n",
      "Epoch 46/50\n",
      "77/77 [==============================] - 22s 286ms/step - loss: 1.0460e-04 - accuracy: 1.0000 - val_loss: 0.0758 - val_accuracy: 0.9803\n",
      "Epoch 47/50\n",
      "77/77 [==============================] - 22s 286ms/step - loss: 9.3354e-05 - accuracy: 1.0000 - val_loss: 0.0792 - val_accuracy: 0.9803\n",
      "Epoch 48/50\n",
      "77/77 [==============================] - 22s 292ms/step - loss: 9.0317e-05 - accuracy: 1.0000 - val_loss: 0.0736 - val_accuracy: 0.9803\n",
      "Epoch 49/50\n",
      "77/77 [==============================] - 23s 294ms/step - loss: 8.5732e-05 - accuracy: 1.0000 - val_loss: 0.0739 - val_accuracy: 0.9803\n",
      "Epoch 50/50\n",
      "77/77 [==============================] - 23s 295ms/step - loss: 8.1514e-05 - accuracy: 1.0000 - val_loss: 0.0699 - val_accuracy: 0.9803\n"
     ]
    }
   ],
   "source": [
    "# Train the model\n",
    "start_time = time.time()\n",
    "\n",
    "history_model_dense = model_dense.fit(train_generator,\n",
    "          steps_per_epoch=train_generator.n // batch_size,\n",
    "          epochs=50,\n",
    "          validation_data=valid_generator ,\n",
    "          validation_steps=valid_generator.n // batch_size\n",
    "                                      )"
   ]
  },
  {
   "cell_type": "code",
   "execution_count": 92,
   "metadata": {},
   "outputs": [
    {
     "name": "stdout",
     "output_type": "stream",
     "text": [
      "Training time for DenseNet 201: 1159.5039620399475 seconds\n"
     ]
    }
   ],
   "source": [
    "end_time = time.time()\n",
    "training_time = end_time - start_time\n",
    "print(f\"Training time for DenseNet 201: {training_time} seconds\")"
   ]
  },
  {
   "cell_type": "code",
   "execution_count": 93,
   "metadata": {
    "colab": {
     "base_uri": "https://localhost:8080/"
    },
    "id": "BYKuztuNR3QL",
    "outputId": "dadeb08a-3bcc-4923-c3ed-45eac46c083c"
   },
   "outputs": [],
   "source": [
    "model_dense.save(model_path + '/dense201.h5')"
   ]
  },
  {
   "cell_type": "markdown",
   "metadata": {
    "id": "lQxa9uJFsmQh",
    "tags": []
   },
   "source": [
    "# Model Evaluation Metrics for DenseNet\n",
    "\n",
    "\n",
    "[link](https://machinelearningmastery.com/how-to-calculate-precision-recall-f1-and-more-for-deep-learning-models/)"
   ]
  },
  {
   "cell_type": "code",
   "execution_count": 94,
   "metadata": {
    "colab": {
     "base_uri": "https://localhost:8080/"
    },
    "id": "8vmVuxQLsmQh",
    "outputId": "7af2bddf-254e-462b-8d1f-2d145d3370c5"
   },
   "outputs": [
    {
     "name": "stdout",
     "output_type": "stream",
     "text": [
      "20/20 [==============================] - 9s 279ms/step\n",
      "Inference time: 9.4863862991333\n",
      "tn:  106 fp:  160 fn:  148 tp:  203\n",
      "Specificity: 0.39849624060150374\n",
      "Precision: 0.559228650137741\n",
      "Recall: 0.5783475783475783\n",
      "F1 Score: 0.5686274509803922\n",
      "Accuracy:  0.5008103727714749\n"
     ]
    }
   ],
   "source": [
    "# Evaluate the model\n",
    "valid_generator.reset()\n",
    "#predictions = model.predict(valid_generator, steps=valid_generator.n // batch_size)\n",
    "start_time = time.time()\n",
    "predictions = model_dense.predict(valid_generator)   #yhat_probs\n",
    "\n",
    "end_time = time.time()\n",
    "\n",
    "inference_time_batch = end_time - start_time\n",
    "print(\"Inference time:\", inference_time_batch)\n",
    "\n",
    "# Get the predicted classes\n",
    "predicted_classes = np.argmax(predictions, axis=1)    #yhat_classes\n",
    "\n",
    "# Get the true classes\n",
    "true_classes = valid_generator.classes\n",
    "\n",
    "\n",
    "# Calculate performance metrics\n",
    "confusion = confusion_matrix(true_classes, predicted_classes)\n",
    "tn, fp, fn, tp = confusion.ravel()\n",
    "print(\"tn: \", tn ,\"fp: \", fp,\"fn: \", fn,\"tp: \", tp)\n",
    "specificity = tn / (tn + fp)\n",
    "precision = precision_score(true_classes, predicted_classes)\n",
    "recall = recall_score(true_classes, predicted_classes)\n",
    "f1 = f1_score(true_classes, predicted_classes)\n",
    "\n",
    "# Print the performance metrics\n",
    "print('Specificity:', specificity)\n",
    "print('Precision:', precision)\n",
    "print('Recall:', recall)\n",
    "print('F1 Score:', f1)\n",
    "\n",
    "Accuracy =  (tp + tn) / ( tp + tn + fp + fn)\n",
    "print(\"Accuracy: \" , Accuracy)\n"
   ]
  },
  {
   "cell_type": "code",
   "execution_count": 28,
   "metadata": {
    "colab": {
     "base_uri": "https://localhost:8080/"
    },
    "id": "P5LxbmjnR3QM",
    "outputId": "ad2fc45b-4b03-40bf-f851-0e524bcf2717"
   },
   "outputs": [
    {
     "name": "stdout",
     "output_type": "stream",
     "text": [
      "20/20 [==============================] - 4s 209ms/step\n"
     ]
    }
   ],
   "source": [
    "# Evaluate the model\n",
    "valid_generator.reset()\n",
    "#predictions = model.predict(valid_generator, steps=valid_generator.n // batch_size)\n",
    "predictions = model_dense.predict(valid_generator)"
   ]
  },
  {
   "cell_type": "code",
   "execution_count": 29,
   "metadata": {
    "id": "RgREX7lbR3QN"
   },
   "outputs": [],
   "source": [
    "# Get the predicted classes\n",
    "predicted_classes = np.argmax(predictions, axis=1)\n",
    "\n",
    "# Get the true classes\n",
    "true_classes = valid_generator.classes"
   ]
  },
  {
   "cell_type": "code",
   "execution_count": 30,
   "metadata": {
    "colab": {
     "base_uri": "https://localhost:8080/"
    },
    "id": "OuR9F4SQR3QN",
    "outputId": "9269ad72-4149-4b16-a891-97bea8242bef"
   },
   "outputs": [
    {
     "name": "stdout",
     "output_type": "stream",
     "text": [
      "Specificity: 0.4699248120300752\n",
      "Precision: 0.5982905982905983\n",
      "Recall: 0.5982905982905983\n",
      "F1 Score: 0.5982905982905983\n"
     ]
    }
   ],
   "source": [
    "# Calculate performance metrics\n",
    "confusion = confusion_matrix(true_classes, predicted_classes)\n",
    "tn, fp, fn, tp = confusion.ravel()\n",
    "specificity = tn / (tn + fp)\n",
    "precision = precision_score(true_classes, predicted_classes)\n",
    "recall = recall_score(true_classes, predicted_classes)\n",
    "f1 = f1_score(true_classes, predicted_classes)\n",
    "\n",
    "# Print the performance metrics\n",
    "print('Specificity:', specificity)\n",
    "print('Precision:', precision)\n",
    "print('Recall:', recall)\n",
    "print('F1 Score:', f1)"
   ]
  },
  {
   "cell_type": "code",
   "execution_count": 31,
   "metadata": {
    "id": "MWW8d5h-R3QO"
   },
   "outputs": [],
   "source": [
    "Accuracy =  (tp + tn) / ( tp + tn + fp + fn)"
   ]
  },
  {
   "cell_type": "code",
   "execution_count": 32,
   "metadata": {
    "colab": {
     "base_uri": "https://localhost:8080/"
    },
    "id": "-STSztVLNPLh",
    "outputId": "16fecbc7-3a63-41f4-f463-f0bf7982faaa"
   },
   "outputs": [
    {
     "data": {
      "text/plain": [
       "0.5429497568881686"
      ]
     },
     "execution_count": 32,
     "metadata": {},
     "output_type": "execute_result"
    }
   ],
   "source": [
    "Accuracy"
   ]
  },
  {
   "cell_type": "code",
   "execution_count": 33,
   "metadata": {
    "colab": {
     "base_uri": "https://localhost:8080/"
    },
    "id": "Px8x0cJ0R3QP",
    "outputId": "85fb093c-e50d-4bfa-87d7-6b3ceba6d0a0"
   },
   "outputs": [
    {
     "name": "stdout",
     "output_type": "stream",
     "text": [
      "20/20 [==============================] - 6s 289ms/step - loss: 4.7637e-05 - accuracy: 1.0000\n"
     ]
    }
   ],
   "source": [
    "loss,acc = model_dense.evaluate(valid_generator)"
   ]
  },
  {
   "cell_type": "code",
   "execution_count": 34,
   "metadata": {
    "colab": {
     "base_uri": "https://localhost:8080/",
     "height": 564
    },
    "id": "sPnaXOjCR3QR",
    "outputId": "66e89e54-d21e-402a-95e1-4a7f76ca9083"
   },
   "outputs": [
    {
     "data": {
      "image/png": "[encoded data removed]",
      "text/plain": [
       "<Figure size 800x600 with 2 Axes>"
      ]
     },
     "metadata": {},
     "output_type": "display_data"
    }
   ],
   "source": [
    "# Plot the confusion matrix\n",
    "plt.figure(figsize=(8, 6))\n",
    "sns.heatmap(confusion, annot=True, fmt='d', cmap='Blues', xticklabels=class_names, yticklabels=class_names)\n",
    "plt.xlabel('Predicted')\n",
    "plt.ylabel('True')\n",
    "plt.title('DenseNet 201 Confusion Matrix')\n",
    "plt.savefig(model_path + '/densenet_conf_matrix.png')\n",
    "plt.show()"
   ]
  },
  {
   "cell_type": "code",
   "execution_count": 35,
   "metadata": {
    "colab": {
     "base_uri": "https://localhost:8080/",
     "height": 407
    },
    "id": "wtU_1JVNR3QS",
    "outputId": "3c253b20-bc3a-4537-84e5-64e212709b99"
   },
   "outputs": [
    {
     "data": {
      "image/png": "[encoded data removed]",
      "text/plain": [
       "<Figure size 1000x400 with 2 Axes>"
      ]
     },
     "metadata": {},
     "output_type": "display_data"
    }
   ],
   "source": [
    "plt.figure(figsize=(10, 4))\n",
    "plt.subplot(1, 2, 1)\n",
    "plt.plot(history_model_dense.history['loss'], label='Training Loss')\n",
    "plt.plot(history_model_dense.history['val_loss'], label='Validation Loss')\n",
    "plt.title('DenseNet-201')\n",
    "plt.xlabel('Epoch')\n",
    "plt.ylabel('Loss')\n",
    "plt.legend()\n",
    "plt.savefig(model_path + '/dense_loss.png')\n",
    "plt.xticks([10, 20, 30])\n",
    "plt.yticks([.2, .4, .6, .8, 1, 1.2])\n",
    "\n",
    "# Plot training accuracy and validation accuracy\n",
    "plt.subplot(1, 2, 2)\n",
    "plt.plot(history_model_dense.history['accuracy'], label='Training Accuracy')\n",
    "plt.plot(history_model_dense.history['val_accuracy'], label='Validation Accuracy')\n",
    "plt.title('DenseNet-201')\n",
    "plt.xlabel('Epoch')\n",
    "plt.ylabel('Accuracy')\n",
    "plt.legend()\n",
    "plt.xticks([10, 20, 30])\n",
    "plt.yticks([.2, .4, .6, .8, 1, 1.2])\n",
    "plt.savefig(model_path + '/densenet_acc.png')\n",
    "# Adjust layout and display the plot\n",
    "plt.tight_layout()\n",
    "plt.show()\n"
   ]
  },
  {
   "cell_type": "markdown",
   "metadata": {
    "id": "JRHiOI89UVxC",
    "tags": []
   },
   "source": [
    "# vgg 16"
   ]
  },
  {
   "cell_type": "code",
   "execution_count": 95,
   "metadata": {
    "id": "GIkl-0oyUdiN"
   },
   "outputs": [],
   "source": [
    "# Load the pre-trained ResNet50 model without the top (fully connected) layers\n",
    "base_model = VGG16(weights='imagenet', include_top=False, input_shape=(img_width, img_height, 3))"
   ]
  },
  {
   "cell_type": "code",
   "execution_count": 96,
   "metadata": {
    "id": "Y9Y8e7nCUdiP"
   },
   "outputs": [],
   "source": [
    "# Freeze the pre-trained layers\n",
    "for layer in base_model.layers:\n",
    "    layer.trainable = False\n",
    "\n",
    "# Add custom fully connected layers for classification\n",
    "x = base_model.output\n",
    "x = tf.keras.layers.GlobalAveragePooling2D()(x)\n",
    "x = tf.keras.layers.Dense(128, activation='relu')(x)\n",
    "x = tf.keras.layers.Dense(64, activation='relu')(x)\n",
    "predictions = tf.keras.layers.Dense(num_classes, activation='sigmoid')(x)\n",
    "\n",
    "# Create the final model\n",
    "model_vgg16 = tf.keras.models.Model(inputs=base_model.input, outputs=predictions)"
   ]
  },
  {
   "cell_type": "code",
   "execution_count": 97,
   "metadata": {
    "id": "xjqYRwvUUdiP"
   },
   "outputs": [],
   "source": [
    "# Compile the model\n",
    "model_vgg16.compile(optimizer=opt, loss=tf.keras.losses.BinaryCrossentropy(), metrics=['accuracy'])"
   ]
  },
  {
   "cell_type": "code",
   "execution_count": 98,
   "metadata": {
    "colab": {
     "base_uri": "https://localhost:8080/"
    },
    "id": "bJDCCt6UUdiQ",
    "outputId": "f66b7e4c-a685-4e8c-cb95-4c4764e8f655"
   },
   "outputs": [
    {
     "name": "stdout",
     "output_type": "stream",
     "text": [
      "Epoch 1/50\n",
      "77/77 [==============================] - 20s 255ms/step - loss: 0.4387 - accuracy: 0.8737 - val_loss: 0.3804 - val_accuracy: 0.8684\n",
      "Epoch 2/50\n",
      "77/77 [==============================] - 22s 287ms/step - loss: 0.1816 - accuracy: 0.9487 - val_loss: 0.3557 - val_accuracy: 0.8684\n",
      "Epoch 3/50\n",
      "77/77 [==============================] - 25s 324ms/step - loss: 0.1277 - accuracy: 0.9635 - val_loss: 0.3281 - val_accuracy: 0.8750\n",
      "Epoch 4/50\n",
      "77/77 [==============================] - 22s 285ms/step - loss: 0.1023 - accuracy: 0.9713 - val_loss: 0.2854 - val_accuracy: 0.8882\n",
      "Epoch 5/50\n",
      "77/77 [==============================] - 22s 282ms/step - loss: 0.0864 - accuracy: 0.9746 - val_loss: 0.2170 - val_accuracy: 0.8964\n",
      "Epoch 6/50\n",
      "77/77 [==============================] - 20s 256ms/step - loss: 0.0743 - accuracy: 0.9774 - val_loss: 0.1692 - val_accuracy: 0.9178\n",
      "Epoch 7/50\n",
      "77/77 [==============================] - 21s 271ms/step - loss: 0.0647 - accuracy: 0.9820 - val_loss: 0.1748 - val_accuracy: 0.9178\n",
      "Epoch 8/50\n",
      "77/77 [==============================] - 20s 259ms/step - loss: 0.0590 - accuracy: 0.9820 - val_loss: 0.1745 - val_accuracy: 0.9178\n",
      "Epoch 9/50\n",
      "77/77 [==============================] - 20s 255ms/step - loss: 0.0523 - accuracy: 0.9844 - val_loss: 0.1185 - val_accuracy: 0.9441\n",
      "Epoch 10/50\n",
      "77/77 [==============================] - 20s 258ms/step - loss: 0.0502 - accuracy: 0.9844 - val_loss: 0.1446 - val_accuracy: 0.9326\n",
      "Epoch 11/50\n",
      "77/77 [==============================] - 21s 270ms/step - loss: 0.0457 - accuracy: 0.9856 - val_loss: 0.1393 - val_accuracy: 0.9375\n",
      "Epoch 12/50\n",
      "77/77 [==============================] - 20s 258ms/step - loss: 0.0429 - accuracy: 0.9852 - val_loss: 0.1328 - val_accuracy: 0.9424\n",
      "Epoch 13/50\n",
      "77/77 [==============================] - 21s 276ms/step - loss: 0.0404 - accuracy: 0.9844 - val_loss: 0.0991 - val_accuracy: 0.9507\n",
      "Epoch 14/50\n",
      "77/77 [==============================] - 20s 262ms/step - loss: 0.0389 - accuracy: 0.9840 - val_loss: 0.1022 - val_accuracy: 0.9490\n",
      "Epoch 15/50\n",
      "77/77 [==============================] - 20s 254ms/step - loss: 0.0368 - accuracy: 0.9869 - val_loss: 0.0981 - val_accuracy: 0.9556\n",
      "Epoch 16/50\n",
      "77/77 [==============================] - 20s 260ms/step - loss: 0.0347 - accuracy: 0.9865 - val_loss: 0.1045 - val_accuracy: 0.9490\n",
      "Epoch 17/50\n",
      "77/77 [==============================] - 20s 253ms/step - loss: 0.0312 - accuracy: 0.9873 - val_loss: 0.0950 - val_accuracy: 0.9589\n",
      "Epoch 18/50\n",
      "77/77 [==============================] - 20s 264ms/step - loss: 0.0311 - accuracy: 0.9877 - val_loss: 0.0698 - val_accuracy: 0.9655\n",
      "Epoch 19/50\n",
      "77/77 [==============================] - 22s 289ms/step - loss: 0.0295 - accuracy: 0.9889 - val_loss: 0.0808 - val_accuracy: 0.9622\n",
      "Epoch 20/50\n",
      "77/77 [==============================] - 21s 275ms/step - loss: 0.0280 - accuracy: 0.9910 - val_loss: 0.0960 - val_accuracy: 0.9605\n",
      "Epoch 21/50\n",
      "77/77 [==============================] - 22s 284ms/step - loss: 0.0271 - accuracy: 0.9914 - val_loss: 0.0781 - val_accuracy: 0.9638\n",
      "Epoch 22/50\n",
      "77/77 [==============================] - 21s 276ms/step - loss: 0.0265 - accuracy: 0.9906 - val_loss: 0.0738 - val_accuracy: 0.9655\n",
      "Epoch 23/50\n",
      "77/77 [==============================] - 20s 262ms/step - loss: 0.0254 - accuracy: 0.9914 - val_loss: 0.0838 - val_accuracy: 0.9638\n",
      "Epoch 24/50\n",
      "77/77 [==============================] - 20s 258ms/step - loss: 0.0243 - accuracy: 0.9922 - val_loss: 0.1396 - val_accuracy: 0.9441\n",
      "Epoch 25/50\n",
      "77/77 [==============================] - 20s 254ms/step - loss: 0.0225 - accuracy: 0.9922 - val_loss: 0.0696 - val_accuracy: 0.9655\n",
      "Epoch 26/50\n",
      "77/77 [==============================] - 20s 265ms/step - loss: 0.0220 - accuracy: 0.9926 - val_loss: 0.0852 - val_accuracy: 0.9638\n",
      "Epoch 27/50\n",
      "77/77 [==============================] - 20s 259ms/step - loss: 0.0213 - accuracy: 0.9914 - val_loss: 0.0825 - val_accuracy: 0.9655\n",
      "Epoch 28/50\n",
      "77/77 [==============================] - 21s 267ms/step - loss: 0.0199 - accuracy: 0.9934 - val_loss: 0.0914 - val_accuracy: 0.9638\n",
      "Epoch 29/50\n",
      "77/77 [==============================] - 20s 262ms/step - loss: 0.0207 - accuracy: 0.9926 - val_loss: 0.0889 - val_accuracy: 0.9655\n",
      "Epoch 30/50\n",
      "77/77 [==============================] - 21s 270ms/step - loss: 0.0191 - accuracy: 0.9934 - val_loss: 0.0752 - val_accuracy: 0.9655\n",
      "Epoch 31/50\n",
      "77/77 [==============================] - 20s 257ms/step - loss: 0.0182 - accuracy: 0.9938 - val_loss: 0.0749 - val_accuracy: 0.9655\n",
      "Epoch 32/50\n",
      "77/77 [==============================] - 20s 262ms/step - loss: 0.0171 - accuracy: 0.9951 - val_loss: 0.0800 - val_accuracy: 0.9671\n",
      "Epoch 33/50\n",
      "77/77 [==============================] - 19s 252ms/step - loss: 0.0154 - accuracy: 0.9959 - val_loss: 0.0884 - val_accuracy: 0.9655\n",
      "Epoch 34/50\n",
      "77/77 [==============================] - 23s 294ms/step - loss: 0.0166 - accuracy: 0.9947 - val_loss: 0.0558 - val_accuracy: 0.9737\n",
      "Epoch 35/50\n",
      "77/77 [==============================] - 22s 279ms/step - loss: 0.0156 - accuracy: 0.9963 - val_loss: 0.0767 - val_accuracy: 0.9671\n",
      "Epoch 36/50\n",
      "77/77 [==============================] - 21s 268ms/step - loss: 0.0149 - accuracy: 0.9947 - val_loss: 0.0864 - val_accuracy: 0.9655\n",
      "Epoch 37/50\n",
      "77/77 [==============================] - 22s 287ms/step - loss: 0.0144 - accuracy: 0.9955 - val_loss: 0.0832 - val_accuracy: 0.9655\n",
      "Epoch 38/50\n",
      "77/77 [==============================] - 21s 266ms/step - loss: 0.0151 - accuracy: 0.9947 - val_loss: 0.0549 - val_accuracy: 0.9753\n",
      "Epoch 39/50\n",
      "77/77 [==============================] - 20s 256ms/step - loss: 0.0129 - accuracy: 0.9955 - val_loss: 0.0477 - val_accuracy: 0.9803\n",
      "Epoch 40/50\n",
      "77/77 [==============================] - 22s 284ms/step - loss: 0.0138 - accuracy: 0.9963 - val_loss: 0.0627 - val_accuracy: 0.9704\n",
      "Epoch 41/50\n",
      "77/77 [==============================] - 21s 267ms/step - loss: 0.0127 - accuracy: 0.9967 - val_loss: 0.0800 - val_accuracy: 0.9655\n",
      "Epoch 42/50\n",
      "77/77 [==============================] - 20s 266ms/step - loss: 0.0128 - accuracy: 0.9963 - val_loss: 0.0573 - val_accuracy: 0.9737\n",
      "Epoch 43/50\n",
      "77/77 [==============================] - 22s 281ms/step - loss: 0.0122 - accuracy: 0.9967 - val_loss: 0.0757 - val_accuracy: 0.9688\n",
      "Epoch 44/50\n",
      "77/77 [==============================] - 21s 275ms/step - loss: 0.0111 - accuracy: 0.9979 - val_loss: 0.0608 - val_accuracy: 0.9720\n",
      "Epoch 45/50\n",
      "77/77 [==============================] - 20s 257ms/step - loss: 0.0109 - accuracy: 0.9971 - val_loss: 0.0781 - val_accuracy: 0.9671\n",
      "Epoch 46/50\n",
      "77/77 [==============================] - 22s 281ms/step - loss: 0.0118 - accuracy: 0.9967 - val_loss: 0.0671 - val_accuracy: 0.9704\n",
      "Epoch 47/50\n",
      "77/77 [==============================] - 21s 277ms/step - loss: 0.0108 - accuracy: 0.9967 - val_loss: 0.0785 - val_accuracy: 0.9704\n",
      "Epoch 48/50\n",
      "77/77 [==============================] - 19s 253ms/step - loss: 0.0101 - accuracy: 0.9975 - val_loss: 0.0514 - val_accuracy: 0.9753\n",
      "Epoch 49/50\n",
      "77/77 [==============================] - 22s 279ms/step - loss: 0.0099 - accuracy: 0.9979 - val_loss: 0.0572 - val_accuracy: 0.9737\n",
      "Epoch 50/50\n",
      "77/77 [==============================] - 21s 276ms/step - loss: 0.0101 - accuracy: 0.9971 - val_loss: 0.0611 - val_accuracy: 0.9737\n"
     ]
    }
   ],
   "source": [
    "# Train the model\n",
    "start_time = time.time()\n",
    "\n",
    "history_model_vgg16 = model_vgg16.fit(train_generator,\n",
    "          steps_per_epoch=train_generator.n // batch_size,\n",
    "          epochs=50,\n",
    "          validation_data=valid_generator,\n",
    "          validation_steps=valid_generator.n // batch_size)"
   ]
  },
  {
   "cell_type": "code",
   "execution_count": 99,
   "metadata": {},
   "outputs": [
    {
     "name": "stdout",
     "output_type": "stream",
     "text": [
      "Training time for VGG 16: 1040.4228146076202 seconds\n"
     ]
    }
   ],
   "source": [
    "end_time = time.time()\n",
    "training_time = end_time - start_time\n",
    "print(f\"Training time for VGG 16: {training_time} seconds\")"
   ]
  },
  {
   "cell_type": "code",
   "execution_count": 100,
   "metadata": {
    "colab": {
     "base_uri": "https://localhost:8080/"
    },
    "id": "lVxy1zq3UdiS",
    "outputId": "e1887949-54a1-4267-9192-f5ea844d4113"
   },
   "outputs": [],
   "source": [
    "model_vgg16.save(model_path + '/vgg16.h5')"
   ]
  },
  {
   "cell_type": "code",
   "execution_count": 101,
   "metadata": {
    "colab": {
     "base_uri": "https://localhost:8080/"
    },
    "id": "ABqNpC5LUdiT",
    "outputId": "d96ae649-b8b1-41fd-dad1-4bd562bc1bf0"
   },
   "outputs": [
    {
     "name": "stdout",
     "output_type": "stream",
     "text": [
      "20/20 [==============================] - 5s 250ms/step\n",
      "Inference time: 5.600356578826904\n"
     ]
    }
   ],
   "source": [
    "# Evaluate the model\n",
    "valid_generator.reset()\n",
    "#predictions = model.predict(valid_generator, steps=valid_generator.n // batch_size)\n",
    "start_time = time.time()\n",
    "predictions = model_vgg16.predict(valid_generator)\n",
    "\n",
    "end_time = time.time()\n",
    "\n",
    "inference_time_batch = end_time - start_time\n",
    "print(\"Inference time:\", inference_time_batch)"
   ]
  },
  {
   "cell_type": "code",
   "execution_count": 43,
   "metadata": {
    "id": "-b6czVXbUdiU"
   },
   "outputs": [],
   "source": [
    "# Get the predicted classes\n",
    "predicted_classes = np.argmax(predictions, axis=1)\n",
    "\n",
    "# Get the true classes\n",
    "true_classes = valid_generator.classes"
   ]
  },
  {
   "cell_type": "code",
   "execution_count": 44,
   "metadata": {
    "colab": {
     "base_uri": "https://localhost:8080/"
    },
    "id": "7UF-NLXzUdiV",
    "outputId": "a3feb7f4-93cf-41ba-9c88-497c1d0eb93a"
   },
   "outputs": [
    {
     "name": "stdout",
     "output_type": "stream",
     "text": [
      "Specificity: 0.42105263157894735\n",
      "Precision: 0.5612535612535613\n",
      "Recall: 0.5612535612535613\n",
      "F1 Score: 0.5612535612535613\n"
     ]
    }
   ],
   "source": [
    "# Calculate performance metrics\n",
    "confusion = confusion_matrix(true_classes, predicted_classes)\n",
    "tn, fp, fn, tp = confusion.ravel()\n",
    "specificity = tn / (tn + fp)\n",
    "precision = precision_score(true_classes, predicted_classes)\n",
    "recall = recall_score(true_classes, predicted_classes)\n",
    "f1 = f1_score(true_classes, predicted_classes)\n",
    "\n",
    "# Print the performance metrics\n",
    "print('Specificity:', specificity)\n",
    "print('Precision:', precision)\n",
    "print('Recall:', recall)\n",
    "print('F1 Score:', f1)"
   ]
  },
  {
   "cell_type": "code",
   "execution_count": 45,
   "metadata": {
    "id": "MqJIV_97UdiV"
   },
   "outputs": [],
   "source": [
    "Accuracy =  (tp + tn) / ( tp + tn + fp + fn)"
   ]
  },
  {
   "cell_type": "code",
   "execution_count": 46,
   "metadata": {
    "colab": {
     "base_uri": "https://localhost:8080/"
    },
    "id": "AilCkOf4NfLq",
    "outputId": "47011d8a-79b5-4b3d-f2ee-452dd3e21ef7"
   },
   "outputs": [
    {
     "data": {
      "text/plain": [
       "0.5008103727714749"
      ]
     },
     "execution_count": 46,
     "metadata": {},
     "output_type": "execute_result"
    }
   ],
   "source": [
    "Accuracy"
   ]
  },
  {
   "cell_type": "code",
   "execution_count": 47,
   "metadata": {
    "colab": {
     "base_uri": "https://localhost:8080/"
    },
    "id": "8K2by40KUdiW",
    "outputId": "c094bcd3-cf7f-4c48-86bc-cd1a45f2f3c8"
   },
   "outputs": [
    {
     "name": "stdout",
     "output_type": "stream",
     "text": [
      "20/20 [==============================] - 4s 214ms/step - loss: 1.7491e-04 - accuracy: 1.0000\n"
     ]
    }
   ],
   "source": [
    "loss,acc = model_vgg16.evaluate(valid_generator)"
   ]
  },
  {
   "cell_type": "code",
   "execution_count": 48,
   "metadata": {},
   "outputs": [
    {
     "data": {
      "text/plain": [
       "0.00017491135804448277"
      ]
     },
     "execution_count": 48,
     "metadata": {},
     "output_type": "execute_result"
    }
   ],
   "source": [
    "loss"
   ]
  },
  {
   "cell_type": "code",
   "execution_count": 49,
   "metadata": {
    "colab": {
     "base_uri": "https://localhost:8080/",
     "height": 564
    },
    "id": "KrE5h903Udia",
    "outputId": "97f9cac6-767c-4f5b-c258-e33ca93d32e1"
   },
   "outputs": [
    {
     "data": {
      "image/png": "[encoded data removed]",
      "text/plain": [
       "<Figure size 800x600 with 2 Axes>"
      ]
     },
     "metadata": {},
     "output_type": "display_data"
    }
   ],
   "source": [
    "# Plot the confusion matrix\n",
    "plt.figure(figsize=(8, 6))\n",
    "sns.heatmap(confusion, annot=True, fmt='d', cmap='Blues', xticklabels=class_names, yticklabels=class_names)\n",
    "plt.xlabel('Predicted')\n",
    "plt.ylabel('True')\n",
    "plt.title('VGG 16 Confusion Matrix')\n",
    "plt.savefig(model_path + '/vgg_conf_matrix.png')\n",
    "plt.show()"
   ]
  },
  {
   "cell_type": "code",
   "execution_count": 50,
   "metadata": {
    "colab": {
     "base_uri": "https://localhost:8080/",
     "height": 407
    },
    "id": "E4mnmocTUdic",
    "outputId": "d198736d-173d-474c-dbc7-7f308bfb50b7"
   },
   "outputs": [
    {
     "data": {
      "image/png": "[encoded data removed]",
      "text/plain": [
       "<Figure size 1000x400 with 2 Axes>"
      ]
     },
     "metadata": {},
     "output_type": "display_data"
    }
   ],
   "source": [
    "plt.figure(figsize=(10, 4))\n",
    "plt.subplot(1, 2, 1)\n",
    "plt.plot(history_model_vgg16.history['loss'], label='Training Loss')\n",
    "plt.plot(history_model_vgg16.history['val_loss'], label='Validation Loss')\n",
    "plt.title('VGG-16')\n",
    "plt.xlabel('Epoch')\n",
    "plt.ylabel('Loss')\n",
    "plt.legend()\n",
    "plt.xticks([10, 20, 30])\n",
    "plt.yticks([.2, .4, .6, .8, 1, 1.2])\n",
    "plt.savefig(model_path + '/vgg_loss.png')\n",
    "\n",
    "# Plot training accuracy and validation accuracy\n",
    "plt.subplot(1, 2, 2)\n",
    "plt.plot(history_model_vgg16.history['accuracy'], label='Training Accuracy')\n",
    "plt.plot(history_model_vgg16.history['val_accuracy'], label='Validation Accuracy')\n",
    "plt.title('VGG-16')\n",
    "plt.xlabel('Epoch')\n",
    "plt.ylabel('Accuracy')\n",
    "plt.legend()\n",
    "plt.xticks([10, 20, 30])\n",
    "plt.yticks([.2, .4, .6, .8, 1, 1.2])\n",
    "plt.savefig(model_path + '/vgg_acc.png')\n",
    "# Adjust layout and display the plot\n",
    "plt.tight_layout()\n",
    "plt.show()\n",
    "\n"
   ]
  },
  {
   "cell_type": "code",
   "execution_count": null,
   "metadata": {
    "id": "B6AIY9IrxjSg"
   },
   "outputs": [],
   "source": []
  },
  {
   "cell_type": "markdown",
   "metadata": {
    "id": "zBTWdMddxxF5",
    "tags": []
   },
   "source": [
    "# Model Evaluation Metrics for VGG\n",
    "[link](https://machinelearningmastery.com/how-to-calculate-precision-recall-f1-and-more-for-deep-learning-models/)"
   ]
  },
  {
   "cell_type": "code",
   "execution_count": 51,
   "metadata": {
    "colab": {
     "base_uri": "https://localhost:8080/"
    },
    "id": "lVz6CX_HxxGB",
    "outputId": "abdafee5-0746-4487-cbaf-fafa5a723c84"
   },
   "outputs": [
    {
     "name": "stdout",
     "output_type": "stream",
     "text": [
      "20/20 [==============================] - 4s 207ms/step\n",
      "tn:  113 fp:  153 fn:  153 tp:  198\n",
      "Specificity: 0.424812030075188\n",
      "Precision: 0.5641025641025641\n",
      "Recall: 0.5641025641025641\n",
      "F1 Score: 0.5641025641025641\n",
      "Accuracy:  0.5040518638573744\n"
     ]
    }
   ],
   "source": [
    "# Evaluate the model\n",
    "valid_generator.reset()\n",
    "#predictions = model.predict(valid_generator, steps=valid_generator.n // batch_size)\n",
    "predictions = model_vgg16.predict(valid_generator)   #yhat_probs\n",
    "\n",
    "# Get the predicted classes\n",
    "predicted_classes = np.argmax(predictions, axis=1)    #yhat_classes\n",
    "\n",
    "# Get the true classes\n",
    "true_classes = valid_generator.classes\n",
    "\n",
    "\n",
    "# Calculate performance metrics\n",
    "confusion = confusion_matrix(true_classes, predicted_classes)\n",
    "tn, fp, fn, tp = confusion.ravel()\n",
    "print(\"tn: \", tn ,\"fp: \", fp,\"fn: \", fn,\"tp: \", tp)\n",
    "specificity = tn / (tn + fp)\n",
    "precision = precision_score(true_classes, predicted_classes)\n",
    "recall = recall_score(true_classes, predicted_classes)\n",
    "f1 = f1_score(true_classes, predicted_classes)\n",
    "\n",
    "# Print the performance metrics\n",
    "print('Specificity:', specificity)\n",
    "print('Precision:', precision)\n",
    "print('Recall:', recall)\n",
    "print('F1 Score:', f1)\n",
    "\n",
    "Accuracy =  (tp + tn) / ( tp + tn + fp + fn)\n",
    "print(\"Accuracy: \" , Accuracy)"
   ]
  },
  {
   "cell_type": "code",
   "execution_count": 9,
   "metadata": {},
   "outputs": [],
   "source": []
  },
  {
   "cell_type": "markdown",
   "metadata": {
    "id": "mFE32-GeO_dO"
   },
   "source": [
    "# full weight optimization section"
   ]
  },
  {
   "cell_type": "code",
   "execution_count": 102,
   "metadata": {
    "id": "tcAFr8PB4eUY"
   },
   "outputs": [
    {
     "name": "stdout",
     "output_type": "stream",
     "text": [
      "WARNING:tensorflow:Error in loading the saved optimizer state. As a result, your model is starting with a freshly initialized optimizer.\n",
      "WARNING:tensorflow:Error in loading the saved optimizer state. As a result, your model is starting with a freshly initialized optimizer.\n"
     ]
    }
   ],
   "source": [
    "m1 = load_model(model_path + '/resnet152.h5')\n",
    "\n",
    "m1 = Model(inputs = m1.inputs, outputs = m1.outputs,\n",
    "          name = 'resnet152')\n",
    "\n",
    "\n",
    "m2 = load_model(model_path + '/dense201.h5')\n",
    "m2 = Model(inputs = m2.inputs, outputs = m2.outputs,\n",
    "          name = 'densenet201')\n",
    "\n",
    "\n",
    "m3 = load_model(model_path + '/vgg16.h5')\n",
    "m3 = Model(inputs = m3.inputs, outputs = m3.outputs,\n",
    "          name = 'vgg16')\n",
    "\n",
    "models = [m1, m2, m3]"
   ]
  },
  {
   "cell_type": "code",
   "execution_count": 103,
   "metadata": {},
   "outputs": [
    {
     "data": {
      "text/plain": [
       "3"
      ]
     },
     "execution_count": 103,
     "metadata": {},
     "output_type": "execute_result"
    }
   ],
   "source": [
    "len(models)"
   ]
  },
  {
   "cell_type": "code",
   "execution_count": 104,
   "metadata": {
    "id": "qQLHAqaY4kAm"
   },
   "outputs": [],
   "source": [
    "model_input = tf.keras.Input(shape = (img_height,img_width,3))\n",
    "model_outputs = [model(model_input) for model in models]"
   ]
  },
  {
   "cell_type": "code",
   "execution_count": 107,
   "metadata": {
    "id": "TJjmOnhb4yde"
   },
   "outputs": [],
   "source": [
    "class WeightedAverageLayer(tf.keras.layers.Layer):\n",
    "    def __init__(self, w1, w2, w3, **kwargs):\n",
    "        super(WeightedAverageLayer, self).__init__(**kwargs)\n",
    "        self.w1 = w1\n",
    "        self.w2 = w2\n",
    "        self.w3 = w3\n",
    "\n",
    "    def call(self, inputs):\n",
    "        return self.w1 * inputs[0] + self.w2 * inputs[1] + self.w3 * inputs[2]\n",
    "    #added -------------------------------------------------------------------------------------------------------------\n",
    "    # def get_config(self, w1, w2, w3):\n",
    "    #     config = super().get_config()\n",
    "    #     config.update({\n",
    "    #         self.w1 = w1\n",
    "    #         self.w2 = w2\n",
    "    #         self.w3 = w3\n",
    "    #         })\n",
    "    #     return config"
   ]
  },
  {
   "cell_type": "code",
   "execution_count": 108,
   "metadata": {
    "id": "8SzhLQs2Fkt7"
   },
   "outputs": [],
   "source": [
    "num = [[.5, .1, .4]]"
   ]
  },
  {
   "cell_type": "code",
   "execution_count": null,
   "metadata": {
    "colab": {
     "base_uri": "https://localhost:8080/"
    },
    "id": "f1vqLW6LPBMq",
    "outputId": "6005e52e-4569-4d88-9f2d-c48769693279"
   },
   "outputs": [
    {
     "name": "stdout",
     "output_type": "stream",
     "text": [
      "0.5 0.1 0.4\n",
      "Epoch 1/50\n",
      "77/77 [==============================] - 90s 809ms/step - loss: 0.0385 - accuracy: 0.9951 - val_loss: 0.0799 - val_accuracy: 0.9836\n",
      "Epoch 2/50\n",
      "77/77 [==============================] - 56s 723ms/step - loss: 0.0375 - accuracy: 0.9959 - val_loss: 0.0801 - val_accuracy: 0.9836\n",
      "Epoch 3/50\n",
      "77/77 [==============================] - 57s 737ms/step - loss: 0.0360 - accuracy: 0.9963 - val_loss: 0.0895 - val_accuracy: 0.9770\n",
      "Epoch 4/50\n",
      "77/77 [==============================] - 63s 822ms/step - loss: 0.0366 - accuracy: 0.9959 - val_loss: 0.0788 - val_accuracy: 0.9836\n",
      "Epoch 5/50\n",
      "77/77 [==============================] - 75s 981ms/step - loss: 0.0330 - accuracy: 0.9967 - val_loss: 0.0722 - val_accuracy: 0.9836\n",
      "Epoch 6/50\n",
      "77/77 [==============================] - 83s 1s/step - loss: 0.0325 - accuracy: 0.9963 - val_loss: 0.0817 - val_accuracy: 0.9786\n",
      "Epoch 7/50\n",
      "77/77 [==============================] - 90s 1s/step - loss: 0.0329 - accuracy: 0.9967 - val_loss: 0.0728 - val_accuracy: 0.9836\n",
      "Epoch 8/50\n",
      "77/77 [==============================] - 94s 1s/step - loss: 0.0311 - accuracy: 0.9967 - val_loss: 0.0736 - val_accuracy: 0.9852\n",
      "Epoch 9/50\n",
      "77/77 [==============================] - 96s 1s/step - loss: 0.0297 - accuracy: 0.9975 - val_loss: 0.0859 - val_accuracy: 0.9753\n",
      "Epoch 10/50\n",
      "77/77 [==============================] - 97s 1s/step - loss: 0.0316 - accuracy: 0.9959 - val_loss: 0.0798 - val_accuracy: 0.9770\n",
      "Epoch 11/50\n",
      "77/77 [==============================] - 78s 1s/step - loss: 0.0282 - accuracy: 0.9951 - val_loss: 0.0768 - val_accuracy: 0.9836\n",
      "Epoch 12/50\n",
      "77/77 [==============================] - 96s 1s/step - loss: 0.0279 - accuracy: 0.9967 - val_loss: 0.0767 - val_accuracy: 0.9803\n",
      "Epoch 13/50\n",
      "77/77 [==============================] - 92s 1s/step - loss: 0.0277 - accuracy: 0.9959 - val_loss: 0.0731 - val_accuracy: 0.9836\n",
      "Epoch 14/50\n",
      "77/77 [==============================] - 79s 1s/step - loss: 0.0265 - accuracy: 0.9959 - val_loss: 0.0780 - val_accuracy: 0.9786\n",
      "Epoch 15/50\n",
      "77/77 [==============================] - 87s 1s/step - loss: 0.0272 - accuracy: 0.9967 - val_loss: 0.0793 - val_accuracy: 0.9770\n",
      "Epoch 16/50\n",
      "77/77 [==============================] - 71s 926ms/step - loss: 0.0262 - accuracy: 0.9975 - val_loss: 0.0767 - val_accuracy: 0.9836\n",
      "Epoch 17/50\n",
      "77/77 [==============================] - 79s 1s/step - loss: 0.0267 - accuracy: 0.9951 - val_loss: 0.0779 - val_accuracy: 0.9836\n",
      "Epoch 18/50\n",
      "77/77 [==============================] - 71s 924ms/step - loss: 0.0250 - accuracy: 0.9967 - val_loss: 0.0787 - val_accuracy: 0.9737\n",
      "Epoch 19/50\n",
      "77/77 [==============================] - 88s 1s/step - loss: 0.0247 - accuracy: 0.9967 - val_loss: 0.0691 - val_accuracy: 0.9803\n",
      "Epoch 20/50\n",
      "77/77 [==============================] - 81s 1s/step - loss: 0.0236 - accuracy: 0.9963 - val_loss: 0.0746 - val_accuracy: 0.9803\n",
      "Epoch 21/50\n",
      "77/77 [==============================] - 80s 1s/step - loss: 0.0252 - accuracy: 0.9963 - val_loss: 0.0764 - val_accuracy: 0.9836\n",
      "Epoch 22/50\n",
      "77/77 [==============================] - 79s 1s/step - loss: 0.0247 - accuracy: 0.9975 - val_loss: 0.0794 - val_accuracy: 0.9770\n",
      "Epoch 23/50\n",
      "77/77 [==============================] - 80s 1s/step - loss: 0.0244 - accuracy: 0.9963 - val_loss: 0.0747 - val_accuracy: 0.9786\n",
      "Epoch 24/50\n",
      "77/77 [==============================] - 83s 1s/step - loss: 0.0228 - accuracy: 0.9963 - val_loss: 0.0717 - val_accuracy: 0.9868\n",
      "Epoch 25/50\n",
      "77/77 [==============================] - 85s 1s/step - loss: 0.0233 - accuracy: 0.9967 - val_loss: 0.0835 - val_accuracy: 0.9688\n",
      "Epoch 26/50\n",
      "77/77 [==============================] - 80s 1s/step - loss: 0.0219 - accuracy: 0.9971 - val_loss: 0.0816 - val_accuracy: 0.9803\n",
      "Epoch 27/50\n",
      "77/77 [==============================] - 77s 1s/step - loss: 0.0217 - accuracy: 0.9967 - val_loss: 0.0808 - val_accuracy: 0.9852\n",
      "Epoch 28/50\n",
      "77/77 [==============================] - 77s 999ms/step - loss: 0.0216 - accuracy: 0.9967 - val_loss: 0.0717 - val_accuracy: 0.9803\n",
      "Epoch 29/50\n",
      "77/77 [==============================] - 604s 8s/step - loss: 0.0194 - accuracy: 0.9967 - val_loss: 0.0725 - val_accuracy: 0.9803\n",
      "Epoch 30/50\n",
      "77/77 [==============================] - 195s 3s/step - loss: 0.0217 - accuracy: 0.9963 - val_loss: 0.0881 - val_accuracy: 0.9688\n",
      "Epoch 31/50\n",
      "77/77 [==============================] - 194s 3s/step - loss: 0.0206 - accuracy: 0.9971 - val_loss: 0.0673 - val_accuracy: 0.9868\n",
      "Epoch 32/50\n",
      "77/77 [==============================] - 194s 3s/step - loss: 0.0202 - accuracy: 0.9971 - val_loss: 0.0767 - val_accuracy: 0.9786\n",
      "Epoch 33/50\n",
      "77/77 [==============================] - 194s 3s/step - loss: 0.0197 - accuracy: 0.9971 - val_loss: 0.0786 - val_accuracy: 0.9836\n",
      "Epoch 34/50\n",
      "77/77 [==============================] - 195s 3s/step - loss: 0.0193 - accuracy: 0.9975 - val_loss: 0.0787 - val_accuracy: 0.9901\n",
      "Epoch 35/50\n",
      "77/77 [==============================] - 194s 3s/step - loss: 0.0191 - accuracy: 0.9971 - val_loss: 0.0803 - val_accuracy: 0.9753\n",
      "Epoch 36/50\n",
      "77/77 [==============================] - 194s 3s/step - loss: 0.0193 - accuracy: 0.9967 - val_loss: 0.0683 - val_accuracy: 0.9836\n",
      "Epoch 37/50\n",
      "77/77 [==============================] - 194s 3s/step - loss: 0.0183 - accuracy: 0.9971 - val_loss: 0.0740 - val_accuracy: 0.9836\n",
      "Epoch 38/50\n",
      "77/77 [==============================] - 194s 3s/step - loss: 0.0186 - accuracy: 0.9975 - val_loss: 0.0729 - val_accuracy: 0.9819\n",
      "Epoch 39/50\n",
      "77/77 [==============================] - 195s 3s/step - loss: 0.0183 - accuracy: 0.9971 - val_loss: 0.0699 - val_accuracy: 0.9803\n",
      "Epoch 40/50\n",
      "77/77 [==============================] - 194s 3s/step - loss: 0.0186 - accuracy: 0.9967 - val_loss: 0.0774 - val_accuracy: 0.9770\n",
      "Epoch 41/50\n",
      "77/77 [==============================] - 194s 3s/step - loss: 0.0175 - accuracy: 0.9967 - val_loss: 0.0731 - val_accuracy: 0.9803\n",
      "Epoch 42/50\n",
      "77/77 [==============================] - 194s 3s/step - loss: 0.0183 - accuracy: 0.9971 - val_loss: 0.0710 - val_accuracy: 0.9803\n",
      "Epoch 43/50\n",
      "77/77 [==============================] - 373s 5s/step - loss: 0.0171 - accuracy: 0.9975 - val_loss: 0.0676 - val_accuracy: 0.9803\n",
      "Epoch 44/50\n",
      "77/77 [==============================] - 697s 9s/step - loss: 0.0153 - accuracy: 0.9975 - val_loss: 0.0683 - val_accuracy: 0.9803\n",
      "Epoch 45/50\n",
      "16/77 [=====>........................] - ETA: 7:13 - loss: 0.0145 - accuracy: 0.9980"
     ]
    }
   ],
   "source": [
    "\n",
    "opt = Adam(learning_rate = 0.0001)\n",
    "j = 0\n",
    "for i in num:\n",
    "    a = num[j][0]\n",
    "    b = num[j][1]\n",
    "    c = num[j][2]\n",
    "    print(a,b,c)\n",
    "    ensemble_output = WeightedAverageLayer(a,b,c)(model_outputs)\n",
    "    final_model = tf.keras.Model(inputs = model_input, outputs = ensemble_output)\n",
    "\n",
    "    final_model.compile(optimizer = opt, loss=tf.keras.losses.BinaryCrossentropy(), metrics=['accuracy'])\n",
    "\n",
    "    start_time = time.time()\n",
    "\n",
    "    history_final = final_model.fit(\n",
    "        train_generator,\n",
    "          steps_per_epoch=train_generator.n // batch_size,\n",
    "          epochs=50,\n",
    "          validation_data=valid_generator,\n",
    "          validation_steps=valid_generator.n // batch_size\n",
    "    )\n",
    "\n",
    "    end_time = time.time()\n",
    "    training_time = end_time - start_time\n",
    "\n",
    "    print(f\"Training time: {training_time} seconds\")\n",
    "\n",
    "    loss,acc = final_model.evaluate(valid_generator)\n",
    "\n",
    "    # with open('/content/drive/MyDrive/Colab Notebooks/model/original data model/weight(original).txt', 'a') as file:\n",
    "    # #for number in numbers:\n",
    "    #     # Write the number to the file, followed by a newline\n",
    "    #     file.write(str(a) + ' ' + str(b) + ' ' + str(c) + ' ' + str(loss) + ' ' + str(acc) + '\\n')\n",
    "\n",
    "    j = j+1"
   ]
  },
  {
   "cell_type": "code",
   "execution_count": null,
   "metadata": {
    "tags": []
   },
   "outputs": [],
   "source": [
    "final_model.save(model_path + '/final.h5')"
   ]
  },
  {
   "cell_type": "markdown",
   "metadata": {
    "id": "pDJj6uKDPAKK"
   },
   "source": [
    "# New Section"
   ]
  },
  {
   "cell_type": "code",
   "execution_count": null,
   "metadata": {
    "colab": {
     "base_uri": "https://localhost:8080/"
    },
    "id": "pIInTX-EetVX",
    "outputId": "7be05e0a-54cc-416e-cd63-155cfb6ccc41"
   },
   "outputs": [],
   "source": [
    "# Evaluate the model\n",
    "valid_generator.reset()\n",
    "start_time = time.time()\n",
    "#predictions = model.predict(valid_generator, steps=valid_generator.n // batch_size)\n",
    "predictions = final_model.predict(valid_generator)\n",
    "end_time = time.time()\n",
    "\n",
    "inference_time_batch = end_time - start_time\n",
    "print(\"Inference time:\", inference_time_batch)"
   ]
  },
  {
   "cell_type": "code",
   "execution_count": null,
   "metadata": {
    "colab": {
     "base_uri": "https://localhost:8080/"
    },
    "id": "rXt0BHXw7zrO",
    "outputId": "11a82058-ab0a-4547-a63f-53c864525ea5"
   },
   "outputs": [],
   "source": [
    "inference_time_batch"
   ]
  },
  {
   "cell_type": "code",
   "execution_count": null,
   "metadata": {
    "id": "OW6q9DA8etVe"
   },
   "outputs": [],
   "source": [
    "# Get the predicted classes\n",
    "predicted_classes = np.argmax(predictions, axis=1)\n",
    "\n",
    "# Get the true classes\n",
    "true_classes = valid_generator.classes"
   ]
  },
  {
   "cell_type": "code",
   "execution_count": null,
   "metadata": {
    "colab": {
     "base_uri": "https://localhost:8080/"
    },
    "id": "QhmqFjyTetVe",
    "outputId": "6e15df73-edb0-4597-aafa-e5c56b141eb1"
   },
   "outputs": [],
   "source": [
    "# Calculate performance metrics\n",
    "confusion = confusion_matrix(true_classes, predicted_classes)\n",
    "tn, fp, fn, tp = confusion.ravel()\n",
    "specificity = tn / (tn + fp)\n",
    "precision = precision_score(true_classes, predicted_classes)\n",
    "recall = recall_score(true_classes, predicted_classes)\n",
    "f1 = f1_score(true_classes, predicted_classes)\n",
    "\n",
    "# Print the performance metrics\n",
    "print('Specificity:', specificity)\n",
    "print('Precision:', precision)\n",
    "print('Recall:', recall)\n",
    "print('F1 Score:', f1)"
   ]
  },
  {
   "cell_type": "code",
   "execution_count": null,
   "metadata": {
    "colab": {
     "base_uri": "https://localhost:8080/"
    },
    "id": "anKdqfOwetVe",
    "outputId": "85ad8c29-11aa-4264-af62-b68d8c369d76"
   },
   "outputs": [],
   "source": [
    "Accuracy =  (tp + tn) / ( tp + tn + fp + fn)\n",
    "print(Accuracy)"
   ]
  },
  {
   "cell_type": "code",
   "execution_count": null,
   "metadata": {
    "colab": {
     "base_uri": "https://localhost:8080/"
    },
    "id": "K_K99LjwetVf",
    "outputId": "ea4da276-60d3-4d02-d57f-0b2a0aad7fb1"
   },
   "outputs": [],
   "source": [
    "loss,acc = final_model.evaluate(valid_generator)"
   ]
  },
  {
   "cell_type": "code",
   "execution_count": null,
   "metadata": {
    "colab": {
     "base_uri": "https://localhost:8080/",
     "height": 564
    },
    "id": "nHf-MNq9etVf",
    "outputId": "084af1fe-9e2e-490d-cc38-386b4dad9f2f"
   },
   "outputs": [],
   "source": [
    "# Plot the confusion matrix\n",
    "plt.figure(figsize=(8, 6))\n",
    "sns.heatmap(confusion, annot=True, fmt='d', cmap='Blues', xticklabels=class_names, yticklabels=class_names)\n",
    "plt.xlabel('Predicted')\n",
    "plt.ylabel('True')\n",
    "plt.title('Confusion Matrix')\n",
    "plt.savefig(model_path + '/final_conf_matrix.png')\n",
    "plt.show()"
   ]
  },
  {
   "cell_type": "code",
   "execution_count": null,
   "metadata": {
    "colab": {
     "base_uri": "https://localhost:8080/",
     "height": 820
    },
    "id": "a374f5a8",
    "outputId": "a5f9b094-6b1c-441f-fd93-cb7f93b3634c"
   },
   "outputs": [],
   "source": [
    "#plot loss and accuracy graph\n",
    "\n",
    "x = np.arange(1, 20)\n",
    "y = np.arange(0.0, 1.0)\n",
    "#y = np.array([0.0, 0.1, 0.2, 0.3, 0.4, 0.5, 0.6, 0.7, 0.8, 0.9, 1.0])\n",
    "\n",
    "#Plot the Loss Curves\n",
    "plt.figure(figsize=[6,4])\n",
    "#plt.xlim(0, 20)\n",
    "#plt.ylim(0, 1)\n",
    "#plt.xticks(np.arange(2,21,2))\n",
    "#plt.yticks(np.arange(0.0, 1.0, 0.1))\n",
    "print(len(history_final.history['loss']) )\n",
    "plt.plot(range(1, len(history_final.history['loss']) + 1 ), history_final.history['loss'],'r')\n",
    "plt.plot(range(1, len(history_final.history['val_loss']) + 1), history_final.history['val_loss'],'b')\n",
    "#plt.plot(history_final.history['loss'],'r')\n",
    "#plt.plot(history_final.history['val_loss'],'b')\n",
    "plt.legend(['Training loss', 'Validation Loss'])\n",
    "plt.xlabel('Epochs')\n",
    "plt.ylabel('Loss')\n",
    "plt.title('Ensemble Model Loss Curves')\n",
    "plt.xticks([10, 20])\n",
    "plt.yticks([.2, .4, .6, .8, 1, 1.2])\n",
    "#plt.show()\n",
    "plt.savefig(model_path + '/final_loss.png')\n",
    "\n",
    "#Plot the Accuracy Curves\n",
    "plt.figure(figsize=[6,4])\n",
    "#plt.plot(history_final.history['accuracy'],'r')\n",
    "#plt.plot(history_final.history['val_accuracy'],'b')\n",
    "plt.plot(range(1, len(history_final.history['accuracy']) + 1 ), history_final.history['accuracy'],'r')\n",
    "plt.plot(range(1, len(history_final.history['val_accuracy']) + 1), history_final.history['val_accuracy'],'b')\n",
    "plt.legend(['Training Accuracy', 'Validation Accuracy'])\n",
    "plt.xlabel('Epochs ')\n",
    "plt.ylabel('Accuracy')\n",
    "plt.title('Ensemble Model Accuracy Curves')\n",
    "plt.xticks([10, 20])\n",
    "plt.yticks([.2, .4, .6, .8, 1, 1.2])\n",
    "#plt.show()\n",
    "plt.savefig(model_path + '/final_acc.png')"
   ]
  },
  {
   "cell_type": "code",
   "execution_count": null,
   "metadata": {
    "id": "ecfc488c"
   },
   "outputs": [],
   "source": []
  },
  {
   "cell_type": "markdown",
   "metadata": {
    "id": "k7EeEkSf4mVZ"
   },
   "source": [
    "# Model Evaluation Metrics\n",
    "[link](https://machinelearningmastery.com/how-to-calculate-precision-recall-f1-and-more-for-deep-learning-models/)"
   ]
  },
  {
   "cell_type": "code",
   "execution_count": null,
   "metadata": {
    "colab": {
     "base_uri": "https://localhost:8080/"
    },
    "id": "6v97Zu2l4mVq",
    "outputId": "e3d4a070-7aca-468e-a6c2-a4c6b40a54e2"
   },
   "outputs": [],
   "source": [
    "# Evaluate the model\n",
    "valid_generator.reset()\n",
    "#predictions = model.predict(valid_generator, steps=valid_generator.n // batch_size)\n",
    "predictions = final_model.predict(valid_generator)   #yhat_probs\n",
    "\n",
    "# Get the predicted classes\n",
    "predicted_classes = np.argmax(predictions, axis=1)    #yhat_classes\n",
    "\n",
    "# Get the true classes\n",
    "true_classes = valid_generator.classes\n",
    "\n",
    "\n",
    "# Calculate performance metrics\n",
    "confusion = confusion_matrix(true_classes, predicted_classes)\n",
    "tn, fp, fn, tp = confusion.ravel()\n",
    "print(\"tn: \", tn ,\"fp: \", fp,\"fn: \", fn,\"tp: \", tp)\n",
    "specificity = tn / (tn + fp)\n",
    "precision = precision_score(true_classes, predicted_classes)\n",
    "recall = recall_score(true_classes, predicted_classes)\n",
    "f1 = f1_score(true_classes, predicted_classes)\n",
    "\n",
    "# Print the performance metrics\n",
    "print('Specificity:', specificity)\n",
    "print('Precision:', precision)\n",
    "print('Recall:', recall)\n",
    "print('F1 Score:', f1)\n",
    "\n",
    "Accuracy =  (tp + tn) / ( tp + tn + fp + fn)\n",
    "print(\"Accuracy: \" , Accuracy)"
   ]
  },
  {
   "cell_type": "code",
   "execution_count": null,
   "metadata": {},
   "outputs": [],
   "source": []
  },
  {
   "cell_type": "code",
   "execution_count": null,
   "metadata": {},
   "outputs": [],
   "source": []
  },
  {
   "cell_type": "code",
   "execution_count": null,
   "metadata": {},
   "outputs": [],
   "source": []
  },
  {
   "cell_type": "code",
   "execution_count": null,
   "metadata": {},
   "outputs": [],
   "source": []
  }
 ],
 "metadata": {
  "accelerator": "GPU",
  "colab": {
   "collapsed_sections": [
    "Jvd8eRL0LEOF",
    "c_fwiNtBB4ey"
   ],
   "machine_shape": "hm",
   "provenance": []
  },
  "kernelspec": {
   "display_name": "Python 3 (ipykernel)",
   "language": "python",
   "name": "python3"
  },
  "language_info": {
   "codemirror_mode": {
    "name": "ipython",
    "version": 3
   },
   "file_extension": ".py",
   "mimetype": "text/x-python",
   "name": "python",
   "nbconvert_exporter": "python",
   "pygments_lexer": "ipython3",
   "version": "3.10.13"
  },
  "toc-autonumbering": true,
  "toc-showcode": false,
  "toc-showmarkdowntxt": false
 },
 "nbformat": 4,
 "nbformat_minor": 4
}
